{
 "cells": [
  {
   "cell_type": "markdown",
   "metadata": {},
   "source": [
    "# k-NN\n",
    "This notebook will contain my attempts at running k-NN algorithmm on both of eBoss and ManGa datasets."
   ]
  },
  {
   "cell_type": "code",
   "execution_count": 2,
   "metadata": {},
   "outputs": [],
   "source": [
    "import pandas as pd\n",
    "import numpy as np\n",
    "import matplotlib.pyplot as plt\n",
    "from sklearn.pipeline import Pipeline\n",
    "from sklearn.preprocessing import MinMaxScaler, StandardScaler\n",
    "from sklearn.model_selection import KFold, GridSearchCV, train_test_split\n",
    "from sklearn.metrics import classification_report, recall_score, precision_score, f1_score\n",
    "from sklearn.metrics import accuracy_score, auc, roc_auc_score, make_scorer\n",
    "from sklearn.neighbors import KNeighborsClassifier"
   ]
  },
  {
   "cell_type": "markdown",
   "metadata": {},
   "source": [
    "## eBoss Data"
   ]
  },
  {
   "cell_type": "markdown",
   "metadata": {},
   "source": [
    "Reading in the eboss data"
   ]
  },
  {
   "cell_type": "code",
   "execution_count": 3,
   "metadata": {},
   "outputs": [],
   "source": [
    "raw_data_eBoss = pd.read_csv(\"../../../Data/Astronomy.csv\")"
   ]
  },
  {
   "cell_type": "markdown",
   "metadata": {},
   "source": [
    "Taking out the id column"
   ]
  },
  {
   "cell_type": "code",
   "execution_count": 4,
   "metadata": {},
   "outputs": [],
   "source": [
    "trainable_data = raw_data_eBoss.iloc[:, 1:].copy(deep=True)"
   ]
  },
  {
   "cell_type": "markdown",
   "metadata": {},
   "source": [
    "Seperating the X, and Y variables, and doing needed preprocessing."
   ]
  },
  {
   "cell_type": "code",
   "execution_count": 5,
   "metadata": {},
   "outputs": [],
   "source": [
    "X = trainable_data.iloc[:, :-1].copy(deep=True)\n",
    "Y = trainable_data.iloc[:, -1:].copy(deep=True)\n",
    "X = X.apply(pd.to_numeric, args={'errors': 'coerce'})\n",
    "X = X.fillna('0')\n",
    "Y = Y.Hits.map({'bad': 0, 'good': 1})\n",
    "\n",
    "ss = MinMaxScaler()\n",
    "X_scaled = pd.DataFrame(ss.fit_transform(X), columns=X.columns)\n",
    "X = X_scaled"
   ]
  },
  {
   "cell_type": "code",
   "execution_count": 6,
   "metadata": {},
   "outputs": [
    {
     "data": {
      "text/plain": [
       "{'mean_test_precision (no)': array([0.82359538, 0.82728351, 0.76642942, 0.86120996, 0.78149466]),\n",
       " 'mean_test_precision (yes)': array([0.92751597, 0.86086804, 0.89657177, 0.85441771, 0.86681226]),\n",
       " 'mean_test_recall (no)': array([0.73655775, 0.5024264 , 0.65483662, 0.48562493, 0.54162623]),\n",
       " 'mean_test_recall (yes)': array([0.95430028, 0.96900174, 0.94351831, 0.9771702 , 0.9561852 ]),\n",
       " 'mean_test_accuracy': array([0.90747331, 0.85765125, 0.87188612, 0.85765125, 0.85409253]),\n",
       " 'mean_test_auc': array([0.69928826, 0.80071174, 0.80071174, 0.85053381, 0.85053381]),\n",
       " 'mean_test_roc_auc': array([0.84542901, 0.73571407, 0.79917747, 0.73139756, 0.74890571]),\n",
       " 'mean_test_f1': array([0.93971372, 0.90979102, 0.91706885, 0.91008498, 0.90722846]),\n",
       " 'params': [{'n_neighbors': 4},\n",
       "  {'n_neighbors': 5},\n",
       "  {'n_neighbors': 6},\n",
       "  {'n_neighbors': 7},\n",
       "  {'n_neighbors': 8}]}"
      ]
     },
     "execution_count": 6,
     "metadata": {},
     "output_type": "execute_result"
    }
   ],
   "source": [
    "# Defining all the scoring metrics that we need to keep track of.\n",
    "scoring_dict = {\n",
    "    'precision (no)': make_scorer(precision_score, pos_label=0),\n",
    "    'precision (yes)': make_scorer(precision_score, pos_label=1),\n",
    "    'recall (no)': make_scorer(recall_score, pos_label=0),\n",
    "    'recall (yes)': make_scorer(recall_score, pos_label=1),\n",
    "    'accuracy': make_scorer(accuracy_score),\n",
    "    'auc': make_scorer(auc),\n",
    "    'roc_auc': make_scorer(roc_auc_score),\n",
    "    'f1': make_scorer(f1_score),\n",
    "}\n",
    "\n",
    "# Setting up the params.\n",
    "params_grid = {'n_neighbors': [4,5,6,7,8]}\n",
    "\n",
    "# Running the cross-validation on the k-NN with 10 folds.\n",
    "grid_clf = GridSearchCV(KNeighborsClassifier(),\n",
    "                        cv=KFold(n_splits=10, shuffle=True),\n",
    "                        param_grid=params_grid,\n",
    "                        scoring=scoring_dict,\n",
    "                        refit='accuracy', \n",
    "                        return_train_score=False).fit(X,Y)\n",
    "\n",
    "# Extracting relevant metrics. More detailed metrics are available in the cv_results_ object.\n",
    "relevant_metric = {'mean_test_{}'.format(k): grid_clf.cv_results_['mean_test_{}'.format(k)] for k in scoring_dict.keys()}\n",
    "relevant_metric['params'] = grid_clf.cv_results_['params']\n",
    "relevant_metric"
   ]
  },
  {
   "cell_type": "code",
   "execution_count": 7,
   "metadata": {},
   "outputs": [
    {
     "name": "stdout",
     "output_type": "stream",
     "text": [
      "mean_test_precision (no) :  0.823595384449477\n",
      "mean_test_precision (yes) :  0.9275159743208636\n",
      "mean_test_recall (no) :  0.7365577483015204\n",
      "mean_test_recall (yes) :  0.9543002781314983\n",
      "mean_test_accuracy :  0.9074733096085409\n",
      "mean_test_auc :  0.699288256227758\n",
      "mean_test_roc_auc :  0.8454290132165094\n",
      "mean_test_f1 :  0.9397137201508593\n",
      "params :  {'n_neighbors': 4}\n"
     ]
    }
   ],
   "source": [
    "for k,v  in relevant_metric.items():\n",
    "    print(k, \": \", v[0])"
   ]
  },
  {
   "cell_type": "code",
   "execution_count": 8,
   "metadata": {},
   "outputs": [
    {
     "data": {
      "text/plain": [
       "(0.9074733096085409, {'n_neighbors': 4})"
      ]
     },
     "execution_count": 8,
     "metadata": {},
     "output_type": "execute_result"
    }
   ],
   "source": [
    "grid_clf.best_score_, grid_clf.best_params_"
   ]
  },
  {
   "cell_type": "markdown",
   "metadata": {},
   "source": [
    "# Manga Data:"
   ]
  },
  {
   "cell_type": "code",
   "execution_count": 9,
   "metadata": {},
   "outputs": [],
   "source": [
    "raw_data_Manga = pd.read_csv(\"../../../Data/Astronomy20000_Original.csv\")"
   ]
  },
  {
   "cell_type": "markdown",
   "metadata": {},
   "source": [
    "Seperating the X, and Y variables, and doing needed preprocessing."
   ]
  },
  {
   "cell_type": "code",
   "execution_count": 10,
   "metadata": {},
   "outputs": [],
   "source": [
    "X = raw_data_Manga.iloc[:, 1:-1].copy(deep=True)\n",
    "Y = raw_data_Manga.iloc[:, [-1]].copy(deep=True)\n",
    "X = X.fillna('0')\n",
    "Y = Y.Hits.map({'bad': 0, 'good': 1})"
   ]
  },
  {
   "cell_type": "markdown",
   "metadata": {},
   "source": [
    "Running the k-NN"
   ]
  },
  {
   "cell_type": "code",
   "execution_count": 11,
   "metadata": {},
   "outputs": [
    {
     "data": {
      "text/plain": [
       "{'mean_test_precision (no)': array([0.83975376, 0.85230457, 0.84166774, 0.84936824, 0.84020669]),\n",
       " 'mean_test_precision (yes)': array([0.7659387 , 0.69934816, 0.77469676, 0.72487418, 0.77190094]),\n",
       " 'mean_test_recall (no)': array([0.9537064 , 0.92556889, 0.9554458 , 0.9364561 , 0.95518852]),\n",
       " 'mean_test_recall (yes)': array([0.45329959, 0.51820905, 0.46013625, 0.50112215, 0.45438887]),\n",
       " 'mean_test_accuracy': array([0.8287322 , 0.82382647, 0.83171412, 0.8277222 , 0.83007888]),\n",
       " 'mean_test_auc': array([0.5, 0.5, 0.5, 0.5, 0.5]),\n",
       " 'mean_test_roc_auc': array([0.703503  , 0.72188897, 0.70779103, 0.71878912, 0.7047887 ]),\n",
       " 'mean_test_f1': array([0.56920194, 0.5949931 , 0.57711228, 0.59220342, 0.57171903])}"
      ]
     },
     "execution_count": 11,
     "metadata": {},
     "output_type": "execute_result"
    }
   ],
   "source": [
    "# Defining all the scoring metrics that we need to keep track of.\n",
    "scoring_dict = {\n",
    "    'precision (no)': make_scorer(precision_score, pos_label=0),\n",
    "    'precision (yes)': make_scorer(precision_score, pos_label=1),\n",
    "    'recall (no)': make_scorer(recall_score, pos_label=0),\n",
    "    'recall (yes)': make_scorer(recall_score, pos_label=1),\n",
    "    'accuracy': make_scorer(accuracy_score),\n",
    "    'auc': make_scorer(auc, reorder=True),\n",
    "    'roc_auc': make_scorer(roc_auc_score),\n",
    "    'f1': make_scorer(f1_score),\n",
    "}\n",
    "\n",
    "# Setting up the params.\n",
    "params_grid = {'n_neighbors': [4,5,6,7,8]}\n",
    "\n",
    "# Running the cross-validation on the k-NN with 10 folds.\n",
    "grid_clf = GridSearchCV(KNeighborsClassifier(),\n",
    "                        cv=KFold(n_splits=10, shuffle=True),\n",
    "                        param_grid=params_grid,\n",
    "                        scoring=scoring_dict,\n",
    "                        refit='accuracy', \n",
    "                        return_train_score=False)\n",
    "grid_clf.fit(X,Y)\n",
    "\n",
    "# Extracting relevant metrics. More detailed metrics are available in the cv_results_ object.\n",
    "relevant_metric = {'mean_test_{}'.format(k): grid_clf.cv_results_['mean_test_{}'.format(k)] for k in scoring_dict.keys()}\n",
    "relevant_metric"
   ]
  },
  {
   "cell_type": "markdown",
   "metadata": {},
   "source": [
    "# Trying PCA out to see if we are able to see some patterns."
   ]
  },
  {
   "cell_type": "code",
   "execution_count": 12,
   "metadata": {},
   "outputs": [
    {
     "data": {
      "text/plain": [
       "<matplotlib.collections.PathCollection at 0x1b40d653fd0>"
      ]
     },
     "execution_count": 12,
     "metadata": {},
     "output_type": "execute_result"
    },
    {
     "data": {
      "image/png": "[encoded data removed]",
      "text/plain": [
       "<matplotlib.figure.Figure at 0x1b40b8c2ef0>"
      ]
     },
     "metadata": {},
     "output_type": "display_data"
    }
   ],
   "source": [
    "# running pca to see if we can get some good results.\n",
    "from sklearn.decomposition import PCA\n",
    "pca = PCA(n_components=2)\n",
    "pca.fit(X)\n",
    "pca_X = pca.transform(X)\n",
    "x1, x2 = np.split(pca_X, 2, axis=1)\n",
    "pca_kNN = KNeighborsClassifier()\n",
    "pca_kNN.fit(pca_X, Y)\n",
    "\n",
    "#xx, yy = np.meshgrid(np.arange(x1.min(), x1.max(), 2.5),\n",
    "#                    np.arange(x2.min(), x2.max(), 2.5))\n",
    "#Z = pca_kNN.predict(np.c_[xx.ravel(), yy.ravel()])\n",
    "#Z = Z.reshape(xx.shape)\n",
    "\n",
    "# Doesnt look like it.\n",
    "plt.scatter(x1, x2, c=Y.map({0:'red', 1: 'blue'}))"
   ]
  },
  {
   "cell_type": "markdown",
   "metadata": {},
   "source": [
    "Doesn't seem like it."
   ]
  }
 ],
 "metadata": {
  "kernelspec": {
   "display_name": "Python 3",
   "language": "python",
   "name": "python3"
  },
  "language_info": {
   "codemirror_mode": {
    "name": "ipython",
    "version": 3
   },
   "file_extension": ".py",
   "mimetype": "text/x-python",
   "name": "python",
   "nbconvert_exporter": "python",
   "pygments_lexer": "ipython3",
   "version": "3.6.1"
  }
 },
 "nbformat": 4,
 "nbformat_minor": 2
}
