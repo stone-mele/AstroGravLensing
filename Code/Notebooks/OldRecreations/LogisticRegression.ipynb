{
 "cells": [
  {
   "cell_type": "markdown",
   "metadata": {},
   "source": [
    "# LogisticRegression\n",
    "This notebook will contain my attempts at running logistic regrssion on the different datasets."
   ]
  },
  {
   "cell_type": "code",
   "execution_count": 2,
   "metadata": {},
   "outputs": [],
   "source": [
    "import pandas as pd\n",
    "import numpy as np\n",
    "import matplotlib.pyplot as plt\n",
    "\n",
    "from sklearn.preprocessing import StandardScaler, MinMaxScaler\n",
    "from sklearn.pipeline import Pipeline\n",
    "from sklearn.model_selection import KFold, GridSearchCV, train_test_split\n",
    "from sklearn.metrics import classification_report, recall_score, precision_score, f1_score\n",
    "from sklearn.metrics import accuracy_score, auc, roc_auc_score, make_scorer\n",
    "from sklearn.linear_model import LogisticRegression, RidgeClassifier"
   ]
  },
  {
   "cell_type": "markdown",
   "metadata": {},
   "source": [
    "## eBoss Data"
   ]
  },
  {
   "cell_type": "markdown",
   "metadata": {},
   "source": [
    "Reading in the eboss data"
   ]
  },
  {
   "cell_type": "code",
   "execution_count": 3,
   "metadata": {},
   "outputs": [],
   "source": [
    "raw_data_eBoss = pd.read_csv(\"../../../Data/Astronomy.csv\")"
   ]
  },
  {
   "cell_type": "markdown",
   "metadata": {},
   "source": [
    "Taking out the id column"
   ]
  },
  {
   "cell_type": "code",
   "execution_count": 9,
   "metadata": {},
   "outputs": [],
   "source": [
    "trainable_data = raw_data_eBoss.iloc[:, 1:].copy(deep=True)"
   ]
  },
  {
   "cell_type": "markdown",
   "metadata": {},
   "source": [
    "Seperating the X, and Y variables, and doing needed preprocessing."
   ]
  },
  {
   "cell_type": "code",
   "execution_count": 10,
   "metadata": {},
   "outputs": [],
   "source": [
    "X = trainable_data.iloc[:, :-1].copy(deep=True)\n",
    "Y = trainable_data.iloc[:, -1:].copy(deep=True)\n",
    "X = X.apply(pd.to_numeric, args={'errors': 'coerce'})\n",
    "X = X.fillna('0')\n",
    "Y = Y.Hits.map({'bad': 0, 'good': 1})\n",
    "\n",
    "ss = MinMaxScaler()\n",
    "X_scaled = pd.DataFrame(ss.fit_transform(X), columns=X.columns)\n",
    "X = X_scaled"
   ]
  },
  {
   "cell_type": "code",
   "execution_count": 11,
   "metadata": {},
   "outputs": [
    {
     "data": {
      "text/plain": [
       "{'mean_test_precision (no)': array([0.8727758 , 0.86032028]),\n",
       " 'mean_test_precision (yes)': array([0.94076012, 0.94157107]),\n",
       " 'mean_test_recall (no)': array([0.79280913, 0.78810371]),\n",
       " 'mean_test_recall (yes)': array([0.96782768, 0.96804336]),\n",
       " 'mean_test_accuracy': array([0.92882562, 0.92882562]),\n",
       " 'mean_test_auc': array([0.54982206, 0.54982206]),\n",
       " 'mean_test_roc_auc': array([0.8803184 , 0.87807354]),\n",
       " 'mean_test_f1': array([0.95364293, 0.9541764 ]),\n",
       " 'params': [{'C': 10}, {'C': 100}]}"
      ]
     },
     "execution_count": 11,
     "metadata": {},
     "output_type": "execute_result"
    }
   ],
   "source": [
    "# Defining all the scoring metrics that we need to keep track of.\n",
    "scoring_dict = {\n",
    "    'precision (no)': make_scorer(precision_score, pos_label=0),\n",
    "    'precision (yes)': make_scorer(precision_score, pos_label=1),\n",
    "    'recall (no)': make_scorer(recall_score, pos_label=0),\n",
    "    'recall (yes)': make_scorer(recall_score, pos_label=1),\n",
    "    'accuracy': make_scorer(accuracy_score),\n",
    "    'auc': make_scorer(auc),\n",
    "    'roc_auc': make_scorer(roc_auc_score),\n",
    "    'f1': make_scorer(f1_score),\n",
    "}\n",
    "\n",
    "# Setting up the params.\n",
    "params_grid = {\"C\": [10, 100]}\n",
    "\n",
    "# Running the cross-validation with 10 folds using Logistic Regression Algorithm.\n",
    "grid_clf = GridSearchCV(LogisticRegression(),\n",
    "                        cv=KFold(n_splits=10, shuffle=True),\n",
    "                        param_grid=params_grid,\n",
    "                        scoring=scoring_dict,\n",
    "                        refit='accuracy', \n",
    "                        return_train_score=False).fit(X,Y)\n",
    "\n",
    "# Extracting relevant metrics. More detailed metrics are available in the cv_results_ object.\n",
    "relevant_metric = {'mean_test_{}'.format(k): grid_clf.cv_results_['mean_test_{}'.format(k)] for k in scoring_dict.keys()}\n",
    "relevant_metric['params'] = grid_clf.cv_results_['params']\n",
    "relevant_metric"
   ]
  },
  {
   "cell_type": "code",
   "execution_count": 12,
   "metadata": {},
   "outputs": [
    {
     "data": {
      "text/plain": [
       "(0.9288256227758007, {'C': 10})"
      ]
     },
     "execution_count": 12,
     "metadata": {},
     "output_type": "execute_result"
    }
   ],
   "source": [
    "grid_clf.best_score_, grid_clf.best_params_"
   ]
  },
  {
   "cell_type": "markdown",
   "metadata": {},
   "source": [
    "# Manga Data:"
   ]
  },
  {
   "cell_type": "code",
   "execution_count": 5,
   "metadata": {},
   "outputs": [],
   "source": [
    "raw_data_Manga = pd.read_csv(\"../../../Data/Astronomy20000_Original.csv\")"
   ]
  },
  {
   "cell_type": "markdown",
   "metadata": {},
   "source": [
    "Seperating the X, and Y variables, and doing needed preprocessing."
   ]
  },
  {
   "cell_type": "code",
   "execution_count": 7,
   "metadata": {},
   "outputs": [],
   "source": [
    "X = raw_data_Manga.iloc[:, 1:-1].copy(deep=True)\n",
    "Y = raw_data_Manga.iloc[:, [-1]].copy(deep=True)\n",
    "X = X.iloc[:, np.r_[2:14, 26:len(X.columns)]].copy(deep=True)\n",
    "X = X.fillna('0')\n",
    "Y = Y.Hits.map({'bad': 0, 'good': 1})\n",
    "\n",
    "ss = MinMaxScaler()\n",
    "X_scaled = pd.DataFrame(ss.fit_transform(X), columns=X.columns)\n",
    "X = X_scaled"
   ]
  },
  {
   "cell_type": "code",
   "execution_count": 8,
   "metadata": {},
   "outputs": [
    {
     "data": {
      "text/html": [
       "<div>\n",
       "<style scoped>\n",
       "    .dataframe tbody tr th:only-of-type {\n",
       "        vertical-align: middle;\n",
       "    }\n",
       "\n",
       "    .dataframe tbody tr th {\n",
       "        vertical-align: top;\n",
       "    }\n",
       "\n",
       "    .dataframe thead th {\n",
       "        text-align: right;\n",
       "    }\n",
       "</style>\n",
       "<table border=\"1\" class=\"dataframe\">\n",
       "  <thead>\n",
       "    <tr style=\"text-align: right;\">\n",
       "      <th></th>\n",
       "      <th>o2sn</th>\n",
       "      <th>emsn1</th>\n",
       "      <th>emsn2</th>\n",
       "      <th>emsn3</th>\n",
       "      <th>emsn4</th>\n",
       "      <th>emsn5</th>\n",
       "      <th>emsn6</th>\n",
       "      <th>emsn7</th>\n",
       "      <th>emsn8</th>\n",
       "      <th>emsn9</th>\n",
       "      <th>...</th>\n",
       "      <th>HIT_FWHM_data10</th>\n",
       "      <th>G_FAIL_data10</th>\n",
       "      <th>EMLINE_data11</th>\n",
       "      <th>HIT_PAR1_data11</th>\n",
       "      <th>HIT_PAR2_data11</th>\n",
       "      <th>HIT_PAR3_data11</th>\n",
       "      <th>HIT_PAR4_data11</th>\n",
       "      <th>HIT_CHI2_data11</th>\n",
       "      <th>HIT_FWHM_data11</th>\n",
       "      <th>G_FAIL_data11</th>\n",
       "    </tr>\n",
       "  </thead>\n",
       "  <tbody>\n",
       "    <tr>\n",
       "      <th>0</th>\n",
       "      <td>0.032818</td>\n",
       "      <td>0.000000</td>\n",
       "      <td>0.017260</td>\n",
       "      <td>0.0</td>\n",
       "      <td>0.0</td>\n",
       "      <td>0.000000</td>\n",
       "      <td>0.0</td>\n",
       "      <td>0.0</td>\n",
       "      <td>0.0</td>\n",
       "      <td>0.0</td>\n",
       "      <td>...</td>\n",
       "      <td>0.0</td>\n",
       "      <td>1.0</td>\n",
       "      <td>1.0</td>\n",
       "      <td>0.836414</td>\n",
       "      <td>0.774998</td>\n",
       "      <td>0.000662</td>\n",
       "      <td>0.112789</td>\n",
       "      <td>4.936936e-05</td>\n",
       "      <td>0.607714</td>\n",
       "      <td>0.0</td>\n",
       "    </tr>\n",
       "    <tr>\n",
       "      <th>1</th>\n",
       "      <td>0.026480</td>\n",
       "      <td>0.000000</td>\n",
       "      <td>0.003182</td>\n",
       "      <td>0.0</td>\n",
       "      <td>0.0</td>\n",
       "      <td>0.000328</td>\n",
       "      <td>0.0</td>\n",
       "      <td>0.0</td>\n",
       "      <td>0.0</td>\n",
       "      <td>0.0</td>\n",
       "      <td>...</td>\n",
       "      <td>0.0</td>\n",
       "      <td>1.0</td>\n",
       "      <td>1.0</td>\n",
       "      <td>0.702873</td>\n",
       "      <td>0.778544</td>\n",
       "      <td>0.000305</td>\n",
       "      <td>0.112776</td>\n",
       "      <td>1.424371e-04</td>\n",
       "      <td>0.468320</td>\n",
       "      <td>0.0</td>\n",
       "    </tr>\n",
       "    <tr>\n",
       "      <th>2</th>\n",
       "      <td>0.019147</td>\n",
       "      <td>0.065948</td>\n",
       "      <td>0.000000</td>\n",
       "      <td>0.0</td>\n",
       "      <td>0.0</td>\n",
       "      <td>0.000000</td>\n",
       "      <td>0.0</td>\n",
       "      <td>0.0</td>\n",
       "      <td>0.0</td>\n",
       "      <td>0.0</td>\n",
       "      <td>...</td>\n",
       "      <td>0.0</td>\n",
       "      <td>1.0</td>\n",
       "      <td>1.0</td>\n",
       "      <td>0.902250</td>\n",
       "      <td>0.779440</td>\n",
       "      <td>0.003599</td>\n",
       "      <td>0.112765</td>\n",
       "      <td>9.868064e-06</td>\n",
       "      <td>0.330403</td>\n",
       "      <td>0.0</td>\n",
       "    </tr>\n",
       "    <tr>\n",
       "      <th>3</th>\n",
       "      <td>0.038789</td>\n",
       "      <td>0.000000</td>\n",
       "      <td>0.000000</td>\n",
       "      <td>0.0</td>\n",
       "      <td>0.0</td>\n",
       "      <td>0.000000</td>\n",
       "      <td>0.0</td>\n",
       "      <td>0.0</td>\n",
       "      <td>0.0</td>\n",
       "      <td>0.0</td>\n",
       "      <td>...</td>\n",
       "      <td>0.0</td>\n",
       "      <td>1.0</td>\n",
       "      <td>1.0</td>\n",
       "      <td>0.938823</td>\n",
       "      <td>0.786979</td>\n",
       "      <td>0.004008</td>\n",
       "      <td>0.112762</td>\n",
       "      <td>2.829325e-08</td>\n",
       "      <td>0.308263</td>\n",
       "      <td>0.0</td>\n",
       "    </tr>\n",
       "    <tr>\n",
       "      <th>4</th>\n",
       "      <td>0.050166</td>\n",
       "      <td>0.000000</td>\n",
       "      <td>0.030492</td>\n",
       "      <td>0.0</td>\n",
       "      <td>0.0</td>\n",
       "      <td>0.000000</td>\n",
       "      <td>0.0</td>\n",
       "      <td>0.0</td>\n",
       "      <td>0.0</td>\n",
       "      <td>0.0</td>\n",
       "      <td>...</td>\n",
       "      <td>0.0</td>\n",
       "      <td>1.0</td>\n",
       "      <td>1.0</td>\n",
       "      <td>0.850297</td>\n",
       "      <td>0.753776</td>\n",
       "      <td>0.002602</td>\n",
       "      <td>0.112798</td>\n",
       "      <td>2.814745e-04</td>\n",
       "      <td>0.709810</td>\n",
       "      <td>0.0</td>\n",
       "    </tr>\n",
       "  </tbody>\n",
       "</table>\n",
       "<p>5 rows × 108 columns</p>\n",
       "</div>"
      ],
      "text/plain": [
       "       o2sn     emsn1     emsn2  emsn3  emsn4     emsn5  emsn6  emsn7  emsn8  \\\n",
       "0  0.032818  0.000000  0.017260    0.0    0.0  0.000000    0.0    0.0    0.0   \n",
       "1  0.026480  0.000000  0.003182    0.0    0.0  0.000328    0.0    0.0    0.0   \n",
       "2  0.019147  0.065948  0.000000    0.0    0.0  0.000000    0.0    0.0    0.0   \n",
       "3  0.038789  0.000000  0.000000    0.0    0.0  0.000000    0.0    0.0    0.0   \n",
       "4  0.050166  0.000000  0.030492    0.0    0.0  0.000000    0.0    0.0    0.0   \n",
       "\n",
       "   emsn9      ...        HIT_FWHM_data10  G_FAIL_data10  EMLINE_data11  \\\n",
       "0    0.0      ...                    0.0            1.0            1.0   \n",
       "1    0.0      ...                    0.0            1.0            1.0   \n",
       "2    0.0      ...                    0.0            1.0            1.0   \n",
       "3    0.0      ...                    0.0            1.0            1.0   \n",
       "4    0.0      ...                    0.0            1.0            1.0   \n",
       "\n",
       "   HIT_PAR1_data11  HIT_PAR2_data11  HIT_PAR3_data11  HIT_PAR4_data11  \\\n",
       "0         0.836414         0.774998         0.000662         0.112789   \n",
       "1         0.702873         0.778544         0.000305         0.112776   \n",
       "2         0.902250         0.779440         0.003599         0.112765   \n",
       "3         0.938823         0.786979         0.004008         0.112762   \n",
       "4         0.850297         0.753776         0.002602         0.112798   \n",
       "\n",
       "   HIT_CHI2_data11  HIT_FWHM_data11  G_FAIL_data11  \n",
       "0     4.936936e-05         0.607714            0.0  \n",
       "1     1.424371e-04         0.468320            0.0  \n",
       "2     9.868064e-06         0.330403            0.0  \n",
       "3     2.829325e-08         0.308263            0.0  \n",
       "4     2.814745e-04         0.709810            0.0  \n",
       "\n",
       "[5 rows x 108 columns]"
      ]
     },
     "execution_count": 8,
     "metadata": {},
     "output_type": "execute_result"
    }
   ],
   "source": [
    "X.head()"
   ]
  },
  {
   "cell_type": "markdown",
   "metadata": {},
   "source": [
    "Running CV with LR"
   ]
  },
  {
   "cell_type": "code",
   "execution_count": 15,
   "metadata": {},
   "outputs": [
    {
     "data": {
      "text/plain": [
       "{'mean_test_precision (no)': array([0.82702501, 0.83968753, 0.84337318, 0.84792721, 0.85175248]),\n",
       " 'mean_test_precision (yes)': array([0.77557912, 0.86558419, 0.8890305 , 0.8883092 , 0.88263552]),\n",
       " 'mean_test_recall (no)': array([0.96196754, 0.97738423, 0.98129677, 0.98033174, 0.97846586]),\n",
       " 'mean_test_recall (yes)': array([0.39580484, 0.43957109, 0.45255762, 0.47187259, 0.48851241]),\n",
       " 'mean_test_accuracy': array([0.82050789, 0.84306464, 0.84926895, 0.85335706, 0.8560985 ]),\n",
       " 'mean_test_auc': array([0.5, 0.5, 0.5, 0.5, 0.5]),\n",
       " 'mean_test_roc_auc': array([0.67888619, 0.70847766, 0.71692719, 0.72610217, 0.73348914]),\n",
       " 'mean_test_f1': array([0.52387532, 0.5829154 , 0.59963889, 0.61611787, 0.62871265])}"
      ]
     },
     "execution_count": 15,
     "metadata": {},
     "output_type": "execute_result"
    }
   ],
   "source": [
    "# Defining all the scoring metrics that we need to keep track of.\n",
    "scoring_dict = {\n",
    "    'precision (no)': make_scorer(precision_score, pos_label=0),\n",
    "    'precision (yes)': make_scorer(precision_score, pos_label=1),\n",
    "    'recall (no)': make_scorer(recall_score, pos_label=0),\n",
    "    'recall (yes)': make_scorer(recall_score, pos_label=1),\n",
    "    'accuracy': make_scorer(accuracy_score),\n",
    "    'auc': make_scorer(auc, reorder=True),\n",
    "    'roc_auc': make_scorer(roc_auc_score),\n",
    "    'f1': make_scorer(f1_score),\n",
    "}\n",
    "\n",
    "# Setting up the params.\n",
    "params_grid = {\"C\": [.01, .1, 1, 10, 100]}\n",
    "\n",
    "# Running the cross-validation with 10 folds using Logistic Regression Algorithm.\n",
    "grid_clf = GridSearchCV(LogisticRegression(),\n",
    "                        cv=KFold(n_splits=10, shuffle=True),\n",
    "                        param_grid=params_grid,\n",
    "                        scoring=scoring_dict,\n",
    "                        refit='accuracy', \n",
    "                        return_train_score=False).fit(X,Y)\n",
    "grid_clf.fit(X,Y)\n",
    "\n",
    "# Extracting relevant metrics. More detailed metrics are available in the cv_results_ object.\n",
    "relevant_metric = {'mean_test_{}'.format(k): grid_clf.cv_results_['mean_test_{}'.format(k)] for k in scoring_dict.keys()}\n",
    "relevant_metric"
   ]
  },
  {
   "cell_type": "code",
   "execution_count": 16,
   "metadata": {},
   "outputs": [
    {
     "data": {
      "text/plain": [
       "(0.856098499422855, {'C': 100})"
      ]
     },
     "execution_count": 16,
     "metadata": {},
     "output_type": "execute_result"
    }
   ],
   "source": [
    "grid_clf.best_score_, grid_clf.best_params_"
   ]
  },
  {
   "cell_type": "code",
   "execution_count": null,
   "metadata": {},
   "outputs": [],
   "source": []
  }
 ],
 "metadata": {
  "kernelspec": {
   "display_name": "Python 3",
   "language": "python",
   "name": "python3"
  },
  "language_info": {
   "codemirror_mode": {
    "name": "ipython",
    "version": 3
   },
   "file_extension": ".py",
   "mimetype": "text/x-python",
   "name": "python",
   "nbconvert_exporter": "python",
   "pygments_lexer": "ipython3",
   "version": "3.6.1"
  }
 },
 "nbformat": 4,
 "nbformat_minor": 2
}
