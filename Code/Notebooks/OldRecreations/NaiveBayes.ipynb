{
 "cells": [
  {
   "cell_type": "markdown",
   "metadata": {},
   "source": [
    "# Naive Bayes:\n",
    "This notebook will contain my attempt at Navie Bayes anaylsis."
   ]
  },
  {
   "cell_type": "code",
   "execution_count": 2,
   "metadata": {},
   "outputs": [],
   "source": [
    "import pandas as pd\n",
    "import numpy as np\n",
    "import matplotlib.pyplot as plt\n",
    "from sklearn.preprocessing import MinMaxScaler, StandardScaler\n",
    "from sklearn.pipeline import Pipeline\n",
    "from sklearn.model_selection import KFold, GridSearchCV, train_test_split\n",
    "from sklearn.metrics import classification_report, recall_score, precision_score, f1_score\n",
    "from sklearn.metrics import accuracy_score, auc, make_scorer, roc_auc_score\n",
    "from sklearn.naive_bayes import GaussianNB"
   ]
  },
  {
   "cell_type": "markdown",
   "metadata": {},
   "source": [
    "## eBoss Data"
   ]
  },
  {
   "cell_type": "markdown",
   "metadata": {},
   "source": [
    "Reading in the eboss data"
   ]
  },
  {
   "cell_type": "code",
   "execution_count": 3,
   "metadata": {},
   "outputs": [],
   "source": [
    "raw_data_eBoss = pd.read_csv(\"../../../Data/Astronomy.csv\")"
   ]
  },
  {
   "cell_type": "markdown",
   "metadata": {},
   "source": [
    "Taking out the id column"
   ]
  },
  {
   "cell_type": "code",
   "execution_count": 13,
   "metadata": {},
   "outputs": [],
   "source": [
    "trainable_data = raw_data_eBoss.iloc[:, 1:].copy(deep=True)"
   ]
  },
  {
   "cell_type": "markdown",
   "metadata": {},
   "source": [
    "Seperating the X, and Y variables, and doing needed preprocessing."
   ]
  },
  {
   "cell_type": "code",
   "execution_count": 28,
   "metadata": {},
   "outputs": [],
   "source": [
    "X = trainable_data.iloc[:, :-1].copy(deep=True)\n",
    "Y = trainable_data.iloc[:, -1:].copy(deep=True)\n",
    "X = X.apply(pd.to_numeric, args={'errors': 'coerce'})\n",
    "X = X.fillna('0')\n",
    "Y = Y.Hits.map({'bad': 0, 'good': 1})\n",
    "\n",
    "ss = MinMaxScaler()\n",
    "X_scaled = pd.DataFrame(ss.fit_transform(X), columns=X.columns)\n",
    "X = X_scaled"
   ]
  },
  {
   "cell_type": "code",
   "execution_count": 36,
   "metadata": {},
   "outputs": [
    {
     "data": {
      "text/plain": [
       "{'mean_test_precision (no)': array([0.66607355]),\n",
       " 'mean_test_precision (yes)': array([0.84715495]),\n",
       " 'mean_test_recall (no)': array([0.48742586]),\n",
       " 'mean_test_recall (yes)': array([0.92392543]),\n",
       " 'mean_test_accuracy': array([0.81494662]),\n",
       " 'mean_test_auc': array([0.75088968]),\n",
       " 'mean_test_roc_auc': array([0.70567564]),\n",
       " 'mean_test_f1': array([0.88209982])}"
      ]
     },
     "execution_count": 36,
     "metadata": {},
     "output_type": "execute_result"
    }
   ],
   "source": [
    "# Defining all the scoring metrics that we need to keep track of.\n",
    "scoring_dict = {\n",
    "    'precision (no)': make_scorer(precision_score, pos_label=0),\n",
    "    'precision (yes)': make_scorer(precision_score, pos_label=1),\n",
    "    'recall (no)': make_scorer(recall_score, pos_label=0),\n",
    "    'recall (yes)': make_scorer(recall_score, pos_label=1),\n",
    "    'accuracy': make_scorer(accuracy_score),\n",
    "    'auc': make_scorer(auc),\n",
    "    'roc_auc': make_scorer(roc_auc_score),\n",
    "    'f1': make_scorer(f1_score),\n",
    "}\n",
    "\n",
    "# Running the cross-validation on the Gaussian Model with 10 folds.\n",
    "grid_clf = GridSearchCV(GaussianNB(),\n",
    "                        cv=KFold(n_splits=10, shuffle=True),\n",
    "                        param_grid={},\n",
    "                        scoring=scoring_dict,\n",
    "                        refit='accuracy', \n",
    "                        return_train_score=False).fit(X,Y)\n",
    "\n",
    "# Extracting relevant metrics. More detailed metrics are available in the cv_results_ object.\n",
    "relevant_metric = {'mean_test_{}'.format(k): grid_clf.cv_results_['mean_test_{}'.format(k)] for k in scoring_dict.keys()}\n",
    "relevant_metric"
   ]
  },
  {
   "cell_type": "markdown",
   "metadata": {},
   "source": [
    "# Manga Data:"
   ]
  },
  {
   "cell_type": "code",
   "execution_count": 4,
   "metadata": {},
   "outputs": [],
   "source": [
    "raw_data_Manga = pd.read_csv(\"../../../Data/Astronomy20000_Original.csv\")"
   ]
  },
  {
   "cell_type": "markdown",
   "metadata": {},
   "source": [
    "Seperating the X, and Y variables, and doing needed preprocessing."
   ]
  },
  {
   "cell_type": "code",
   "execution_count": 92,
   "metadata": {},
   "outputs": [],
   "source": [
    "X = raw_data_Manga.iloc[:, 1:-1].copy(deep=True)\n",
    "Y = raw_data_Manga.iloc[:, [-1]].copy(deep=True)\n",
    "X = X.fillna('0')\n",
    "Y = Y.Hits.map({'bad': 0, 'good': 1})"
   ]
  },
  {
   "cell_type": "markdown",
   "metadata": {},
   "source": [
    "Running the Naive Bayes"
   ]
  },
  {
   "cell_type": "code",
   "execution_count": 93,
   "metadata": {},
   "outputs": [
    {
     "data": {
      "text/plain": [
       "{'mean_test_precision (no)': array([0.86507407]),\n",
       " 'mean_test_precision (yes)': array([0.49749587]),\n",
       " 'mean_test_recall (no)': array([0.78223687]),\n",
       " 'mean_test_recall (yes)': array([0.63236704]),\n",
       " 'mean_test_accuracy': array([0.74485379]),\n",
       " 'mean_test_auc': array([0.5]),\n",
       " 'mean_test_roc_auc': array([0.70730195]),\n",
       " 'mean_test_f1': array([0.55406407])}"
      ]
     },
     "execution_count": 93,
     "metadata": {},
     "output_type": "execute_result"
    }
   ],
   "source": [
    "# Defining all the scoring metrics that we need to keep track of.\n",
    "scoring_dict = {\n",
    "    'precision (no)': make_scorer(precision_score, pos_label=0),\n",
    "    'precision (yes)': make_scorer(precision_score, pos_label=1),\n",
    "    'recall (no)': make_scorer(recall_score, pos_label=0),\n",
    "    'recall (yes)': make_scorer(recall_score, pos_label=1),\n",
    "    'accuracy': make_scorer(accuracy_score),\n",
    "    'auc': make_scorer(auc, reorder=True),\n",
    "    'roc_auc': make_scorer(roc_auc_score),\n",
    "    'f1': make_scorer(f1_score),\n",
    "}\n",
    "\n",
    "# Running the cross-validation on the Gaussian Model with 10 folds.\n",
    "grid_clf = GridSearchCV(GaussianNB(),\n",
    "                        cv=KFold(n_splits=10, shuffle=True),\n",
    "                        param_grid={},\n",
    "                        scoring=scoring_dict,\n",
    "                        refit='accuracy', \n",
    "                        return_train_score=False)\n",
    "grid_clf.fit(X,Y)\n",
    "\n",
    "# Extracting relevant metrics. More detailed metrics are available in the cv_results_ object.\n",
    "relevant_metric = {'mean_test_{}'.format(k): grid_clf.cv_results_['mean_test_{}'.format(k)] for k in scoring_dict.keys()}\n",
    "relevant_metric"
   ]
  }
 ],
 "metadata": {
  "kernelspec": {
   "display_name": "Python 3",
   "language": "python",
   "name": "python3"
  },
  "language_info": {
   "codemirror_mode": {
    "name": "ipython",
    "version": 3
   },
   "file_extension": ".py",
   "mimetype": "text/x-python",
   "name": "python",
   "nbconvert_exporter": "python",
   "pygments_lexer": "ipython3",
   "version": "3.6.1"
  }
 },
 "nbformat": 4,
 "nbformat_minor": 2
}
