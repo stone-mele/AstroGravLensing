{
 "cells": [
  {
   "cell_type": "markdown",
   "metadata": {},
   "source": [
    "# Eboss Neural Network on Flux Data"
   ]
  },
  {
   "cell_type": "markdown",
   "metadata": {},
   "source": [
    "This notebook contains my attempts at training a model on the flux data of the spectras."
   ]
  },
  {
   "cell_type": "code",
   "execution_count": 1,
   "metadata": {},
   "outputs": [
    {
     "name": "stderr",
     "output_type": "stream",
     "text": [
      "C:\\Users\\stone\\Miniconda3\\lib\\site-packages\\h5py\\__init__.py:36: FutureWarning: Conversion of the second argument of issubdtype from `float` to `np.floating` is deprecated. In future, it will be treated as `np.float64 == np.dtype(float).type`.\n",
      "  from ._conv import register_converters as _register_converters\n",
      "Using TensorFlow backend.\n"
     ]
    }
   ],
   "source": [
    "import pandas as pd\n",
    "import numpy as np\n",
    "import matplotlib.pyplot as plt\n",
    "import h5py\n",
    "\n",
    "from astropy.io import fits\n",
    "\n",
    "from keras.models import Sequential\n",
    "from keras.layers import Dense, Activation, Flatten, Convolution1D, Dropout, MaxPooling1D, Conv2D, Conv1D, InputLayer, Dropout\n",
    "from keras.optimizers import SGD\n",
    "from keras.utils import np_utils\n",
    "from keras.wrappers.scikit_learn import KerasClassifier\n",
    "\n",
    "from Modeling import CrossValidationModeler"
   ]
  },
  {
   "cell_type": "code",
   "execution_count": 30,
   "metadata": {},
   "outputs": [],
   "source": [
    "def create_conv_flux_model():\n",
    "    model = Sequential()\n",
    "    model.add(InputLayer(batch_input_shape=(None,4639, 1)))\n",
    "    model.add(Conv1D(filters=64, kernel_size=2,activation= 'relu'))\n",
    "    model.add(Conv1D(filters=24, kernel_size=2,activation= 'relu'))\n",
    "    model.add(MaxPooling1D())\n",
    "    model.add(Flatten())\n",
    "    model.add(Dense(20,activation='relu'))\n",
    "    model.add(Dropout(.5))\n",
    "    model.add(Dense(20, activation='relu'))\n",
    "    model.add(Dropout(.5))\n",
    "    model.add(Dense(1, activation='sigmoid'))\n",
    "    model.compile(loss='binary_crossentropy', optimizer='adam', metrics=['accuracy'])\n",
    "    return model"
   ]
  },
  {
   "cell_type": "markdown",
   "metadata": {},
   "source": [
    "---\n",
    "## Full Dataset Model"
   ]
  },
  {
   "cell_type": "code",
   "execution_count": 32,
   "metadata": {},
   "outputs": [],
   "source": [
    "flux_eboss = h5py.File('../../Data/eboss_flux_full.hdf5')\n",
    "X, Y = flux_eboss['flux_values'], flux_eboss['flux_labels']\n",
    "X, Y = np.array(X), np.array(Y)\n",
    "X = np.expand_dims(X, -1)"
   ]
  },
  {
   "cell_type": "code",
   "execution_count": 33,
   "metadata": {},
   "outputs": [],
   "source": [
    "Keras_eboss_NN_Model = KerasClassifier(create_conv_flux_model, epochs=50, batch_size=4, verbose=0)\n",
    "cvm_nn_flux = CrossValidationModeler(X, Y, Keras_eboss_NN_Model)"
   ]
  },
  {
   "cell_type": "code",
   "execution_count": 42,
   "metadata": {},
   "outputs": [
    {
     "data": {
      "text/html": [
       "<div>\n",
       "<style scoped>\n",
       "    .dataframe tbody tr th:only-of-type {\n",
       "        vertical-align: middle;\n",
       "    }\n",
       "\n",
       "    .dataframe tbody tr th {\n",
       "        vertical-align: top;\n",
       "    }\n",
       "\n",
       "    .dataframe thead th {\n",
       "        text-align: right;\n",
       "    }\n",
       "</style>\n",
       "<table border=\"1\" class=\"dataframe\">\n",
       "  <thead>\n",
       "    <tr style=\"text-align: right;\">\n",
       "      <th></th>\n",
       "      <th>mean_test_accuracy</th>\n",
       "      <th>mean_test_f1</th>\n",
       "      <th>mean_test_precision (no)</th>\n",
       "      <th>mean_test_precision (yes)</th>\n",
       "      <th>mean_test_recall (no)</th>\n",
       "      <th>mean_test_recall (yes)</th>\n",
       "      <th>mean_test_roc_auc</th>\n",
       "    </tr>\n",
       "    <tr>\n",
       "      <th>Parameters</th>\n",
       "      <th></th>\n",
       "      <th></th>\n",
       "      <th></th>\n",
       "      <th></th>\n",
       "      <th></th>\n",
       "      <th></th>\n",
       "      <th></th>\n",
       "    </tr>\n",
       "  </thead>\n",
       "  <tbody>\n",
       "    <tr>\n",
       "      <th>{}</th>\n",
       "      <td>0.953216</td>\n",
       "      <td>0.967854</td>\n",
       "      <td>0.897759</td>\n",
       "      <td>0.976163</td>\n",
       "      <td>0.935948</td>\n",
       "      <td>0.960474</td>\n",
       "      <td>0.948211</td>\n",
       "    </tr>\n",
       "  </tbody>\n",
       "</table>\n",
       "</div>"
      ],
      "text/plain": [
       "            mean_test_accuracy  mean_test_f1  mean_test_precision (no)  \\\n",
       "Parameters                                                               \n",
       "{}                    0.953216      0.967854                  0.897759   \n",
       "\n",
       "            mean_test_precision (yes)  mean_test_recall (no)  \\\n",
       "Parameters                                                     \n",
       "{}                           0.976163               0.935948   \n",
       "\n",
       "            mean_test_recall (yes)  mean_test_roc_auc  \n",
       "Parameters                                             \n",
       "{}                        0.960474           0.948211  "
      ]
     },
     "execution_count": 42,
     "metadata": {},
     "output_type": "execute_result"
    }
   ],
   "source": [
    "cvm_nn_flux.run_cross_val({}, n_splits=3)"
   ]
  },
  {
   "cell_type": "markdown",
   "metadata": {},
   "source": [
    "---\n",
    "### Oneline Dataset Model"
   ]
  },
  {
   "cell_type": "code",
   "execution_count": 12,
   "metadata": {},
   "outputs": [],
   "source": [
    "flux_eboss_oneline = h5py.File('../../Data/eboss_flux_oneline.hdf5')\n",
    "X_oneline, Y_oneline = flux_eboss_oneline['flux_values'], flux_eboss_oneline['flux_labels']\n",
    "X_oneline, Y_oneline = np.array(X_oneline), np.array(Y_oneline)\n",
    "X_oneline = np.expand_dims(X_oneline, -1)"
   ]
  },
  {
   "cell_type": "code",
   "execution_count": 13,
   "metadata": {},
   "outputs": [
    {
     "data": {
      "text/plain": [
       "((150, 4639, 1), (150, 1))"
      ]
     },
     "execution_count": 13,
     "metadata": {},
     "output_type": "execute_result"
    }
   ],
   "source": [
    "X_oneline.shape, Y_oneline.shape"
   ]
  },
  {
   "cell_type": "code",
   "execution_count": 14,
   "metadata": {},
   "outputs": [],
   "source": [
    "Keras_eboss_oneline_NN_Model = KerasClassifier(create_conv_flux_model, epochs=5, batch_size=8, verbose=0)\n",
    "cvm_nn_flux_oneline = CrossValidationModeler(X_oneline, Y_oneline, Keras_eboss_oneline_NN_Model)"
   ]
  },
  {
   "cell_type": "code",
   "execution_count": 15,
   "metadata": {},
   "outputs": [
    {
     "data": {
      "text/html": [
       "<div>\n",
       "<style scoped>\n",
       "    .dataframe tbody tr th:only-of-type {\n",
       "        vertical-align: middle;\n",
       "    }\n",
       "\n",
       "    .dataframe tbody tr th {\n",
       "        vertical-align: top;\n",
       "    }\n",
       "\n",
       "    .dataframe thead th {\n",
       "        text-align: right;\n",
       "    }\n",
       "</style>\n",
       "<table border=\"1\" class=\"dataframe\">\n",
       "  <thead>\n",
       "    <tr style=\"text-align: right;\">\n",
       "      <th></th>\n",
       "      <th>mean_test_accuracy</th>\n",
       "      <th>mean_test_f1</th>\n",
       "      <th>mean_test_precision (no)</th>\n",
       "      <th>mean_test_precision (yes)</th>\n",
       "      <th>mean_test_recall (no)</th>\n",
       "      <th>mean_test_recall (yes)</th>\n",
       "      <th>mean_test_roc_auc</th>\n",
       "    </tr>\n",
       "    <tr>\n",
       "      <th>Parameters</th>\n",
       "      <th></th>\n",
       "      <th></th>\n",
       "      <th></th>\n",
       "      <th></th>\n",
       "      <th></th>\n",
       "      <th></th>\n",
       "      <th></th>\n",
       "    </tr>\n",
       "  </thead>\n",
       "  <tbody>\n",
       "    <tr>\n",
       "      <th>{}</th>\n",
       "      <td>0.94</td>\n",
       "      <td>0.956244</td>\n",
       "      <td>0.916623</td>\n",
       "      <td>0.963885</td>\n",
       "      <td>0.910714</td>\n",
       "      <td>0.955399</td>\n",
       "      <td>0.933056</td>\n",
       "    </tr>\n",
       "  </tbody>\n",
       "</table>\n",
       "</div>"
      ],
      "text/plain": [
       "            mean_test_accuracy  mean_test_f1  mean_test_precision (no)  \\\n",
       "Parameters                                                               \n",
       "{}                        0.94      0.956244                  0.916623   \n",
       "\n",
       "            mean_test_precision (yes)  mean_test_recall (no)  \\\n",
       "Parameters                                                     \n",
       "{}                           0.963885               0.910714   \n",
       "\n",
       "            mean_test_recall (yes)  mean_test_roc_auc  \n",
       "Parameters                                             \n",
       "{}                        0.955399           0.933056  "
      ]
     },
     "execution_count": 15,
     "metadata": {},
     "output_type": "execute_result"
    }
   ],
   "source": [
    "cvm_nn_flux_oneline.run_cross_val({})"
   ]
  },
  {
   "cell_type": "markdown",
   "metadata": {},
   "source": [
    "---\n",
    "## Multiline Dataset Model"
   ]
  },
  {
   "cell_type": "code",
   "execution_count": 18,
   "metadata": {},
   "outputs": [],
   "source": [
    "flux_eboss_multiline = h5py.File('../../Data/eboss_flux_multiline.hdf5')\n",
    "X_multiline, Y_multiline = flux_eboss_multiline['flux_values'], flux_eboss_multiline['flux_labels']\n",
    "X_multiline, Y_multiline = np.array(X_multiline), np.array(Y_multiline)\n",
    "X_multiline = np.expand_dims(X_multiline, -1)"
   ]
  },
  {
   "cell_type": "code",
   "execution_count": 19,
   "metadata": {},
   "outputs": [
    {
     "data": {
      "text/plain": [
       "((131, 4639, 1), (131, 1))"
      ]
     },
     "execution_count": 19,
     "metadata": {},
     "output_type": "execute_result"
    }
   ],
   "source": [
    "X_multiline.shape, Y_multiline.shape"
   ]
  },
  {
   "cell_type": "code",
   "execution_count": 22,
   "metadata": {},
   "outputs": [],
   "source": [
    "Keras_eboss_multiline_NN_Model = KerasClassifier(create_conv_flux_model, epochs=5, batch_size=8, verbose=0)\n",
    "cvm_nn_flux_multiline = CrossValidationModeler(X_multiline, Y_multiline, Keras_eboss_multiline_NN_Model)"
   ]
  },
  {
   "cell_type": "code",
   "execution_count": 23,
   "metadata": {},
   "outputs": [
    {
     "data": {
      "text/html": [
       "<div>\n",
       "<style scoped>\n",
       "    .dataframe tbody tr th:only-of-type {\n",
       "        vertical-align: middle;\n",
       "    }\n",
       "\n",
       "    .dataframe tbody tr th {\n",
       "        vertical-align: top;\n",
       "    }\n",
       "\n",
       "    .dataframe thead th {\n",
       "        text-align: right;\n",
       "    }\n",
       "</style>\n",
       "<table border=\"1\" class=\"dataframe\">\n",
       "  <thead>\n",
       "    <tr style=\"text-align: right;\">\n",
       "      <th></th>\n",
       "      <th>mean_test_accuracy</th>\n",
       "      <th>mean_test_f1</th>\n",
       "      <th>mean_test_precision (no)</th>\n",
       "      <th>mean_test_precision (yes)</th>\n",
       "      <th>mean_test_recall (no)</th>\n",
       "      <th>mean_test_recall (yes)</th>\n",
       "      <th>mean_test_roc_auc</th>\n",
       "    </tr>\n",
       "    <tr>\n",
       "      <th>Parameters</th>\n",
       "      <th></th>\n",
       "      <th></th>\n",
       "      <th></th>\n",
       "      <th></th>\n",
       "      <th></th>\n",
       "      <th></th>\n",
       "      <th></th>\n",
       "    </tr>\n",
       "  </thead>\n",
       "  <tbody>\n",
       "    <tr>\n",
       "      <th>{}</th>\n",
       "      <td>0.937037</td>\n",
       "      <td>0.956841</td>\n",
       "      <td>0.857698</td>\n",
       "      <td>0.974928</td>\n",
       "      <td>0.926389</td>\n",
       "      <td>0.942269</td>\n",
       "      <td>0.934329</td>\n",
       "    </tr>\n",
       "  </tbody>\n",
       "</table>\n",
       "</div>"
      ],
      "text/plain": [
       "            mean_test_accuracy  mean_test_f1  mean_test_precision (no)  \\\n",
       "Parameters                                                               \n",
       "{}                    0.937037      0.956841                  0.857698   \n",
       "\n",
       "            mean_test_precision (yes)  mean_test_recall (no)  \\\n",
       "Parameters                                                     \n",
       "{}                           0.974928               0.926389   \n",
       "\n",
       "            mean_test_recall (yes)  mean_test_roc_auc  \n",
       "Parameters                                             \n",
       "{}                        0.942269           0.934329  "
      ]
     },
     "execution_count": 23,
     "metadata": {},
     "output_type": "execute_result"
    }
   ],
   "source": [
    "cvm_nn_flux_multiline.run_cross_val({})"
   ]
  },
  {
   "cell_type": "markdown",
   "metadata": {},
   "source": [
    "---"
   ]
  },
  {
   "cell_type": "code",
   "execution_count": null,
   "metadata": {},
   "outputs": [],
   "source": []
  },
  {
   "cell_type": "code",
   "execution_count": null,
   "metadata": {},
   "outputs": [],
   "source": []
  },
  {
   "cell_type": "code",
   "execution_count": null,
   "metadata": {},
   "outputs": [],
   "source": []
  },
  {
   "cell_type": "code",
   "execution_count": null,
   "metadata": {},
   "outputs": [],
   "source": []
  },
  {
   "cell_type": "markdown",
   "metadata": {},
   "source": [
    "## Messing around with network architecture."
   ]
  },
  {
   "cell_type": "code",
   "execution_count": 1,
   "metadata": {},
   "outputs": [],
   "source": [
    "# model = Sequential()\n",
    "# model.add(InputLayer(batch_input_shape=(None,4639, 1)))\n",
    "# model.add(Conv1D(filters=24, kernel_size=4,activation= 'relu'))              \n",
    "#model.add(Conv1D(filters=512, kernel_size=4,activation= 'relu'))              \n",
    "# model.add(MaxPooling1D(20))\n",
    "#model.add(Conv1D(filters=512, kernel_size=7,activation= 'relu'))\n",
    "#model.add(MaxPooling1D())\n",
    "#model.add(Conv1D(filters=256, kernel_size=3,activation= 'relu'))\n",
    "#model.add(Conv1D(filters=256, kernel_size=3,activation= 'relu'))\n",
    "#model.add(Conv1D(filters=256, kernel_size=3,activation= 'relu'))\n",
    "#model.add(Conv1D(filters=256, kernel_size=3,activation= 'relu'))\n",
    "#model.add(MaxPooling1D())\n",
    "# model.add(Flatten())\n",
    "# model.add(Dense(2000,activation='relu'))\n",
    "# model.add(Dropout(.5))\n",
    "#model.add(Dense(2000,activation='relu'))\n",
    "#model.add(Dropout(.5))\n",
    "# model.add(Dense(1, activation='sigmoid'))\n",
    "# model.compile(loss='binary_crossentropy', optimizer='adam', metrics=['accuracy'])\n",
    "# model.fit(XX, y, batch_size=100, epochs=5)\n",
    "#what = model.predict(XX[0:20])"
   ]
  },
  {
   "cell_type": "code",
   "execution_count": null,
   "metadata": {},
   "outputs": [],
   "source": []
  }
 ],
 "metadata": {
  "kernelspec": {
   "display_name": "Python 3",
   "language": "python",
   "name": "python3"
  },
  "language_info": {
   "codemirror_mode": {
    "name": "ipython",
    "version": 3
   },
   "file_extension": ".py",
   "mimetype": "text/x-python",
   "name": "python",
   "nbconvert_exporter": "python",
   "pygments_lexer": "ipython3",
   "version": "3.6.1"
  }
 },
 "nbformat": 4,
 "nbformat_minor": 2
}
