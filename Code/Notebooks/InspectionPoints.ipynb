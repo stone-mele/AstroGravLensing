{
 "cells": [
  {
   "cell_type": "markdown",
   "metadata": {},
   "source": [
    "## This notebook is for finding highly misclassified data points."
   ]
  },
  {
   "cell_type": "code",
   "execution_count": 22,
   "metadata": {},
   "outputs": [],
   "source": [
    "import pandas as pd\n",
    "import numpy as np\n",
    "import matplotlib.pyplot as plt\n",
    "import h5py\n",
    "\n",
    "from astropy.io import fits\n",
    "from glob import glob\n",
    "\n",
    "from sklearn.model_selection import train_test_split\n",
    "from sklearn.model_selection import cross_validate\n",
    "from sklearn.model_selection import ShuffleSplit, GridSearchCV\n",
    "from sklearn.metrics import recall_score, precision_score, f1_score\n",
    "from sklearn.metrics import accuracy_score, roc_auc_score, make_scorer, confusion_matrix\n",
    "from sklearn import warnings\n",
    "\n",
    "from IPython.display import SVG\n",
    "from keras.utils.vis_utils import plot_model\n",
    "\n",
    "from keras import backend as K\n",
    "from keras.models import Sequential\n",
    "from keras.layers import Input,Dense, Activation, Flatten, Convolution1D, Dropout, MaxPooling1D, Conv2D, Conv1D, InputLayer, Dropout, MaxPooling2D, BatchNormalization\n",
    "from keras.optimizers import SGD, Adam\n",
    "from keras.callbacks import TensorBoard\n",
    "from keras.constraints import Constraint\n",
    "from keras.initializers import Initializer, glorot_uniform\n",
    "from keras.utils import np_utils\n",
    "from keras.layers import Concatenate\n",
    "from keras.wrappers.scikit_learn import KerasClassifier\n",
    "from keras.models import Model\n",
    "\n",
    "import tensorflow as tf\n",
    "\n",
    "from Modeling import CrossValidationModeler"
   ]
  },
  {
   "cell_type": "code",
   "execution_count": 4,
   "metadata": {},
   "outputs": [],
   "source": [
    "def create_conv_flux_model():\n",
    "    model = Sequential()\n",
    "    model.add(InputLayer(batch_input_shape=(None,4639, 1)))\n",
    "    model.add(Conv1D(filters=64, kernel_size=2,activation= 'relu'))\n",
    "    model.add(Conv1D(filters=24, kernel_size=2,activation= 'relu'))\n",
    "    model.add(MaxPooling1D())\n",
    "    model.add(Flatten())\n",
    "    model.add(Dense(30,activation='relu'))\n",
    "    model.add(Dropout(.5))\n",
    "    model.add(Dense(20, activation='relu'))\n",
    "    model.add(Dropout(.5))\n",
    "    model.add(Dense(1, activation='sigmoid'))\n",
    "    model.compile(loss='binary_crossentropy', optimizer='adam', metrics=['accuracy'])\n",
    "    return model"
   ]
  },
  {
   "cell_type": "code",
   "execution_count": 18,
   "metadata": {},
   "outputs": [],
   "source": [
    "eboss = h5py.File('../../../AstroProj/Data/eboss_flux_full+.hdf5')\n",
    "X, Y = np.array(eboss['flux_values']), np.array(eboss['flux_labels'])\n",
    "res_flux = np.array(eboss['res_flux_values'])\n",
    "ivar = np.array(eboss['ivar_flux_values'])\n",
    "ids = np.array(eboss['flux_ids'])\n",
    "\n",
    "res_flux = np.expand_dims(res_flux, -1)\n",
    "ivar = np.expand_dims(ivar, -1)\n",
    "X = np.expand_dims(X, -1)\n",
    "eboss.close()"
   ]
  },
  {
   "cell_type": "code",
   "execution_count": 7,
   "metadata": {},
   "outputs": [
    {
     "name": "stdout",
     "output_type": "stream",
     "text": [
      "Train on 210 samples, validate on 71 samples\n",
      "Epoch 1/10\n",
      " - 7s - loss: 0.6745 - acc: 0.7714 - val_loss: 0.2316 - val_acc: 0.9014\n",
      "Epoch 2/10\n",
      " - 4s - loss: 0.3448 - acc: 0.8000 - val_loss: 0.2049 - val_acc: 0.9718\n",
      "Epoch 3/10\n",
      " - 4s - loss: 0.3116 - acc: 0.8524 - val_loss: 0.2129 - val_acc: 0.9014\n",
      "Epoch 4/10\n",
      " - 4s - loss: 0.2852 - acc: 0.8429 - val_loss: 0.1427 - val_acc: 0.9718\n",
      "Epoch 5/10\n",
      " - 4s - loss: 0.2444 - acc: 0.8667 - val_loss: 0.0982 - val_acc: 0.9859\n",
      "Epoch 6/10\n",
      " - 4s - loss: 0.2082 - acc: 0.8905 - val_loss: 0.0729 - val_acc: 1.0000\n",
      "Epoch 7/10\n",
      " - 4s - loss: 0.2405 - acc: 0.9095 - val_loss: 0.0688 - val_acc: 0.9718\n",
      "Epoch 8/10\n",
      " - 4s - loss: 0.1414 - acc: 0.9333 - val_loss: 0.0483 - val_acc: 0.9859\n",
      "Epoch 9/10\n",
      " - 4s - loss: 0.1581 - acc: 0.9286 - val_loss: 0.0477 - val_acc: 0.9859\n",
      "Epoch 10/10\n",
      " - 4s - loss: 0.1656 - acc: 0.9000 - val_loss: 0.0438 - val_acc: 0.9859\n",
      "Train on 210 samples, validate on 71 samples\n",
      "Epoch 1/10\n",
      " - 5s - loss: 0.9580 - acc: 0.5762 - val_loss: 0.5039 - val_acc: 0.9155\n",
      "Epoch 2/10\n",
      " - 5s - loss: 0.5368 - acc: 0.7524 - val_loss: 0.2890 - val_acc: 0.9155\n",
      "Epoch 3/10\n",
      " - 4s - loss: 0.4425 - acc: 0.7714 - val_loss: 0.2011 - val_acc: 0.9859\n",
      "Epoch 4/10\n",
      " - 4s - loss: 0.3929 - acc: 0.8143 - val_loss: 0.1350 - val_acc: 0.9859\n",
      "Epoch 5/10\n",
      " - 4s - loss: 0.3266 - acc: 0.8571 - val_loss: 0.0911 - val_acc: 0.9859\n",
      "Epoch 6/10\n",
      " - 4s - loss: 0.2896 - acc: 0.8667 - val_loss: 0.0781 - val_acc: 0.9859\n",
      "Epoch 7/10\n",
      " - 4s - loss: 0.2449 - acc: 0.8810 - val_loss: 0.0650 - val_acc: 0.9577\n",
      "Epoch 8/10\n",
      " - 4s - loss: 0.1662 - acc: 0.9286 - val_loss: 0.0382 - val_acc: 0.9859\n",
      "Epoch 9/10\n",
      " - 4s - loss: 0.1505 - acc: 0.9381 - val_loss: 0.0342 - val_acc: 0.9859\n",
      "Epoch 10/10\n",
      " - 4s - loss: 0.2030 - acc: 0.9381 - val_loss: 0.0309 - val_acc: 1.0000\n",
      "Train on 210 samples, validate on 71 samples\n",
      "Epoch 1/10\n",
      " - 5s - loss: 0.7268 - acc: 0.6714 - val_loss: 0.3547 - val_acc: 0.7606\n",
      "Epoch 2/10\n",
      " - 4s - loss: 0.3702 - acc: 0.8000 - val_loss: 0.2745 - val_acc: 0.8310\n",
      "Epoch 3/10\n",
      " - 4s - loss: 0.3315 - acc: 0.7619 - val_loss: 0.2797 - val_acc: 0.7465\n",
      "Epoch 4/10\n",
      " - 4s - loss: 0.3046 - acc: 0.7905 - val_loss: 0.2718 - val_acc: 0.8451\n",
      "Epoch 5/10\n",
      " - 4s - loss: 0.2998 - acc: 0.8619 - val_loss: 0.2683 - val_acc: 0.9014\n",
      "Epoch 6/10\n",
      " - 4s - loss: 0.3460 - acc: 0.8095 - val_loss: 0.2616 - val_acc: 0.9155\n",
      "Epoch 7/10\n",
      " - 4s - loss: 0.2787 - acc: 0.8571 - val_loss: 0.2518 - val_acc: 0.9155\n",
      "Epoch 8/10\n",
      " - 4s - loss: 0.2752 - acc: 0.8762 - val_loss: 0.2311 - val_acc: 0.9577\n",
      "Epoch 9/10\n",
      " - 4s - loss: 0.2429 - acc: 0.8857 - val_loss: 0.2118 - val_acc: 0.9296\n",
      "Epoch 10/10\n",
      " - 4s - loss: 0.2426 - acc: 0.8762 - val_loss: 0.2139 - val_acc: 0.9296\n",
      "Train on 210 samples, validate on 71 samples\n",
      "Epoch 1/10\n",
      " - 5s - loss: 0.6523 - acc: 0.7095 - val_loss: 0.2645 - val_acc: 0.8732\n",
      "Epoch 2/10\n",
      " - 4s - loss: 0.3249 - acc: 0.8143 - val_loss: 0.2424 - val_acc: 0.9014\n",
      "Epoch 3/10\n",
      " - 4s - loss: 0.3010 - acc: 0.7857 - val_loss: 0.2749 - val_acc: 0.7465\n",
      "Epoch 4/10\n",
      " - 4s - loss: 0.3162 - acc: 0.8143 - val_loss: 0.2246 - val_acc: 0.8873\n",
      "Epoch 5/10\n",
      " - 4s - loss: 0.2686 - acc: 0.8048 - val_loss: 0.2375 - val_acc: 0.9437\n",
      "Epoch 6/10\n",
      " - 4s - loss: 0.2266 - acc: 0.8857 - val_loss: 0.1853 - val_acc: 0.9296\n",
      "Epoch 7/10\n",
      " - 4s - loss: 0.2656 - acc: 0.8429 - val_loss: 0.1800 - val_acc: 0.9296\n",
      "Epoch 8/10\n",
      " - 4s - loss: 0.2287 - acc: 0.8524 - val_loss: 0.1707 - val_acc: 0.9577\n",
      "Epoch 9/10\n",
      " - 4s - loss: 0.2461 - acc: 0.8714 - val_loss: 0.1708 - val_acc: 0.9577\n",
      "Epoch 10/10\n",
      " - 4s - loss: 0.2423 - acc: 0.8667 - val_loss: 0.1510 - val_acc: 0.9577\n",
      "Train on 210 samples, validate on 71 samples\n",
      "Epoch 1/10\n",
      " - 5s - loss: 0.7445 - acc: 0.6810 - val_loss: 0.3480 - val_acc: 0.8732\n",
      "Epoch 2/10\n",
      " - 4s - loss: 0.3213 - acc: 0.8333 - val_loss: 0.2707 - val_acc: 0.8873\n",
      "Epoch 3/10\n",
      " - 4s - loss: 0.3021 - acc: 0.8333 - val_loss: 0.2440 - val_acc: 0.8732\n",
      "Epoch 4/10\n",
      " - 4s - loss: 0.3524 - acc: 0.8000 - val_loss: 0.2345 - val_acc: 0.9155\n",
      "Epoch 5/10\n",
      " - 4s - loss: 0.2815 - acc: 0.8143 - val_loss: 0.2145 - val_acc: 0.9296\n",
      "Epoch 6/10\n",
      " - 4s - loss: 0.2422 - acc: 0.8571 - val_loss: 0.1892 - val_acc: 0.9155\n",
      "Epoch 7/10\n",
      " - 4s - loss: 0.1974 - acc: 0.8714 - val_loss: 0.1841 - val_acc: 0.9155\n",
      "Epoch 8/10\n",
      " - 4s - loss: 0.2294 - acc: 0.8238 - val_loss: 0.1873 - val_acc: 0.9296\n",
      "Epoch 9/10\n",
      " - 4s - loss: 0.2021 - acc: 0.8524 - val_loss: 0.1760 - val_acc: 0.9437\n",
      "Epoch 10/10\n",
      " - 4s - loss: 0.1512 - acc: 0.8905 - val_loss: 0.2150 - val_acc: 0.8873\n"
     ]
    }
   ],
   "source": [
    "mods = [create_conv_flux_model() for _ in range(5)]\n",
    "for mod in mods:\n",
    "    X_train, X_test, y_train, y_test = train_test_split(res_flux, Y)\n",
    "    mod.fit(X_train, y_train, epochs=10, batch_size=8, validation_data=(X_test, y_test), verbose=2)"
   ]
  },
  {
   "cell_type": "code",
   "execution_count": 8,
   "metadata": {},
   "outputs": [
    {
     "data": {
      "text/plain": [
       "5"
      ]
     },
     "execution_count": 8,
     "metadata": {},
     "output_type": "execute_result"
    }
   ],
   "source": [
    "len(mods)"
   ]
  },
  {
   "cell_type": "code",
   "execution_count": 19,
   "metadata": {},
   "outputs": [],
   "source": [
    "preds_classes = mods[0].predict_classes(res_flux)\n",
    "preds_probas = mods[0].predict(res_flux)"
   ]
  },
  {
   "cell_type": "code",
   "execution_count": 33,
   "metadata": {},
   "outputs": [
    {
     "name": "stdout",
     "output_type": "stream",
     "text": [
      "Model Number: 1\n",
      "Predicted [1] when it was really [0.]. ID: [b'4029_55618_17_oneline'], PROBA: [0.7180245]\n",
      "[[ 67   1]\n",
      " [  0 213]]\n",
      "-----------------------------------------------\n",
      "Model Number: 2\n",
      "[[ 68   0]\n",
      " [  0 213]]\n",
      "-----------------------------------------------\n",
      "Model Number: 3\n",
      "Predicted [1] when it was really [0.]. ID: [b'3586_55181_980_oneline'], PROBA: [0.6003894]\n",
      "Predicted [1] when it was really [0.]. ID: [b'3589_55186_104_oneline'], PROBA: [0.54114014]\n",
      "Predicted [1] when it was really [0.]. ID: [b'3590_55201_531_multiline'], PROBA: [0.5300186]\n",
      "Predicted [1] when it was really [0.]. ID: [b'4276_55505_32_oneline'], PROBA: [0.5171944]\n",
      "Predicted [1] when it was really [0.]. ID: [b'4767_55946_72_oneline'], PROBA: [0.59787476]\n",
      "Predicted [1] when it was really [0.]. ID: [b'5131_55835_97_multiline'], PROBA: [0.6140185]\n",
      "Predicted [1] when it was really [0.]. ID: [b'5131_55835_97_oneline'], PROBA: [0.6140185]\n",
      "Predicted [1] when it was really [0.]. ID: [b'5292_55926_107_oneline'], PROBA: [0.63211673]\n",
      "Predicted [1] when it was really [0.]. ID: [b'7295_57067_227_oneline'], PROBA: [0.58483267]\n",
      "Predicted [0] when it was really [1.]. ID: [b'3932_55337_331_oneline'], PROBA: [0.47083145]\n",
      "[[ 59   9]\n",
      " [  1 212]]\n",
      "-----------------------------------------------\n",
      "Model Number: 4\n",
      "Predicted [1] when it was really [0.]. ID: [b'3588_55184_204_multiline'], PROBA: [0.5047518]\n",
      "Predicted [1] when it was really [0.]. ID: [b'4029_55618_16_multiline'], PROBA: [0.50035644]\n",
      "Predicted [1] when it was really [0.]. ID: [b'4029_55618_16_oneline'], PROBA: [0.50035644]\n",
      "Predicted [1] when it was really [0.]. ID: [b'4029_55618_17_oneline'], PROBA: [0.59268844]\n",
      "Predicted [0] when it was really [1.]. ID: [b'3932_55337_331_oneline'], PROBA: [0.3686086]\n",
      "[[ 64   4]\n",
      " [  1 212]]\n",
      "-----------------------------------------------\n",
      "Model Number: 5\n",
      "Predicted [1] when it was really [0.]. ID: [b'3586_55181_980_oneline'], PROBA: [0.7642029]\n",
      "Predicted [1] when it was really [0.]. ID: [b'3589_55186_428_multiline'], PROBA: [0.97054607]\n",
      "Predicted [1] when it was really [0.]. ID: [b'3590_55201_531_multiline'], PROBA: [0.5467364]\n",
      "Predicted [1] when it was really [0.]. ID: [b'5131_55835_97_multiline'], PROBA: [0.5763912]\n",
      "Predicted [1] when it was really [0.]. ID: [b'5131_55835_97_oneline'], PROBA: [0.5763912]\n",
      "Predicted [0] when it was really [1.]. ID: [b'3677_55205_551_multiline'], PROBA: [0.31057295]\n",
      "Predicted [0] when it was really [1.]. ID: [b'3677_55205_551_oneline'], PROBA: [0.4267402]\n",
      "Predicted [0] when it was really [1.]. ID: [b'3932_55337_331_oneline'], PROBA: [0.31654894]\n",
      "[[ 63   5]\n",
      " [  3 210]]\n",
      "-----------------------------------------------\n"
     ]
    }
   ],
   "source": [
    "bad_sets = [set() for _ in range(len(mods))]\n",
    "for ix, (mod, bad_set) in enumerate(zip(mods, bad_sets)):\n",
    "    print('Model Number: {}'.format(ix+1))\n",
    "    preds_classes = mod.predict_classes(res_flux)\n",
    "    preds_probas = mod.predict(res_flux)\n",
    "    for pred_class, pred_proba, label, id in zip(preds_classes, preds_probas, Y, ids):\n",
    "        if pred_class != label:\n",
    "            bad_set.add(id[0])\n",
    "            print(\"Predicted {} when it was really {}. ID: {}, PROBA: {}\".format(pred_class, label, id, pred_proba))\n",
    "\n",
    "    print(confusion_matrix(Y, mod.predict_classes(res_flux)))\n",
    "    print('-----------------------------------------------')"
   ]
  },
  {
   "cell_type": "code",
   "execution_count": 43,
   "metadata": {},
   "outputs": [
    {
     "data": {
      "text/plain": [
       "{b'3932_55337_331_oneline'}"
      ]
     },
     "execution_count": 43,
     "metadata": {},
     "output_type": "execute_result"
    }
   ],
   "source": [
    "bad_sets[2].intersection(bad_sets[4]).intersection(bad_sets[3])"
   ]
  },
  {
   "cell_type": "code",
   "execution_count": 39,
   "metadata": {},
   "outputs": [],
   "source": [
    "master_set = set()\n",
    "for set_ in bad_sets:\n",
    "    master_set = master_set.union(set_)"
   ]
  },
  {
   "cell_type": "code",
   "execution_count": 44,
   "metadata": {},
   "outputs": [
    {
     "data": {
      "text/plain": [
       "{b'3586_55181_980_oneline',\n",
       " b'3588_55184_204_multiline',\n",
       " b'3589_55186_104_oneline',\n",
       " b'3589_55186_428_multiline',\n",
       " b'3590_55201_531_multiline',\n",
       " b'3677_55205_551_multiline',\n",
       " b'3677_55205_551_oneline',\n",
       " b'3932_55337_331_oneline',\n",
       " b'4029_55618_16_multiline',\n",
       " b'4029_55618_16_oneline',\n",
       " b'4029_55618_17_oneline',\n",
       " b'4276_55505_32_oneline',\n",
       " b'4767_55946_72_oneline',\n",
       " b'5131_55835_97_multiline',\n",
       " b'5131_55835_97_oneline',\n",
       " b'5292_55926_107_oneline',\n",
       " b'7295_57067_227_oneline'}"
      ]
     },
     "execution_count": 44,
     "metadata": {},
     "output_type": "execute_result"
    }
   ],
   "source": [
    "master_set"
   ]
  }
 ],
 "metadata": {
  "kernelspec": {
   "display_name": "Python 3",
   "language": "python",
   "name": "python3"
  },
  "language_info": {
   "codemirror_mode": {
    "name": "ipython",
    "version": 3
   },
   "file_extension": ".py",
   "mimetype": "text/x-python",
   "name": "python",
   "nbconvert_exporter": "python",
   "pygments_lexer": "ipython3",
   "version": "3.6.1"
  }
 },
 "nbformat": 4,
 "nbformat_minor": 2
}
