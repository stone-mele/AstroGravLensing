{
 "cells": [
  {
   "cell_type": "markdown",
   "metadata": {},
   "source": [
    "## Data filtering "
   ]
  },
  {
   "cell_type": "markdown",
   "metadata": {},
   "source": [
    "this notebook is used to finalize the cleaning of the eboss and manga datasets. This is sseen in the Modeling.py file."
   ]
  },
  {
   "cell_type": "code",
   "execution_count": 10,
   "metadata": {},
   "outputs": [],
   "source": [
    "import pandas as pd\n",
    "import numpy as np\n",
    "import matplotlib.pyplot as plt"
   ]
  },
  {
   "cell_type": "markdown",
   "metadata": {},
   "source": [
    "# eBoss"
   ]
  },
  {
   "cell_type": "code",
   "execution_count": 19,
   "metadata": {},
   "outputs": [],
   "source": [
    "# Read in data.\n",
    "raw_data_eBoss = pd.read_csv(\"../../Data/Astronomy.csv\")\n",
    "\n",
    "# Getting rid of the id column\n",
    "trainable_data = raw_data_eBoss.iloc[:, 1:].copy(deep=True)\n",
    "\n",
    "# Seperating X, and Y values.\n",
    "X = trainable_data.iloc[:, :-1].copy(deep=True)\n",
    "Y = trainable_data.iloc[:, -1:].copy(deep=True)\n",
    "\n",
    "# Filling nan values with 0.\n",
    "X = X.apply(pd.to_numeric, args={'errors': 'coerce'})\n",
    "X = X.fillna('0')\n",
    "\n",
    "# Mapping string labels to numeric values.\n",
    "Y = Y.Hits.map({'bad': 0, 'good': 1})"
   ]
  },
  {
   "cell_type": "code",
   "execution_count": 20,
   "metadata": {},
   "outputs": [],
   "source": [
    "eboss_cols = set(X.columns)"
   ]
  },
  {
   "cell_type": "code",
   "execution_count": 21,
   "metadata": {},
   "outputs": [
    {
     "data": {
      "text/html": [
       "<div>\n",
       "<style scoped>\n",
       "    .dataframe tbody tr th:only-of-type {\n",
       "        vertical-align: middle;\n",
       "    }\n",
       "\n",
       "    .dataframe tbody tr th {\n",
       "        vertical-align: top;\n",
       "    }\n",
       "\n",
       "    .dataframe thead th {\n",
       "        text-align: right;\n",
       "    }\n",
       "</style>\n",
       "<table border=\"1\" class=\"dataframe\">\n",
       "  <thead>\n",
       "    <tr style=\"text-align: right;\">\n",
       "      <th></th>\n",
       "      <th>G_FAIL_data0</th>\n",
       "      <th>G_FAIL_data1</th>\n",
       "      <th>G_FAIL_data2</th>\n",
       "      <th>G_FAIL_data3</th>\n",
       "      <th>G_FAIL_data4</th>\n",
       "      <th>G_FAIL_data5</th>\n",
       "      <th>G_FAIL_data6</th>\n",
       "      <th>G_FAIL_data7</th>\n",
       "      <th>G_FAIL_data8</th>\n",
       "      <th>G_FAIL_data9</th>\n",
       "      <th>G_FAIL_data10</th>\n",
       "      <th>G_FAIL_data11</th>\n",
       "    </tr>\n",
       "  </thead>\n",
       "  <tbody>\n",
       "    <tr>\n",
       "      <th>0</th>\n",
       "      <td>0</td>\n",
       "      <td>0</td>\n",
       "      <td>0</td>\n",
       "      <td>0</td>\n",
       "      <td>0</td>\n",
       "      <td>0</td>\n",
       "      <td>0</td>\n",
       "      <td>0</td>\n",
       "      <td>0</td>\n",
       "      <td>0</td>\n",
       "      <td>0</td>\n",
       "      <td>0</td>\n",
       "    </tr>\n",
       "    <tr>\n",
       "      <th>1</th>\n",
       "      <td>0</td>\n",
       "      <td>0</td>\n",
       "      <td>0</td>\n",
       "      <td>0</td>\n",
       "      <td>0</td>\n",
       "      <td>0</td>\n",
       "      <td>0</td>\n",
       "      <td>0</td>\n",
       "      <td>0</td>\n",
       "      <td>0</td>\n",
       "      <td>0</td>\n",
       "      <td>0</td>\n",
       "    </tr>\n",
       "    <tr>\n",
       "      <th>2</th>\n",
       "      <td>0</td>\n",
       "      <td>0</td>\n",
       "      <td>0</td>\n",
       "      <td>0</td>\n",
       "      <td>0</td>\n",
       "      <td>0</td>\n",
       "      <td>0</td>\n",
       "      <td>0</td>\n",
       "      <td>0</td>\n",
       "      <td>0</td>\n",
       "      <td>0</td>\n",
       "      <td>0</td>\n",
       "    </tr>\n",
       "    <tr>\n",
       "      <th>3</th>\n",
       "      <td>0</td>\n",
       "      <td>0</td>\n",
       "      <td>0</td>\n",
       "      <td>0</td>\n",
       "      <td>0</td>\n",
       "      <td>0</td>\n",
       "      <td>1</td>\n",
       "      <td>1</td>\n",
       "      <td>1</td>\n",
       "      <td>1</td>\n",
       "      <td>1</td>\n",
       "      <td>0</td>\n",
       "    </tr>\n",
       "    <tr>\n",
       "      <th>4</th>\n",
       "      <td>0</td>\n",
       "      <td>0</td>\n",
       "      <td>0</td>\n",
       "      <td>0</td>\n",
       "      <td>0</td>\n",
       "      <td>0</td>\n",
       "      <td>0</td>\n",
       "      <td>0</td>\n",
       "      <td>0</td>\n",
       "      <td>0</td>\n",
       "      <td>0</td>\n",
       "      <td>0</td>\n",
       "    </tr>\n",
       "  </tbody>\n",
       "</table>\n",
       "</div>"
      ],
      "text/plain": [
       "   G_FAIL_data0  G_FAIL_data1  G_FAIL_data2  G_FAIL_data3  G_FAIL_data4  \\\n",
       "0             0             0             0             0             0   \n",
       "1             0             0             0             0             0   \n",
       "2             0             0             0             0             0   \n",
       "3             0             0             0             0             0   \n",
       "4             0             0             0             0             0   \n",
       "\n",
       "   G_FAIL_data5  G_FAIL_data6  G_FAIL_data7  G_FAIL_data8  G_FAIL_data9  \\\n",
       "0             0             0             0             0             0   \n",
       "1             0             0             0             0             0   \n",
       "2             0             0             0             0             0   \n",
       "3             0             1             1             1             1   \n",
       "4             0             0             0             0             0   \n",
       "\n",
       "   G_FAIL_data10  G_FAIL_data11  \n",
       "0              0              0  \n",
       "1              0              0  \n",
       "2              0              0  \n",
       "3              1              0  \n",
       "4              0              0  "
      ]
     },
     "execution_count": 21,
     "metadata": {},
     "output_type": "execute_result"
    }
   ],
   "source": [
    "# All the fails\n",
    "X[X.columns[X.columns.str.contains('FAIL')]].head()"
   ]
  },
  {
   "cell_type": "markdown",
   "metadata": {},
   "source": [
    "# Manga"
   ]
  },
  {
   "cell_type": "code",
   "execution_count": 22,
   "metadata": {},
   "outputs": [],
   "source": [
    "# Get raw managa data.\n",
    "raw_data_Manga = pd.read_csv(\"../../Data/Astronomy20000_Original.csv\")\n",
    "\n",
    "# seperate X and Y values.\n",
    "X = raw_data_Manga.iloc[:, 1:-1].copy(deep=True)\n",
    "Y = raw_data_Manga.iloc[:, [-1]].copy(deep=True)\n",
    "\n",
    "# Taking away the always constant emission value locations.\n",
    "X = X.iloc[:, np.r_[2:14, 26:len(X.columns)]].copy(deep=True)\n",
    "\n",
    "# Filling in the null values with 0.\n",
    "X = X.fillna('0')\n",
    "\n",
    "# Mapping string labels to numeric labels.\n",
    "Y = Y.Hits.map({'bad': 0, 'good': 1})"
   ]
  },
  {
   "cell_type": "code",
   "execution_count": 23,
   "metadata": {},
   "outputs": [],
   "source": [
    "manga_cols = set(X.columns)"
   ]
  },
  {
   "cell_type": "code",
   "execution_count": 24,
   "metadata": {},
   "outputs": [
    {
     "data": {
      "text/plain": [
       "(108, 96)"
      ]
     },
     "execution_count": 24,
     "metadata": {},
     "output_type": "execute_result"
    }
   ],
   "source": [
    "len(manga_cols), len(eboss_cols)"
   ]
  },
  {
   "cell_type": "markdown",
   "metadata": {},
   "source": [
    "# Still some differences in the amout of columns"
   ]
  },
  {
   "cell_type": "code",
   "execution_count": 27,
   "metadata": {},
   "outputs": [
    {
     "data": {
      "text/plain": [
       "{'HIT_PAR1_data0',\n",
       " 'HIT_PAR1_data1',\n",
       " 'HIT_PAR1_data10',\n",
       " 'HIT_PAR1_data11',\n",
       " 'HIT_PAR1_data2',\n",
       " 'HIT_PAR1_data3',\n",
       " 'HIT_PAR1_data4',\n",
       " 'HIT_PAR1_data5',\n",
       " 'HIT_PAR1_data6',\n",
       " 'HIT_PAR1_data7',\n",
       " 'HIT_PAR1_data8',\n",
       " 'HIT_PAR1_data9'}"
      ]
     },
     "execution_count": 27,
     "metadata": {},
     "output_type": "execute_result"
    }
   ],
   "source": [
    "manga_cols.difference(eboss_cols)"
   ]
  },
  {
   "cell_type": "code",
   "execution_count": 29,
   "metadata": {},
   "outputs": [
    {
     "data": {
      "text/html": [
       "<div>\n",
       "<style scoped>\n",
       "    .dataframe tbody tr th:only-of-type {\n",
       "        vertical-align: middle;\n",
       "    }\n",
       "\n",
       "    .dataframe tbody tr th {\n",
       "        vertical-align: top;\n",
       "    }\n",
       "\n",
       "    .dataframe thead th {\n",
       "        text-align: right;\n",
       "    }\n",
       "</style>\n",
       "<table border=\"1\" class=\"dataframe\">\n",
       "  <thead>\n",
       "    <tr style=\"text-align: right;\">\n",
       "      <th></th>\n",
       "      <th>HIT_PAR1_data0</th>\n",
       "      <th>HIT_PAR1_data9</th>\n",
       "      <th>HIT_PAR1_data11</th>\n",
       "      <th>HIT_PAR1_data10</th>\n",
       "      <th>HIT_PAR1_data6</th>\n",
       "      <th>HIT_PAR1_data3</th>\n",
       "      <th>HIT_PAR1_data5</th>\n",
       "      <th>HIT_PAR1_data4</th>\n",
       "      <th>HIT_PAR1_data8</th>\n",
       "      <th>HIT_PAR1_data1</th>\n",
       "      <th>HIT_PAR1_data2</th>\n",
       "      <th>HIT_PAR1_data7</th>\n",
       "    </tr>\n",
       "  </thead>\n",
       "  <tbody>\n",
       "    <tr>\n",
       "      <th>0</th>\n",
       "      <td>8644.11</td>\n",
       "      <td>0</td>\n",
       "      <td>8647.05</td>\n",
       "      <td>0</td>\n",
       "      <td>0</td>\n",
       "      <td>0</td>\n",
       "      <td>0</td>\n",
       "      <td>0</td>\n",
       "      <td>0</td>\n",
       "      <td>9516.08</td>\n",
       "      <td>10070.2</td>\n",
       "      <td>0</td>\n",
       "    </tr>\n",
       "    <tr>\n",
       "      <th>1</th>\n",
       "      <td>7264.64</td>\n",
       "      <td>0</td>\n",
       "      <td>7266.47</td>\n",
       "      <td>0</td>\n",
       "      <td>0</td>\n",
       "      <td>9478.55</td>\n",
       "      <td>9760.23</td>\n",
       "      <td>9665.61</td>\n",
       "      <td>0</td>\n",
       "      <td>7994.02</td>\n",
       "      <td>8455.99</td>\n",
       "      <td>0</td>\n",
       "    </tr>\n",
       "    <tr>\n",
       "      <th>2</th>\n",
       "      <td>9321.63</td>\n",
       "      <td>0</td>\n",
       "      <td>9327.68</td>\n",
       "      <td>0</td>\n",
       "      <td>0</td>\n",
       "      <td>0</td>\n",
       "      <td>0</td>\n",
       "      <td>0</td>\n",
       "      <td>0</td>\n",
       "      <td>10260.1</td>\n",
       "      <td>0</td>\n",
       "      <td>0</td>\n",
       "    </tr>\n",
       "    <tr>\n",
       "      <th>3</th>\n",
       "      <td>9701.61</td>\n",
       "      <td>0</td>\n",
       "      <td>9705.77</td>\n",
       "      <td>0</td>\n",
       "      <td>0</td>\n",
       "      <td>0</td>\n",
       "      <td>0</td>\n",
       "      <td>0</td>\n",
       "      <td>0</td>\n",
       "      <td>0</td>\n",
       "      <td>0</td>\n",
       "      <td>0</td>\n",
       "    </tr>\n",
       "    <tr>\n",
       "      <th>4</th>\n",
       "      <td>8784.57</td>\n",
       "      <td>0</td>\n",
       "      <td>8790.57</td>\n",
       "      <td>0</td>\n",
       "      <td>0</td>\n",
       "      <td>0</td>\n",
       "      <td>0</td>\n",
       "      <td>0</td>\n",
       "      <td>0</td>\n",
       "      <td>9670.45</td>\n",
       "      <td>10240.5</td>\n",
       "      <td>0</td>\n",
       "    </tr>\n",
       "  </tbody>\n",
       "</table>\n",
       "</div>"
      ],
      "text/plain": [
       "  HIT_PAR1_data0 HIT_PAR1_data9 HIT_PAR1_data11 HIT_PAR1_data10  \\\n",
       "0        8644.11              0         8647.05               0   \n",
       "1        7264.64              0         7266.47               0   \n",
       "2        9321.63              0         9327.68               0   \n",
       "3        9701.61              0         9705.77               0   \n",
       "4        8784.57              0         8790.57               0   \n",
       "\n",
       "  HIT_PAR1_data6 HIT_PAR1_data3 HIT_PAR1_data5 HIT_PAR1_data4 HIT_PAR1_data8  \\\n",
       "0              0              0              0              0              0   \n",
       "1              0        9478.55        9760.23        9665.61              0   \n",
       "2              0              0              0              0              0   \n",
       "3              0              0              0              0              0   \n",
       "4              0              0              0              0              0   \n",
       "\n",
       "  HIT_PAR1_data1 HIT_PAR1_data2 HIT_PAR1_data7  \n",
       "0        9516.08        10070.2              0  \n",
       "1        7994.02        8455.99              0  \n",
       "2        10260.1              0              0  \n",
       "3              0              0              0  \n",
       "4        9670.45        10240.5              0  "
      ]
     },
     "execution_count": 29,
     "metadata": {},
     "output_type": "execute_result"
    }
   ],
   "source": [
    "X[list(manga_cols.difference(eboss_cols))].head()"
   ]
  }
 ],
 "metadata": {
  "kernelspec": {
   "display_name": "Python 3",
   "language": "python",
   "name": "python3"
  },
  "language_info": {
   "codemirror_mode": {
    "name": "ipython",
    "version": 3
   },
   "file_extension": ".py",
   "mimetype": "text/x-python",
   "name": "python",
   "nbconvert_exporter": "python",
   "pygments_lexer": "ipython3",
   "version": "3.6.1"
  }
 },
 "nbformat": 4,
 "nbformat_minor": 2
}
