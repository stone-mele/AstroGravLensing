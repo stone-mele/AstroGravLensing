{
 "cells": [
  {
   "cell_type": "markdown",
   "metadata": {},
   "source": [
    "# Eboss Neural Network on Flux Data"
   ]
  },
  {
   "cell_type": "markdown",
   "metadata": {},
   "source": [
    "This notebook contains my attempts at training a model on the residual flux data instead of the base flux data. It seems to be doing better."
   ]
  },
  {
   "cell_type": "code",
   "execution_count": 1,
   "metadata": {},
   "outputs": [
    {
     "name": "stderr",
     "output_type": "stream",
     "text": [
      "C:\\Users\\stone\\Miniconda3\\lib\\site-packages\\h5py\\__init__.py:36: FutureWarning: Conversion of the second argument of issubdtype from `float` to `np.floating` is deprecated. In future, it will be treated as `np.float64 == np.dtype(float).type`.\n",
      "  from ._conv import register_converters as _register_converters\n",
      "Using TensorFlow backend.\n"
     ]
    }
   ],
   "source": [
    "import pandas as pd\n",
    "import numpy as np\n",
    "import matplotlib.pyplot as plt\n",
    "import h5py\n",
    "\n",
    "from astropy.io import fits\n",
    "\n",
    "from IPython.display import SVG\n",
    "from keras.utils.vis_utils import plot_model\n",
    "\n",
    "from keras import backend as K\n",
    "from keras.models import Sequential\n",
    "from keras.layers import Input,Dense, Activation, Flatten, Convolution1D, Dropout, MaxPooling1D, Conv2D, Conv1D, InputLayer, Dropout, MaxPooling2D, BatchNormalization\n",
    "from keras.optimizers import SGD, Adam\n",
    "from keras.callbacks import TensorBoard\n",
    "from keras.constraints import Constraint\n",
    "from keras.initializers import Initializer, glorot_uniform\n",
    "from keras.utils import np_utils\n",
    "from keras.layers import Concatenate\n",
    "from keras.wrappers.scikit_learn import KerasClassifier\n",
    "from keras.models import Model\n",
    "\n",
    "import tensorflow as tf\n",
    "\n",
    "from Modeling import CrossValidationModeler"
   ]
  },
  {
   "cell_type": "markdown",
   "metadata": {},
   "source": [
    "---\n",
    "## Manga Multiline DATASET"
   ]
  },
  {
   "cell_type": "code",
   "execution_count": 2,
   "metadata": {},
   "outputs": [],
   "source": [
    "manga_exp = h5py.File('../../Data/manga_multiline_expanded.hdf5')\n",
    "res_flux = np.array(manga_exp['res_flux_values'])\n",
    "res_flux_expanded = np.array(manga_exp['res_flux_values_expanded'])\n",
    "Y = np.array(manga_exp['flux_labels'])\n",
    "\n",
    "manga_exp.close()"
   ]
  },
  {
   "cell_type": "code",
   "execution_count": 28,
   "metadata": {},
   "outputs": [],
   "source": [
    "X = res_flux_expanded.reshape((2184, 21*80,1))"
   ]
  },
  {
   "cell_type": "code",
   "execution_count": 104,
   "metadata": {},
   "outputs": [
    {
     "data": {
      "text/plain": [
       "[<matplotlib.lines.Line2D at 0x19d8aefc2b0>]"
      ]
     },
     "execution_count": 104,
     "metadata": {},
     "output_type": "execute_result"
    },
    {
     "data": {
      "image/png": "[encoded data removed]",
      "text/plain": [
       "<matplotlib.figure.Figure at 0x19d88d0c908>"
      ]
     },
     "metadata": {},
     "output_type": "display_data"
    }
   ],
   "source": [
    "plt.plot(range(21*80), res_flux_expanded[:1].reshape(1, 21*80)[0])"
   ]
  },
  {
   "cell_type": "markdown",
   "metadata": {},
   "source": [
    "# Testing convolution."
   ]
  },
  {
   "cell_type": "code",
   "execution_count": 67,
   "metadata": {},
   "outputs": [
    {
     "name": "stdout",
     "output_type": "stream",
     "text": [
      "Train on 1638 samples, validate on 546 samples\n",
      "Epoch 1/10\n",
      " - 3s - loss: 0.7161 - acc: 0.6844 - val_loss: 0.4934 - val_acc: 0.8663\n",
      "Epoch 2/10\n",
      " - 2s - loss: 0.4797 - acc: 0.8516 - val_loss: 0.3917 - val_acc: 0.8883\n",
      "Epoch 3/10\n",
      " - 2s - loss: 0.3856 - acc: 0.8639 - val_loss: 0.3218 - val_acc: 0.8901\n",
      "Epoch 4/10\n",
      " - 2s - loss: 0.3159 - acc: 0.8950 - val_loss: 0.3466 - val_acc: 0.8938\n",
      "Epoch 5/10\n",
      " - 2s - loss: 0.2974 - acc: 0.9011 - val_loss: 0.2876 - val_acc: 0.8956\n",
      "Epoch 6/10\n",
      " - 2s - loss: 0.3231 - acc: 0.8993 - val_loss: 0.2824 - val_acc: 0.9048\n",
      "Epoch 7/10\n",
      " - 2s - loss: 0.2679 - acc: 0.9219 - val_loss: 0.3678 - val_acc: 0.8956\n",
      "Epoch 8/10\n",
      " - 2s - loss: 0.2541 - acc: 0.9200 - val_loss: 0.3621 - val_acc: 0.9029\n",
      "Epoch 9/10\n",
      " - 2s - loss: 0.2408 - acc: 0.9219 - val_loss: 0.2753 - val_acc: 0.9103\n",
      "Epoch 10/10\n",
      " - 2s - loss: 0.2079 - acc: 0.9371 - val_loss: 0.3221 - val_acc: 0.8993\n"
     ]
    },
    {
     "data": {
      "text/plain": [
       "<keras.callbacks.History at 0x2d9836720f0>"
      ]
     },
     "execution_count": 67,
     "metadata": {},
     "output_type": "execute_result"
    }
   ],
   "source": [
    "def expanded_model():\n",
    "    model = Sequential()\n",
    "    model.add(InputLayer(batch_input_shape=(None, 21, 80, 1)))\n",
    "    model.add(Conv2D(filters=12, kernel_size=(10,1), activation= 'relu'))\n",
    "    #model.add(Conv2D(filters=6, kernel_size=(10,1), activation= 'relu'))\n",
    "    model.add(MaxPooling2D((3,1)))\n",
    "    model.add(Flatten())\n",
    "    model.add(Dense(100,activation='relu'))\n",
    "    model.add(Dropout(.5))\n",
    "    model.add(Dense(50, activation='relu'))\n",
    "    model.add(Dropout(.5))\n",
    "    model.add(Dense(1, activation='sigmoid'))\n",
    "    model.compile(loss='binary_crossentropy', optimizer='adam', metrics=['accuracy'])\n",
    "    return model\n",
    "\n",
    "X_temp = res_flux_expanded.reshape((2184, 21, 80, 1))\n",
    "X_train, X_test, y_train, y_test = train_test_split(X_temp, Y)\n",
    "\n",
    "mod = expanded_model()\n",
    "mod.fit(X_train, y_train, epochs=10, batch_size=8, validation_data=(X_test, y_test), verbose=2)"
   ]
  },
  {
   "cell_type": "code",
   "execution_count": 70,
   "metadata": {},
   "outputs": [
    {
     "name": "stdout",
     "output_type": "stream",
     "text": [
      "Train on 1638 samples, validate on 546 samples\n",
      "Epoch 1/25\n",
      " - 4s - loss: 0.7030 - acc: 0.6856 - val_loss: 0.5659 - val_acc: 0.7473\n",
      "Epoch 2/25\n",
      " - 3s - loss: 0.5611 - acc: 0.7753 - val_loss: 0.4431 - val_acc: 0.8791\n",
      "Epoch 3/25\n",
      " - 4s - loss: 0.4987 - acc: 0.7955 - val_loss: 0.3678 - val_acc: 0.8791\n",
      "Epoch 4/25\n",
      " - 3s - loss: 0.5046 - acc: 0.8034 - val_loss: 0.3462 - val_acc: 0.8535\n",
      "Epoch 5/25\n",
      " - 4s - loss: 0.4390 - acc: 0.8101 - val_loss: 0.3444 - val_acc: 0.8791\n",
      "Epoch 6/25\n",
      " - 4s - loss: 0.4214 - acc: 0.8089 - val_loss: 0.3196 - val_acc: 0.8828\n",
      "Epoch 7/25\n",
      " - 3s - loss: 0.4081 - acc: 0.8394 - val_loss: 0.3011 - val_acc: 0.9048\n",
      "Epoch 8/25\n",
      " - 3s - loss: 0.3629 - acc: 0.8498 - val_loss: 0.2954 - val_acc: 0.9048\n",
      "Epoch 9/25\n",
      " - 3s - loss: 0.3440 - acc: 0.8681 - val_loss: 0.3354 - val_acc: 0.8993\n",
      "Epoch 10/25\n",
      " - 3s - loss: 0.3549 - acc: 0.8596 - val_loss: 0.3110 - val_acc: 0.8938\n",
      "Epoch 11/25\n",
      " - 4s - loss: 0.3295 - acc: 0.8492 - val_loss: 0.3383 - val_acc: 0.9066\n",
      "Epoch 12/25\n",
      " - 4s - loss: 0.3126 - acc: 0.8828 - val_loss: 0.3212 - val_acc: 0.9103\n",
      "Epoch 13/25\n",
      " - 4s - loss: 0.3496 - acc: 0.8712 - val_loss: 0.3286 - val_acc: 0.8993\n",
      "Epoch 14/25\n",
      " - 3s - loss: 0.3597 - acc: 0.8767 - val_loss: 0.3255 - val_acc: 0.9084\n",
      "Epoch 15/25\n",
      " - 3s - loss: 0.2813 - acc: 0.8895 - val_loss: 0.3197 - val_acc: 0.9121\n",
      "Epoch 16/25\n",
      " - 3s - loss: 0.3102 - acc: 0.8877 - val_loss: 0.3287 - val_acc: 0.9029\n",
      "Epoch 17/25\n",
      " - 3s - loss: 0.3174 - acc: 0.8913 - val_loss: 0.3326 - val_acc: 0.9121\n",
      "Epoch 18/25\n",
      " - 3s - loss: 0.2923 - acc: 0.8919 - val_loss: 0.3387 - val_acc: 0.9029\n",
      "Epoch 19/25\n",
      " - 3s - loss: 0.2770 - acc: 0.9017 - val_loss: 0.3370 - val_acc: 0.9176\n",
      "Epoch 20/25\n",
      " - 3s - loss: 0.2904 - acc: 0.9054 - val_loss: 0.3519 - val_acc: 0.9158\n",
      "Epoch 21/25\n",
      " - 3s - loss: 0.2743 - acc: 0.9127 - val_loss: 0.3507 - val_acc: 0.9103\n",
      "Epoch 22/25\n",
      " - 3s - loss: 0.3042 - acc: 0.9078 - val_loss: 0.3216 - val_acc: 0.9176\n",
      "Epoch 23/25\n",
      " - 3s - loss: 0.2768 - acc: 0.9145 - val_loss: 0.3227 - val_acc: 0.9176\n",
      "Epoch 24/25\n",
      " - 3s - loss: 0.2707 - acc: 0.9121 - val_loss: 0.3144 - val_acc: 0.9176\n",
      "Epoch 25/25\n",
      " - 3s - loss: 0.2627 - acc: 0.9133 - val_loss: 0.3245 - val_acc: 0.9176\n"
     ]
    },
    {
     "data": {
      "text/plain": [
       "<keras.callbacks.History at 0x2d98b061e80>"
      ]
     },
     "execution_count": 70,
     "metadata": {},
     "output_type": "execute_result"
    }
   ],
   "source": [
    "def create_conv_flux_model():\n",
    "    model = Sequential()\n",
    "    model.add(InputLayer(batch_input_shape=(None,1680, 1)))\n",
    "    model.add(Conv1D(filters=64, kernel_size=20,activation= 'relu'))\n",
    "    #model.add(Conv1D(filters=24, kernel_size=5,activation= 'relu'))\n",
    "    model.add(MaxPooling1D(10))\n",
    "    model.add(Flatten())\n",
    "    model.add(Dense(30,activation='relu'))\n",
    "    model.add(Dropout(.5))\n",
    "    model.add(Dense(20, activation='relu'))\n",
    "    model.add(Dropout(.5))\n",
    "    model.add(Dense(1, activation='sigmoid'))\n",
    "    model.compile(loss='binary_crossentropy', optimizer='adam', metrics=['accuracy'])\n",
    "    return model\n",
    "\n",
    "mod = create_conv_flux_model()\n",
    "mod.fit(X_train, y_train, epochs=25, batch_size=8, validation_data=(X_test, y_test), verbose=2)"
   ]
  },
  {
   "cell_type": "code",
   "execution_count": null,
   "metadata": {},
   "outputs": [],
   "source": [
    "X_train, X_test, y_train, y_test = train_test_split(X, Y)"
   ]
  }
 ],
 "metadata": {
  "kernelspec": {
   "display_name": "Python 3",
   "language": "python",
   "name": "python3"
  },
  "language_info": {
   "codemirror_mode": {
    "name": "ipython",
    "version": 3
   },
   "file_extension": ".py",
   "mimetype": "text/x-python",
   "name": "python",
   "nbconvert_exporter": "python",
   "pygments_lexer": "ipython3",
   "version": "3.6.1"
  }
 },
 "nbformat": 4,
 "nbformat_minor": 2
}
