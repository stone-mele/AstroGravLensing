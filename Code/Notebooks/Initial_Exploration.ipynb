{
 "cells": [
  {
   "cell_type": "markdown",
   "metadata": {},
   "source": [
    "This notebook is used for exploring the initial datasets given by Zahra."
   ]
  },
  {
   "cell_type": "code",
   "execution_count": 2,
   "metadata": {},
   "outputs": [],
   "source": [
    "import pandas as pd\n",
    "import numpy as np\n",
    "import matplotlib.pyplot as plt"
   ]
  },
  {
   "cell_type": "markdown",
   "metadata": {},
   "source": [
    "Reading in the two datsets."
   ]
  },
  {
   "cell_type": "code",
   "execution_count": 3,
   "metadata": {},
   "outputs": [],
   "source": [
    "s_set = pd.read_csv(\"../../Data/Astronomy.csv\")\n",
    "l_set = pd.read_csv(\"../../Data/Astronomy20000_Original.csv\")"
   ]
  },
  {
   "cell_type": "markdown",
   "metadata": {},
   "source": [
    "Why does one have more columns than the other?"
   ]
  },
  {
   "cell_type": "code",
   "execution_count": 4,
   "metadata": {},
   "outputs": [
    {
     "data": {
      "text/plain": [
       "(98, 124)"
      ]
     },
     "execution_count": 4,
     "metadata": {},
     "output_type": "execute_result"
    }
   ],
   "source": [
    "len(s_set.columns), len(l_set.columns)"
   ]
  },
  {
   "cell_type": "code",
   "execution_count": 5,
   "metadata": {},
   "outputs": [
    {
     "data": {
      "text/html": [
       "<div>\n",
       "<style scoped>\n",
       "    .dataframe tbody tr th:only-of-type {\n",
       "        vertical-align: middle;\n",
       "    }\n",
       "\n",
       "    .dataframe tbody tr th {\n",
       "        vertical-align: top;\n",
       "    }\n",
       "\n",
       "    .dataframe thead th {\n",
       "        text-align: right;\n",
       "    }\n",
       "</style>\n",
       "<table border=\"1\" class=\"dataframe\">\n",
       "  <thead>\n",
       "    <tr style=\"text-align: right;\">\n",
       "      <th></th>\n",
       "      <th>ID</th>\n",
       "      <th>o2sn</th>\n",
       "      <th>emsn1</th>\n",
       "      <th>emsn2</th>\n",
       "      <th>emsn3</th>\n",
       "      <th>emsn4</th>\n",
       "      <th>emsn5</th>\n",
       "      <th>emsn6</th>\n",
       "      <th>emsn7</th>\n",
       "      <th>emsn8</th>\n",
       "      <th>...</th>\n",
       "      <th>HIT_FWHM_data10</th>\n",
       "      <th>G_FAIL_data10</th>\n",
       "      <th>EMLINE_data11</th>\n",
       "      <th>HIT_PAR2_data11</th>\n",
       "      <th>HIT_PAR3_data11</th>\n",
       "      <th>HIT_PAR4_data11</th>\n",
       "      <th>HIT_CHI2_data11</th>\n",
       "      <th>HIT_FWHM_data11</th>\n",
       "      <th>G_FAIL_data11</th>\n",
       "      <th>Hits</th>\n",
       "    </tr>\n",
       "  </thead>\n",
       "  <tbody>\n",
       "    <tr>\n",
       "      <th>0</th>\n",
       "      <td>10000_57346_116_multiline</td>\n",
       "      <td>9.84807</td>\n",
       "      <td>0.000000</td>\n",
       "      <td>0.000000</td>\n",
       "      <td>0.000000</td>\n",
       "      <td>0.00000</td>\n",
       "      <td>7.219380</td>\n",
       "      <td>0.000000</td>\n",
       "      <td>0.00000</td>\n",
       "      <td>0.00000</td>\n",
       "      <td>...</td>\n",
       "      <td>1.556333587</td>\n",
       "      <td>0</td>\n",
       "      <td>1</td>\n",
       "      <td>1.422592623</td>\n",
       "      <td>1.983385752</td>\n",
       "      <td>0.533199646</td>\n",
       "      <td>0.359276382</td>\n",
       "      <td>2.897465745</td>\n",
       "      <td>0</td>\n",
       "      <td>bad</td>\n",
       "    </tr>\n",
       "    <tr>\n",
       "      <th>1</th>\n",
       "      <td>10000_57346_124_multiline</td>\n",
       "      <td>0.00000</td>\n",
       "      <td>1.688110</td>\n",
       "      <td>5.440730</td>\n",
       "      <td>0.000000</td>\n",
       "      <td>0.00000</td>\n",
       "      <td>0.000000</td>\n",
       "      <td>0.000000</td>\n",
       "      <td>0.00000</td>\n",
       "      <td>4.05273</td>\n",
       "      <td>...</td>\n",
       "      <td>2.533741767</td>\n",
       "      <td>0</td>\n",
       "      <td>11</td>\n",
       "      <td>-0.51669912</td>\n",
       "      <td>1.799032709</td>\n",
       "      <td>0.270647345</td>\n",
       "      <td>3.62E-07</td>\n",
       "      <td>1.159157377</td>\n",
       "      <td>0</td>\n",
       "      <td>bad</td>\n",
       "    </tr>\n",
       "    <tr>\n",
       "      <th>2</th>\n",
       "      <td>10000_57346_125_oneline</td>\n",
       "      <td>15.73400</td>\n",
       "      <td>0.000000</td>\n",
       "      <td>0.714140</td>\n",
       "      <td>0.486063</td>\n",
       "      <td>0.00000</td>\n",
       "      <td>0.616556</td>\n",
       "      <td>0.896988</td>\n",
       "      <td>2.20671</td>\n",
       "      <td>1.42808</td>\n",
       "      <td>...</td>\n",
       "      <td>2.451458869</td>\n",
       "      <td>0</td>\n",
       "      <td>11</td>\n",
       "      <td>1.444404188</td>\n",
       "      <td>1.197257091</td>\n",
       "      <td>1.01770292</td>\n",
       "      <td>0.465643829</td>\n",
       "      <td>2.487853168</td>\n",
       "      <td>0</td>\n",
       "      <td>bad</td>\n",
       "    </tr>\n",
       "    <tr>\n",
       "      <th>3</th>\n",
       "      <td>10000_57346_146_oneline</td>\n",
       "      <td>6.04805</td>\n",
       "      <td>0.000000</td>\n",
       "      <td>0.733209</td>\n",
       "      <td>1.100220</td>\n",
       "      <td>1.52694</td>\n",
       "      <td>0.000000</td>\n",
       "      <td>0.000000</td>\n",
       "      <td>0.00000</td>\n",
       "      <td>0.00000</td>\n",
       "      <td>...</td>\n",
       "      <td></td>\n",
       "      <td>1</td>\n",
       "      <td>11</td>\n",
       "      <td>0.526108827</td>\n",
       "      <td>0.889537468</td>\n",
       "      <td>0.758065565</td>\n",
       "      <td>0.020413101</td>\n",
       "      <td>2.902326746</td>\n",
       "      <td>0</td>\n",
       "      <td>bad</td>\n",
       "    </tr>\n",
       "    <tr>\n",
       "      <th>4</th>\n",
       "      <td>10000_57346_192_oneline</td>\n",
       "      <td>6.28542</td>\n",
       "      <td>0.359201</td>\n",
       "      <td>0.577766</td>\n",
       "      <td>0.000000</td>\n",
       "      <td>0.00000</td>\n",
       "      <td>0.000000</td>\n",
       "      <td>0.000000</td>\n",
       "      <td>0.00000</td>\n",
       "      <td>0.00000</td>\n",
       "      <td>...</td>\n",
       "      <td>2.640847634</td>\n",
       "      <td>0</td>\n",
       "      <td>4</td>\n",
       "      <td>0.19248576</td>\n",
       "      <td>0.539766549</td>\n",
       "      <td>1.309847542</td>\n",
       "      <td>0.087388471</td>\n",
       "      <td>3.227941177</td>\n",
       "      <td>0</td>\n",
       "      <td>bad</td>\n",
       "    </tr>\n",
       "  </tbody>\n",
       "</table>\n",
       "<p>5 rows × 98 columns</p>\n",
       "</div>"
      ],
      "text/plain": [
       "                          ID      o2sn     emsn1     emsn2     emsn3    emsn4  \\\n",
       "0  10000_57346_116_multiline   9.84807  0.000000  0.000000  0.000000  0.00000   \n",
       "1  10000_57346_124_multiline   0.00000  1.688110  5.440730  0.000000  0.00000   \n",
       "2    10000_57346_125_oneline  15.73400  0.000000  0.714140  0.486063  0.00000   \n",
       "3    10000_57346_146_oneline   6.04805  0.000000  0.733209  1.100220  1.52694   \n",
       "4    10000_57346_192_oneline   6.28542  0.359201  0.577766  0.000000  0.00000   \n",
       "\n",
       "      emsn5     emsn6    emsn7    emsn8  ...   HIT_FWHM_data10  G_FAIL_data10  \\\n",
       "0  7.219380  0.000000  0.00000  0.00000  ...       1.556333587              0   \n",
       "1  0.000000  0.000000  0.00000  4.05273  ...       2.533741767              0   \n",
       "2  0.616556  0.896988  2.20671  1.42808  ...       2.451458869              0   \n",
       "3  0.000000  0.000000  0.00000  0.00000  ...                                1   \n",
       "4  0.000000  0.000000  0.00000  0.00000  ...       2.640847634              0   \n",
       "\n",
       "   EMLINE_data11  HIT_PAR2_data11  HIT_PAR3_data11  HIT_PAR4_data11  \\\n",
       "0              1      1.422592623      1.983385752      0.533199646   \n",
       "1             11      -0.51669912      1.799032709      0.270647345   \n",
       "2             11      1.444404188      1.197257091       1.01770292   \n",
       "3             11      0.526108827      0.889537468      0.758065565   \n",
       "4              4       0.19248576      0.539766549      1.309847542   \n",
       "\n",
       "   HIT_CHI2_data11  HIT_FWHM_data11  G_FAIL_data11  Hits  \n",
       "0      0.359276382      2.897465745              0   bad  \n",
       "1         3.62E-07      1.159157377              0   bad  \n",
       "2      0.465643829      2.487853168              0   bad  \n",
       "3      0.020413101      2.902326746              0   bad  \n",
       "4      0.087388471      3.227941177              0   bad  \n",
       "\n",
       "[5 rows x 98 columns]"
      ]
     },
     "execution_count": 5,
     "metadata": {},
     "output_type": "execute_result"
    }
   ],
   "source": [
    "s_set.head()"
   ]
  },
  {
   "cell_type": "code",
   "execution_count": 44,
   "metadata": {},
   "outputs": [
    {
     "data": {
      "text/html": [
       "<div>\n",
       "<style scoped>\n",
       "    .dataframe tbody tr th:only-of-type {\n",
       "        vertical-align: middle;\n",
       "    }\n",
       "\n",
       "    .dataframe tbody tr th {\n",
       "        vertical-align: top;\n",
       "    }\n",
       "\n",
       "    .dataframe thead th {\n",
       "        text-align: right;\n",
       "    }\n",
       "</style>\n",
       "<table border=\"1\" class=\"dataframe\">\n",
       "  <thead>\n",
       "    <tr style=\"text-align: right;\">\n",
       "      <th></th>\n",
       "      <th>id</th>\n",
       "      <th>index</th>\n",
       "      <th>wave</th>\n",
       "      <th>o2sn</th>\n",
       "      <th>emsn1</th>\n",
       "      <th>emsn2</th>\n",
       "      <th>emsn3</th>\n",
       "      <th>emsn4</th>\n",
       "      <th>emsn5</th>\n",
       "      <th>emsn6</th>\n",
       "      <th>...</th>\n",
       "      <th>G_FAIL_data10</th>\n",
       "      <th>EMLINE_data11</th>\n",
       "      <th>HIT_PAR1_data11</th>\n",
       "      <th>HIT_PAR2_data11</th>\n",
       "      <th>HIT_PAR3_data11</th>\n",
       "      <th>HIT_PAR4_data11</th>\n",
       "      <th>HIT_CHI2_data11</th>\n",
       "      <th>HIT_FWHM_data11</th>\n",
       "      <th>G_FAIL_data11</th>\n",
       "      <th>Hits</th>\n",
       "    </tr>\n",
       "  </thead>\n",
       "  <tbody>\n",
       "    <tr>\n",
       "      <th>18440</th>\n",
       "      <td>10001_12701_fiber_559_oneline</td>\n",
       "      <td>3251</td>\n",
       "      <td>7655.9663</td>\n",
       "      <td>8.020063</td>\n",
       "      <td>0.000000</td>\n",
       "      <td>0.000000</td>\n",
       "      <td>0.0</td>\n",
       "      <td>0.048782</td>\n",
       "      <td>0.766544</td>\n",
       "      <td>NaN</td>\n",
       "      <td>...</td>\n",
       "      <td>1.0</td>\n",
       "      <td>11.0</td>\n",
       "      <td>7655.969854</td>\n",
       "      <td>-0.687763</td>\n",
       "      <td>2.853379</td>\n",
       "      <td>3.132628</td>\n",
       "      <td>0.109881</td>\n",
       "      <td>6.957911</td>\n",
       "      <td>0.0</td>\n",
       "      <td>bad</td>\n",
       "    </tr>\n",
       "    <tr>\n",
       "      <th>18441</th>\n",
       "      <td>10001_12702_fiber_188_oneline</td>\n",
       "      <td>3180</td>\n",
       "      <td>7531.8213</td>\n",
       "      <td>6.000601</td>\n",
       "      <td>0.000000</td>\n",
       "      <td>0.889500</td>\n",
       "      <td>0.0</td>\n",
       "      <td>0.000000</td>\n",
       "      <td>0.310842</td>\n",
       "      <td>NaN</td>\n",
       "      <td>...</td>\n",
       "      <td>1.0</td>\n",
       "      <td>11.0</td>\n",
       "      <td>7532.521705</td>\n",
       "      <td>0.035022</td>\n",
       "      <td>2.056552</td>\n",
       "      <td>1.702374</td>\n",
       "      <td>0.127388</td>\n",
       "      <td>4.291452</td>\n",
       "      <td>0.0</td>\n",
       "      <td>bad</td>\n",
       "    </tr>\n",
       "    <tr>\n",
       "      <th>18442</th>\n",
       "      <td>10001_12703_fiber_178_oneline</td>\n",
       "      <td>3647</td>\n",
       "      <td>8386.8720</td>\n",
       "      <td>19.043812</td>\n",
       "      <td>0.000000</td>\n",
       "      <td>0.000000</td>\n",
       "      <td>NaN</td>\n",
       "      <td>NaN</td>\n",
       "      <td>NaN</td>\n",
       "      <td>NaN</td>\n",
       "      <td>...</td>\n",
       "      <td>1.0</td>\n",
       "      <td>11.0</td>\n",
       "      <td>8386.219883</td>\n",
       "      <td>1.442163</td>\n",
       "      <td>10.492358</td>\n",
       "      <td>2.018959</td>\n",
       "      <td>0.178514</td>\n",
       "      <td>4.961383</td>\n",
       "      <td>0.0</td>\n",
       "      <td>bad</td>\n",
       "    </tr>\n",
       "    <tr>\n",
       "      <th>18443</th>\n",
       "      <td>10001_12703_fiber_458_oneline</td>\n",
       "      <td>1062</td>\n",
       "      <td>4624.8750</td>\n",
       "      <td>6.180350</td>\n",
       "      <td>0.000000</td>\n",
       "      <td>0.000000</td>\n",
       "      <td>0.0</td>\n",
       "      <td>0.634303</td>\n",
       "      <td>0.376014</td>\n",
       "      <td>0.000000</td>\n",
       "      <td>...</td>\n",
       "      <td>0.0</td>\n",
       "      <td>11.0</td>\n",
       "      <td>4624.389074</td>\n",
       "      <td>0.957325</td>\n",
       "      <td>1.899218</td>\n",
       "      <td>0.376856</td>\n",
       "      <td>0.198966</td>\n",
       "      <td>1.871991</td>\n",
       "      <td>0.0</td>\n",
       "      <td>bad</td>\n",
       "    </tr>\n",
       "    <tr>\n",
       "      <th>18444</th>\n",
       "      <td>10001_12703_fiber_711_oneline</td>\n",
       "      <td>1049</td>\n",
       "      <td>4611.0520</td>\n",
       "      <td>7.669427</td>\n",
       "      <td>0.299301</td>\n",
       "      <td>1.557217</td>\n",
       "      <td>0.0</td>\n",
       "      <td>0.000000</td>\n",
       "      <td>1.462397</td>\n",
       "      <td>1.200322</td>\n",
       "      <td>...</td>\n",
       "      <td>0.0</td>\n",
       "      <td>11.0</td>\n",
       "      <td>4609.402379</td>\n",
       "      <td>-1.445292</td>\n",
       "      <td>3.203896</td>\n",
       "      <td>9.239709</td>\n",
       "      <td>1.056343</td>\n",
       "      <td>NaN</td>\n",
       "      <td>0.0</td>\n",
       "      <td>bad</td>\n",
       "    </tr>\n",
       "  </tbody>\n",
       "</table>\n",
       "<p>5 rows × 124 columns</p>\n",
       "</div>"
      ],
      "text/plain": [
       "                                  id  index       wave       o2sn     emsn1  \\\n",
       "18440  10001_12701_fiber_559_oneline   3251  7655.9663   8.020063  0.000000   \n",
       "18441  10001_12702_fiber_188_oneline   3180  7531.8213   6.000601  0.000000   \n",
       "18442  10001_12703_fiber_178_oneline   3647  8386.8720  19.043812  0.000000   \n",
       "18443  10001_12703_fiber_458_oneline   1062  4624.8750   6.180350  0.000000   \n",
       "18444  10001_12703_fiber_711_oneline   1049  4611.0520   7.669427  0.299301   \n",
       "\n",
       "          emsn2  emsn3     emsn4     emsn5     emsn6  ...   G_FAIL_data10  \\\n",
       "18440  0.000000    0.0  0.048782  0.766544       NaN  ...             1.0   \n",
       "18441  0.889500    0.0  0.000000  0.310842       NaN  ...             1.0   \n",
       "18442  0.000000    NaN       NaN       NaN       NaN  ...             1.0   \n",
       "18443  0.000000    0.0  0.634303  0.376014  0.000000  ...             0.0   \n",
       "18444  1.557217    0.0  0.000000  1.462397  1.200322  ...             0.0   \n",
       "\n",
       "       EMLINE_data11  HIT_PAR1_data11  HIT_PAR2_data11  HIT_PAR3_data11  \\\n",
       "18440           11.0      7655.969854        -0.687763         2.853379   \n",
       "18441           11.0      7532.521705         0.035022         2.056552   \n",
       "18442           11.0      8386.219883         1.442163        10.492358   \n",
       "18443           11.0      4624.389074         0.957325         1.899218   \n",
       "18444           11.0      4609.402379        -1.445292         3.203896   \n",
       "\n",
       "       HIT_PAR4_data11  HIT_CHI2_data11  HIT_FWHM_data11  G_FAIL_data11  Hits  \n",
       "18440         3.132628         0.109881         6.957911            0.0   bad  \n",
       "18441         1.702374         0.127388         4.291452            0.0   bad  \n",
       "18442         2.018959         0.178514         4.961383            0.0   bad  \n",
       "18443         0.376856         0.198966         1.871991            0.0   bad  \n",
       "18444         9.239709         1.056343              NaN            0.0   bad  \n",
       "\n",
       "[5 rows x 124 columns]"
      ]
     },
     "execution_count": 44,
     "metadata": {},
     "output_type": "execute_result"
    }
   ],
   "source": [
    "l_set.sort_values(by='id').head()"
   ]
  },
  {
   "cell_type": "markdown",
   "metadata": {},
   "source": [
    "Different columns in the manga dataset than the eboss dataset."
   ]
  },
  {
   "cell_type": "code",
   "execution_count": 45,
   "metadata": {},
   "outputs": [
    {
     "data": {
      "text/plain": [
       "{'HIA',\n",
       " 'HIB',\n",
       " 'HIC',\n",
       " 'HID',\n",
       " 'HIT_PAR1_data0',\n",
       " 'HIT_PAR1_data1',\n",
       " 'HIT_PAR1_data10',\n",
       " 'HIT_PAR1_data11',\n",
       " 'HIT_PAR1_data2',\n",
       " 'HIT_PAR1_data3',\n",
       " 'HIT_PAR1_data4',\n",
       " 'HIT_PAR1_data5',\n",
       " 'HIT_PAR1_data6',\n",
       " 'HIT_PAR1_data7',\n",
       " 'HIT_PAR1_data8',\n",
       " 'HIT_PAR1_data9',\n",
       " 'NIIA',\n",
       " 'NIIB',\n",
       " 'OIIA',\n",
       " 'OIIB',\n",
       " 'OIIIA',\n",
       " 'OIIIB',\n",
       " 'SIIA',\n",
       " 'SIIB',\n",
       " 'id',\n",
       " 'index',\n",
       " 'wave'}"
      ]
     },
     "execution_count": 45,
     "metadata": {},
     "output_type": "execute_result"
    }
   ],
   "source": [
    "set(l_set).difference(set(s_set))"
   ]
  },
  {
   "cell_type": "code",
   "execution_count": 46,
   "metadata": {},
   "outputs": [
    {
     "data": {
      "text/plain": [
       "{'ID'}"
      ]
     },
     "execution_count": 46,
     "metadata": {},
     "output_type": "execute_result"
    }
   ],
   "source": [
    "set(s_set).difference(set(l_set))"
   ]
  },
  {
   "cell_type": "markdown",
   "metadata": {},
   "source": [
    "#### Class Balance"
   ]
  },
  {
   "cell_type": "markdown",
   "metadata": {},
   "source": [
    "seems to be a bit unbalanced."
   ]
  },
  {
   "cell_type": "code",
   "execution_count": 80,
   "metadata": {},
   "outputs": [
    {
     "data": {
      "text/plain": [
       "([<matplotlib.axis.XTick at 0x2d39c1bbb00>,\n",
       "  <matplotlib.axis.XTick at 0x2d39c195f98>],\n",
       " <a list of 2 Text xticklabel objects>)"
      ]
     },
     "execution_count": 80,
     "metadata": {},
     "output_type": "execute_result"
    },
    {
     "data": {
      "image/png": "[encoded data removed]",
      "text/plain": [
       "<matplotlib.figure.Figure at 0x2d39c0d8588>"
      ]
     },
     "metadata": {},
     "output_type": "display_data"
    }
   ],
   "source": [
    "bad_cnt = l_set.Hits.value_counts().bad\n",
    "good_cnt = l_set.Hits.value_counts().good\n",
    "plt.hist([bad_cnt*[1], good_cnt*[2]], 2)\n",
    "plt.xticks([1,2], ('bad: {}'.format(bad_cnt), 'good: {}'.format(good_cnt)))"
   ]
  },
  {
   "cell_type": "markdown",
   "metadata": {},
   "source": [
    "### Astorpy for image viewing"
   ]
  },
  {
   "cell_type": "code",
   "execution_count": 38,
   "metadata": {},
   "outputs": [],
   "source": [
    "import matplotlib.pyplot as plt\n",
    "from astropy.visualization import astropy_mpl_style\n",
    "from astropy.utils.data import get_pkg_data_filename\n",
    "from astropy.io import fits"
   ]
  },
  {
   "cell_type": "code",
   "execution_count": 39,
   "metadata": {},
   "outputs": [
    {
     "name": "stdout",
     "output_type": "stream",
     "text": [
      "Filename: C:\\Users\\stone\\.astropy\\cache\\download\\py3\\2c9202ae878ecfcb60878ceb63837f5f\n",
      "No.    Name      Ver    Type      Cards   Dimensions   Format\n",
      "  0  PRIMARY       1 PrimaryHDU     161   (891, 893)   int16   \n",
      "  1  er.mask       1 TableHDU        25   1600R x 4C   [F6.2, F6.2, F6.2, F6.2]   \n"
     ]
    }
   ],
   "source": [
    "image_file = get_pkg_data_filename('tutorials/FITS-images/HorseHead.fits')\n",
    "fits.info(image_file)"
   ]
  },
  {
   "cell_type": "code",
   "execution_count": 40,
   "metadata": {},
   "outputs": [],
   "source": [
    "header, data = fits.getheader(image_file), fits.getdata(image_file, ext=0)"
   ]
  },
  {
   "cell_type": "code",
   "execution_count": 41,
   "metadata": {},
   "outputs": [
    {
     "data": {
      "text/plain": [
       "SIMPLE  =                    T /FITS: Compliance                                \n",
       "BITPIX  =                   16 /FITS: I*2 Data                                  \n",
       "NAXIS   =                    2 /FITS: 2-D Image Data                            \n",
       "NAXIS1  =                  891 /FITS: X Dimension                               \n",
       "NAXIS2  =                  893 /FITS: Y Dimension                               \n",
       "EXTEND  =                    T /FITS: File can contain extensions               \n",
       "DATE    = '2014-01-09        '  /FITS: Creation Date                            \n",
       "ORIGIN  = 'STScI/MAST'         /GSSS: STScI Digitized Sky Survey                \n",
       "SURVEY  = 'SERC-ER '           /GSSS: Sky Survey                                \n",
       "REGION  = 'ER768   '           /GSSS: Region Name                               \n",
       "PLATEID = 'A0JP    '           /GSSS: Plate ID                                  \n",
       "SCANNUM = '01      '           /GSSS: Scan Number                               \n",
       "DSCNDNUM= '00      '           /GSSS: Descendant Number                         \n",
       "TELESCID=                    4 /GSSS: Telescope ID                              \n",
       "BANDPASS=                   36 /GSSS: Bandpass Code                             \n",
       "COPYRGHT= 'AAO/ROE '           /GSSS: Copyright Holder                          \n",
       "SITELAT =              -31.277 /Observatory: Latitude                           \n",
       "SITELONG=              210.934 /Observatory: Longitude                          \n",
       "TELESCOP= 'UK Schmidt - Doubl' /Observatory: Telescope                          \n",
       "INSTRUME= 'Photographic Plate' /Detector: Photographic Plate                    \n",
       "EMULSION= 'IIIaF   '           /Detector: Emulsion                              \n",
       "FILTER  = 'OG590   '           /Detector: Filter                                \n",
       "PLTSCALE=                67.20 /Detector: Plate Scale arcsec per mm             \n",
       "PLTSIZEX=              355.000 /Detector: Plate X Dimension mm                  \n",
       "PLTSIZEY=              355.000 /Detector: Plate Y Dimension mm                  \n",
       "PLATERA =        85.5994550000 /Observation: Field centre RA degrees            \n",
       "PLATEDEC=       -4.94660910000 /Observation: Field centre Dec degrees           \n",
       "PLTLABEL= 'OR14052 '           /Observation: Plate Label                        \n",
       "DATE-OBS= '1990-12-22T13:49:00' /Observation: Date/Time                         \n",
       "EXPOSURE=                 65.0 /Observation: Exposure Minutes                   \n",
       "PLTGRADE= 'AD2     '           /Observation: Plate Grade                        \n",
       "OBSHA   =             0.158333 /Observation: Hour Angle                         \n",
       "OBSZD   =              26.3715 /Observation: Zenith Distance                    \n",
       "AIRMASS =              1.11587 /Observation: Airmass                            \n",
       "REFBETA =        66.3196420000 /Observation: Refraction Coeff                   \n",
       "REFBETAP=     -0.0820000000000 /Observation: Refraction Coeff                   \n",
       "REFK1   =        6423.52290000 /Observation: Refraction Coeff                   \n",
       "REFK2   =       -102122.550000 /Observation: Refraction Coeff                   \n",
       "CNPIX1  =                12237 /Scan: X Corner                                  \n",
       "CNPIX2  =                19965 /Scan: Y Corner                                  \n",
       "XPIXELS =                23040 /Scan: X Dimension                               \n",
       "YPIXELS =                23040 /Scan: Y Dimension                               \n",
       "XPIXELSZ=              15.0295 /Scan: Pixel Size microns                        \n",
       "YPIXELSZ=              15.0000 /Scan: Pixel Size microns                        \n",
       "PPO1    =       -3069417.00000 /Scan: Orientation Coeff                         \n",
       "PPO2    =       0.000000000000 /Scan: Orientation Coeff                         \n",
       "PPO3    =        177500.000000 /Scan: Orientation Coeff                         \n",
       "PPO4    =       0.000000000000 /Scan: Orientation Coeff                         \n",
       "PPO5    =        3069417.00000 /Scan: Orientation Coeff                         \n",
       "PPO6    =        177500.000000 /Scan: Orientation Coeff                         \n",
       "PLTRAH  =                    5 /Astrometry: Plate Centre H                      \n",
       "PLTRAM  =                   42 /Astrometry: Plate Centre M                      \n",
       "PLTRAS  =                23.86 /Astrometry: Plate Centre S                      \n",
       "PLTDECSN= '-       '           /Astrometry: Plate Centre +/-                    \n",
       "PLTDECD =                    4 /Astrometry: Plate Centre D                      \n",
       "PLTDECM =                   56 /Astrometry: Plate Centre M                      \n",
       "PLTDECS =                 47.9 /Astrometry: Plate Centre S                      \n",
       "EQUINOX =               2000.0 /Astrometry: Equinox                             \n",
       "AMDX1   =        67.1550859799 /Astrometry: GSC1 Coeff                          \n",
       "AMDX2   =      0.0431478884485 /Astrometry: GSC1 Coeff                          \n",
       "AMDX3   =       -292.435619180 /Astrometry: GSC1 Coeff                          \n",
       "AMDX4   =  -2.68934864702E-005 /Astrometry: GSC1 Coeff                          \n",
       "AMDX5   =   1.99133423290E-005 /Astrometry: GSC1 Coeff                          \n",
       "AMDX6   =  -2.37011931379E-006 /Astrometry: GSC1 Coeff                          \n",
       "AMDX7   =       0.000000000000 /Astrometry: GSC1 Coeff                          \n",
       "AMDX8   =   2.21426387429E-006 /Astrometry: GSC1 Coeff                          \n",
       "AMDX9   =  -8.12841581455E-008 /Astrometry: GSC1 Coeff                          \n",
       "AMDX10  =   2.48169090021E-006 /Astrometry: GSC1 Coeff                          \n",
       "AMDX11  =   2.77618933926E-008 /Astrometry: GSC1 Coeff                          \n",
       "AMDX12  =       0.000000000000 /Astrometry: GSC1 Coeff                          \n",
       "AMDX13  =       0.000000000000 /Astrometry: GSC1 Coeff                          \n",
       "AMDX14  =       0.000000000000 /Astrometry: GSC1 Coeff                          \n",
       "AMDX15  =       0.000000000000 /Astrometry: GSC1 Coeff                          \n",
       "AMDX16  =       0.000000000000 /Astrometry: GSC1 Coeff                          \n",
       "AMDX17  =       0.000000000000 /Astrometry: GSC1 Coeff                          \n",
       "AMDX18  =       0.000000000000 /Astrometry: GSC1 Coeff                          \n",
       "AMDX19  =       0.000000000000 /Astrometry: GSC1 Coeff                          \n",
       "AMDX20  =       0.000000000000 /Astrometry: GSC1 Coeff                          \n",
       "AMDY1   =        67.1593591466 /Astrometry: GSC1 Coeff                          \n",
       "AMDY2   =     -0.0471363749174 /Astrometry: GSC1 Coeff                          \n",
       "AMDY3   =        316.004963520 /Astrometry: GSC1 Coeff                          \n",
       "AMDY4   =   2.86798151430E-005 /Astrometry: GSC1 Coeff                          \n",
       "AMDY5   =  -2.00968236347E-005 /Astrometry: GSC1 Coeff                          \n",
       "AMDY6   =   2.27840393227E-005 /Astrometry: GSC1 Coeff                          \n",
       "AMDY7   =       0.000000000000 /Astrometry: GSC1 Coeff                          \n",
       "AMDY8   =   2.23885090381E-006 /Astrometry: GSC1 Coeff                          \n",
       "AMDY9   =  -2.28360163464E-008 /Astrometry: GSC1 Coeff                          \n",
       "AMDY10  =   2.44828851495E-006 /Astrometry: GSC1 Coeff                          \n",
       "AMDY11  =  -5.76717487998E-008 /Astrometry: GSC1 Coeff                          \n",
       "AMDY12  =       0.000000000000 /Astrometry: GSC1 Coeff                          \n",
       "AMDY13  =       0.000000000000 /Astrometry: GSC1 Coeff                          \n",
       "AMDY14  =       0.000000000000 /Astrometry: GSC1 Coeff                          \n",
       "AMDY15  =       0.000000000000 /Astrometry: GSC1 Coeff                          \n",
       "AMDY16  =       0.000000000000 /Astrometry: GSC1 Coeff                          \n",
       "AMDY17  =       0.000000000000 /Astrometry: GSC1 Coeff                          \n",
       "AMDY18  =       0.000000000000 /Astrometry: GSC1 Coeff                          \n",
       "AMDY19  =       0.000000000000 /Astrometry: GSC1 Coeff                          \n",
       "AMDY20  =       0.000000000000 /Astrometry: GSC1 Coeff                          \n",
       "AMDREX1 =        67.1532034737 /Astrometry: GSC2 Coeff                          \n",
       "AMDREX2 =      0.0434354199559 /Astrometry: GSC2 Coeff                          \n",
       "AMDREX3 =       -292.435438892 /Astrometry: GSC2 Coeff                          \n",
       "AMDREX4 =   4.60919247070E-006 /Astrometry: GSC2 Coeff                          \n",
       "AMDREX5 =  -3.21138058537E-006 /Astrometry: GSC2 Coeff                          \n",
       "AMDREX6 =   7.23651736725E-006 /Astrometry: GSC2 Coeff                          \n",
       "AMDREX7 =       0.000000000000 /Astrometry: GSC2 Coeff                          \n",
       "AMDREX8 =       0.000000000000 /Astrometry: GSC2 Coeff                          \n",
       "AMDREX9 =       0.000000000000 /Astrometry: GSC2 Coeff                          \n",
       "AMDREX10=       0.000000000000 /Astrometry: GSC2 Coeff                          \n",
       "AMDREX11=       0.000000000000 /Astrometry: GSC2 Coeff                          \n",
       "AMDREX12=       0.000000000000 /Astrometry: GSC2 Coeff                          \n",
       "AMDREX13=       0.000000000000 /Astrometry: GSC2 Coeff                          \n",
       "AMDREX14=       0.000000000000 /Astrometry: GSC2 Coeff                          \n",
       "AMDREX15=       0.000000000000 /Astrometry: GSC2 Coeff                          \n",
       "AMDREX16=       0.000000000000 /Astrometry: GSC2 Coeff                          \n",
       "AMDREX17=       0.000000000000 /Astrometry: GSC2 Coeff                          \n",
       "AMDREX18=       0.000000000000 /Astrometry: GSC2 Coeff                          \n",
       "AMDREX19=       0.000000000000 /Astrometry: GSC2 Coeff                          \n",
       "AMDREX20=       0.000000000000 /Astrometry: GSC2 Coeff                          \n",
       "AMDREY1 =        67.1522589487 /Astrometry: GSC2 Coeff                          \n",
       "AMDREY2 =     -0.0481758265285 /Astrometry: GSC2 Coeff                          \n",
       "AMDREY3 =        315.995683716 /Astrometry: GSC2 Coeff                          \n",
       "AMDREY4 =  -7.47397531230E-006 /Astrometry: GSC2 Coeff                          \n",
       "AMDREY5 =   9.55221105409E-007 /Astrometry: GSC2 Coeff                          \n",
       "AMDREY6 =   7.60954485251E-006 /Astrometry: GSC2 Coeff                          \n",
       "AMDREY7 =       0.000000000000 /Astrometry: GSC2 Coeff                          \n",
       "AMDREY8 =       0.000000000000 /Astrometry: GSC2 Coeff                          \n",
       "AMDREY9 =       0.000000000000 /Astrometry: GSC2 Coeff                          \n",
       "AMDREY10=       0.000000000000 /Astrometry: GSC2 Coeff                          \n",
       "AMDREY11=       0.000000000000 /Astrometry: GSC2 Coeff                          \n",
       "AMDREY12=       0.000000000000 /Astrometry: GSC2 Coeff                          \n",
       "AMDREY13=       0.000000000000 /Astrometry: GSC2 Coeff                          \n",
       "AMDREY14=       0.000000000000 /Astrometry: GSC2 Coeff                          \n",
       "AMDREY15=       0.000000000000 /Astrometry: GSC2 Coeff                          \n",
       "AMDREY16=       0.000000000000 /Astrometry: GSC2 Coeff                          \n",
       "AMDREY17=       0.000000000000 /Astrometry: GSC2 Coeff                          \n",
       "AMDREY18=       0.000000000000 /Astrometry: GSC2 Coeff                          \n",
       "AMDREY19=       0.000000000000 /Astrometry: GSC2 Coeff                          \n",
       "AMDREY20=       0.000000000000 /Astrometry: GSC2 Coeff                          \n",
       "ASTRMASK= 'er.mask '           /Astrometry: GSC2 Mask                           \n",
       "WCSAXES =                    2 /GetImage: Number WCS axes                       \n",
       "WCSNAME = 'DSS               ' /GetImage: Local WCS approximation from full plat\n",
       "RADESYS = 'ICRS              ' /GetImage: GSC-II calibration using ICRS system  \n",
       "CTYPE1  = 'RA---TAN          ' /GetImage: RA-Gnomic projection                  \n",
       "CRPIX1  =           446.000000 /GetImage: X reference pixel                     \n",
       "CRVAL1  =            85.274970 /GetImage: RA of reference pixel                 \n",
       "CUNIT1  = 'deg               ' /GetImage: degrees                               \n",
       "CTYPE2  = 'DEC--TAN          ' /GetImage: Dec-Gnomic projection                 \n",
       "CRPIX2  =           447.000000 /GetImage: Y reference pixel                     \n",
       "CRVAL2  =            -2.458265 /GetImage: Dec of reference pixel                \n",
       "CUNIT2  = 'deg               ' /Getimage: degrees                               \n",
       "CD1_1   =        -0.0002802651 /GetImage: rotation matrix coefficient           \n",
       "CD1_2   =         0.0000003159 /GetImage: rotation matrix coefficient           \n",
       "CD2_1   =         0.0000002767 /GetImage: rotation matrix coefficient           \n",
       "CD2_2   =         0.0002798187 /GetImage: rotation matrix coefficient           \n",
       "OBJECT  = 'data              ' /GetImage: Requested Object Name                 \n",
       "DATAMIN =                 3759 /GetImage: Minimum returned pixel value          \n",
       "DATAMAX =                22918 /GetImage: Maximum returned pixel value          \n",
       "OBJCTRA = '05 41 06.000      ' /GetImage: Requested Right Ascension (J2000)     \n",
       "OBJCTDEC= '-02 27 30.00      ' /GetImage: Requested Declination (J2000)         \n",
       "OBJCTX  =             12682.48 /GetImage: Requested X on plate (pixels)         \n",
       "OBJCTY  =             20411.37 /GetImage: Requested Y on plate (pixels)         "
      ]
     },
     "execution_count": 41,
     "metadata": {},
     "output_type": "execute_result"
    }
   ],
   "source": [
    "fits.getheader(image_file, ext=0)"
   ]
  },
  {
   "cell_type": "markdown",
   "metadata": {},
   "source": [
    "Beautiful"
   ]
  },
  {
   "cell_type": "code",
   "execution_count": 47,
   "metadata": {},
   "outputs": [
    {
     "data": {
      "text/plain": [
       "<matplotlib.image.AxesImage at 0x2d38f9be7f0>"
      ]
     },
     "execution_count": 47,
     "metadata": {},
     "output_type": "execute_result"
    },
    {
     "data": {
      "image/png": "[encoded data removed]",
      "text/plain": [
       "<matplotlib.figure.Figure at 0x2d38f61d6d8>"
      ]
     },
     "metadata": {},
     "output_type": "display_data"
    }
   ],
   "source": [
    "plt.imshow(fits.getdata(image_file, ext=0), cmap='viridis')"
   ]
  }
 ],
 "metadata": {
  "kernelspec": {
   "display_name": "Python 3",
   "language": "python",
   "name": "python3"
  },
  "language_info": {
   "codemirror_mode": {
    "name": "ipython",
    "version": 3
   },
   "file_extension": ".py",
   "mimetype": "text/x-python",
   "name": "python",
   "nbconvert_exporter": "python",
   "pygments_lexer": "ipython3",
   "version": "3.6.1"
  }
 },
 "nbformat": 4,
 "nbformat_minor": 2
}
