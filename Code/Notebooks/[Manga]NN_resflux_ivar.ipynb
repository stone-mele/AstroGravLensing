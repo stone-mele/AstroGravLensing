{
 "cells": [
  {
   "cell_type": "markdown",
   "metadata": {},
   "source": [
    "# Manga ResFlux"
   ]
  },
  {
   "cell_type": "code",
   "execution_count": 1,
   "metadata": {},
   "outputs": [
    {
     "name": "stderr",
     "output_type": "stream",
     "text": [
      "Using TensorFlow backend.\n"
     ]
    }
   ],
   "source": [
    "import pandas as pd\n",
    "import numpy as np\n",
    "import matplotlib.pyplot as plt\n",
    "import h5py\n",
    "\n",
    "from astropy.io import fits\n",
    "from glob import glob\n",
    "from sklearn.model_selection import train_test_split\n",
    "\n",
    "from keras.models import Sequential\n",
    "from keras.layers import Dense, Activation, Flatten, Convolution1D, Dropout, MaxPooling1D, Conv2D, Conv1D, InputLayer, Dropout, MaxPooling2D, BatchNormalization\n",
    "from keras.optimizers import SGD, Adam\n",
    "from keras.callbacks import TensorBoard\n",
    "from keras.utils import np_utils\n",
    "from keras.wrappers.scikit_learn import KerasClassifier\n",
    "\n",
    "from Modeling import CrossValidationModeler"
   ]
  },
  {
   "cell_type": "markdown",
   "metadata": {},
   "source": [
    "---\n",
    "## Multiline Dataset Model"
   ]
  },
  {
   "cell_type": "code",
   "execution_count": 53,
   "metadata": {},
   "outputs": [],
   "source": [
    "manga = h5py.File('../../Data/manga_flux_multiline+.hdf5')\n",
    "Y = np.array(manga['flux_labels'])\n",
    "res_flux = np.array(manga['res_flux_values'])\n",
    "#ivar = np.array(manga['ivar_flux_values'])\n",
    "#ivar_rescaled = np.array(manga['ivar_rescaled_flux_values'])\n",
    "\n",
    "res_flux = np.expand_dims(res_flux, -1)\n",
    "#ivar = np.expand_dims(ivar, -1)\n",
    "#X = np.expand_dims(X, -1)\n",
    "#ivar_rescaled = np.expand_dims(ivar_rescaled, -1)\n",
    "manga.close()"
   ]
  },
  {
   "cell_type": "code",
   "execution_count": 33,
   "metadata": {},
   "outputs": [
    {
     "data": {
      "text/plain": [
       "((17732, 4563, 1), (17732, 1))"
      ]
     },
     "execution_count": 33,
     "metadata": {},
     "output_type": "execute_result"
    }
   ],
   "source": [
    "res_flux.shape, Y.shape"
   ]
  },
  {
   "cell_type": "markdown",
   "metadata": {},
   "source": [
    "# Models"
   ]
  },
  {
   "cell_type": "code",
   "execution_count": 51,
   "metadata": {},
   "outputs": [],
   "source": [
    "# def create_conv_flux_model():\n",
    "#     model = Sequential()\n",
    "#     model.add(InputLayer(batch_input_shape=(None, 4563, 1)))\n",
    "#     model.add(Conv1D(filters=64, kernel_size=2))\n",
    "#     model.add(BatchNormalization())\n",
    "#     model.add(Activation('relu'))\n",
    "#     model.add(Conv1D(filters=24, kernel_size=2))\n",
    "#     model.add(BatchNormalization())\n",
    "#     model.add(Activation('relu'))\n",
    "#     #model.add(MaxPooling1D())\n",
    "#     model.add(Flatten())\n",
    "#     model.add(Dense(1024))\n",
    "#     model.add(BatchNormalization())\n",
    "#     model.add(Activation('relu'))\n",
    "#     model.add(Dropout(.5))\n",
    "#     model.add(Dense(512))\n",
    "#     model.add(BatchNormalization())\n",
    "#     model.add(Activation('relu'))\n",
    "#     model.add(Dense(1, activation='sigmoid'))\n",
    "#     model.compile(loss='binary_crossentropy', optimizer=Adam(lr=0.001), metrics=['accuracy'])\n",
    "#     return model\n",
    "\n",
    "# def create_simple():\n",
    "#     model = Sequential()\n",
    "#     model.add(InputLayer(batch_input_shape=(None, 4563, 1)))\n",
    "#     model.add(Conv1D(filters=64, kernel_size=2))\n",
    "\n",
    "# def create_complex():\n",
    "#     model = Sequential()\n",
    "#     model.add(InputLayer(batch_input_shape=(None, 4563, 1)))\n",
    "    \n",
    "#     model.add(Conv1D(filters=64, kernel_size=10))\n",
    "#     model.add(BatchNormalization())\n",
    "#     model.add(Activation('relu'))\n",
    "    \n",
    "#     model.add(Conv1D(filters=32, kernel_size=10))\n",
    "#     model.add(BatchNormalization())\n",
    "#     model.add(Activation('relu'))\n",
    "    \n",
    "#     model.add(MaxPooling1D())\n",
    "    \n",
    "#     model.add(Conv1D(filters=12, kernel_size=2))\n",
    "#     model.add(BatchNormalization())\n",
    "#     model.add(Activation('relu'))\n",
    "    \n",
    "#     model.add(Conv1D(filters=6, kernel_size=2))\n",
    "#     model.add(BatchNormalization())\n",
    "#     model.add(Activation('relu'))\n",
    "    \n",
    "#     model.add(MaxPooling1D())\n",
    "    \n",
    "#     model.add(Flatten())\n",
    "    \n",
    "#     model.add(Dense(1024))\n",
    "#     model.add(BatchNormalization())\n",
    "#     model.add(Activation('relu'))\n",
    "#     model.add(Dropout(.75))\n",
    "    \n",
    "    \n",
    "#     model.add(Dense(1024))\n",
    "#     model.add(BatchNormalization())\n",
    "#     model.add(Activation('relu'))\n",
    "#     model.add(Dropout(.75))\n",
    "    \n",
    "#     model.add(Dense(1, activation='sigmoid'))\n",
    "#     model.compile(loss='binary_crossentropy', optimizer=Adam(lr=0.001), metrics=['accuracy'])\n",
    "#     return model\n",
    "\n",
    "\n",
    "def create_conv_flux_model():\n",
    "    model = Sequential()\n",
    "    model.add(InputLayer(batch_input_shape=(None,4563, 1)))\n",
    "    model.add(Conv1D(filters=64, kernel_size=2,activation= 'relu'))\n",
    "    model.add(Conv1D(filters=24, kernel_size=2,activation= 'relu'))\n",
    "    model.add(MaxPooling1D())\n",
    "    model.add(Flatten())\n",
    "    model.add(Dense(30,activation='relu'))\n",
    "    model.add(Dropout(.5))\n",
    "    model.add(Dense(20, activation='relu'))\n",
    "    model.add(Dropout(.5))\n",
    "    model.add(Dense(1, activation='sigmoid'))\n",
    "    model.compile(loss='binary_crossentropy', optimizer=Adam(lr=.00001), metrics=['accuracy'])\n",
    "    return model\n",
    "\n",
    "def create_conv_flux_model_exp():\n",
    "    model = Sequential()\n",
    "    model.add(InputLayer(batch_input_shape=(None, 1, 4639, 2)))\n",
    "    model.add(Conv2D(filters=64, kernel_size=(1,2), activation='relu', data_format='channels_last'))\n",
    "    #model.add(BatchNormalization())\n",
    "    #model.add(MaxPooling2D((1,2)))\n",
    "    model.add(Conv2D(filters=24, kernel_size=(1,2), activation='relu', data_format='channels_last'))\n",
    "    #model.add(BatchNormalization())\n",
    "    #model.add(MaxPooling2D((1,2)))\n",
    "    model.add(Flatten())\n",
    "    model.add(Dense(30,activation='relu'))\n",
    "    model.add(Dropout(.5))\n",
    "    model.add(Dense(20, activation='relu'))\n",
    "    model.add(Dropout(.5))\n",
    "    model.add(Dense(1, activation='sigmoid'))\n",
    "    model.compile(loss='binary_crossentropy', optimizer=Adam(.00001), metrics=['accuracy'])\n",
    "    return model\n",
    "\n",
    "\n",
    "def create_complex():\n",
    "    model = Sequential()\n",
    "    model.add(InputLayer(batch_input_shape=(None, 4563, 1)))\n",
    "    \n",
    "    model.add(Conv1D(filters=64, kernel_size=10))\n",
    "    model.add(BatchNormalization())\n",
    "    model.add(Activation('relu'))\n",
    "    \n",
    "    model.add(Conv1D(filters=32, kernel_size=10))\n",
    "    model.add(BatchNormalization())\n",
    "    model.add(Activation('relu'))\n",
    "    \n",
    "    model.add(MaxPooling1D())\n",
    "    \n",
    "    model.add(Conv1D(filters=12, kernel_size=2))\n",
    "    model.add(BatchNormalization())\n",
    "    model.add(Activation('relu'))\n",
    "    \n",
    "    model.add(Conv1D(filters=6, kernel_size=2))\n",
    "    model.add(BatchNormalization())\n",
    "    model.add(Activation('relu'))\n",
    "    \n",
    "    model.add(MaxPooling1D())\n",
    "    \n",
    "    model.add(Flatten())\n",
    "    \n",
    "    model.add(Dense(1024))\n",
    "    model.add(BatchNormalization())\n",
    "    model.add(Activation('relu'))\n",
    "    model.add(Dropout(.50))\n",
    "    \n",
    "    \n",
    "    model.add(Dense(1024))\n",
    "    model.add(BatchNormalization())\n",
    "    model.add(Activation('relu'))\n",
    "    model.add(Dropout(.50))\n",
    "    \n",
    "    model.add(Dense(1, activation='sigmoid'))\n",
    "    model.compile(loss='binary_crossentropy', optimizer=Adam(lr=0.001), metrics=['accuracy'])\n",
    "    return model"
   ]
  },
  {
   "cell_type": "markdown",
   "metadata": {},
   "source": [
    "# Initial Testing"
   ]
  },
  {
   "cell_type": "code",
   "execution_count": 54,
   "metadata": {},
   "outputs": [
    {
     "name": "stdout",
     "output_type": "stream",
     "text": [
      "Train on 13299 samples, validate on 4433 samples\n",
      "Epoch 1/10\n",
      "13299/13299 [==============================] - 14s 1ms/step - loss: 0.5280 - acc: 0.7777 - val_loss: 0.4929 - val_acc: 0.8008\n",
      "Epoch 2/10\n",
      "13299/13299 [==============================] - 6s 462us/step - loss: 0.4590 - acc: 0.8019 - val_loss: 0.4633 - val_acc: 0.8128\n",
      "Epoch 3/10\n",
      "13299/13299 [==============================] - 6s 462us/step - loss: 0.3974 - acc: 0.8218 - val_loss: 0.4505 - val_acc: 0.8107\n",
      "Epoch 4/10\n",
      "13299/13299 [==============================] - 6s 464us/step - loss: 0.3377 - acc: 0.8528 - val_loss: 0.4945 - val_acc: 0.7564\n",
      "Epoch 5/10\n",
      "13299/13299 [==============================] - 6s 464us/step - loss: 0.2749 - acc: 0.8819 - val_loss: 0.5362 - val_acc: 0.7171\n",
      "Epoch 6/10\n",
      "13299/13299 [==============================] - 6s 466us/step - loss: 0.2008 - acc: 0.9172 - val_loss: 0.8680 - val_acc: 0.5231\n",
      "Epoch 7/10\n",
      " 6912/13299 [==============>...............] - ETA: 2s - loss: 0.1403 - acc: 0.9479"
     ]
    },
    {
     "ename": "KeyboardInterrupt",
     "evalue": "",
     "output_type": "error",
     "traceback": [
      "\u001b[0;31m---------------------------------------------------------------------------\u001b[0m",
      "\u001b[0;31mKeyboardInterrupt\u001b[0m                         Traceback (most recent call last)",
      "\u001b[0;32m<ipython-input-54-f3bc34974674>\u001b[0m in \u001b[0;36m<module>\u001b[0;34m()\u001b[0m\n\u001b[1;32m      1\u001b[0m \u001b[0mmod\u001b[0m \u001b[0;34m=\u001b[0m \u001b[0mcreate_complex\u001b[0m\u001b[0;34m(\u001b[0m\u001b[0;34m)\u001b[0m\u001b[0;34m\u001b[0m\u001b[0m\n\u001b[0;32m----> 2\u001b[0;31m \u001b[0mmod\u001b[0m\u001b[0;34m.\u001b[0m\u001b[0mfit\u001b[0m\u001b[0;34m(\u001b[0m\u001b[0mX_train\u001b[0m\u001b[0;34m,\u001b[0m \u001b[0my_train\u001b[0m\u001b[0;34m,\u001b[0m \u001b[0mepochs\u001b[0m\u001b[0;34m=\u001b[0m\u001b[0;36m10\u001b[0m\u001b[0;34m,\u001b[0m \u001b[0mbatch_size\u001b[0m\u001b[0;34m=\u001b[0m\u001b[0;36m256\u001b[0m\u001b[0;34m,\u001b[0m \u001b[0mvalidation_data\u001b[0m\u001b[0;34m=\u001b[0m\u001b[0;34m(\u001b[0m\u001b[0mX_test\u001b[0m\u001b[0;34m,\u001b[0m \u001b[0my_test\u001b[0m\u001b[0;34m)\u001b[0m\u001b[0;34m)\u001b[0m\u001b[0;34m\u001b[0m\u001b[0m\n\u001b[0m",
      "\u001b[0;32m~/MYTF/lib/python3.6/site-packages/keras/engine/training.py\u001b[0m in \u001b[0;36mfit\u001b[0;34m(self, x, y, batch_size, epochs, verbose, callbacks, validation_split, validation_data, shuffle, class_weight, sample_weight, initial_epoch, steps_per_epoch, validation_steps, **kwargs)\u001b[0m\n\u001b[1;32m   1040\u001b[0m                                         \u001b[0minitial_epoch\u001b[0m\u001b[0;34m=\u001b[0m\u001b[0minitial_epoch\u001b[0m\u001b[0;34m,\u001b[0m\u001b[0;34m\u001b[0m\u001b[0m\n\u001b[1;32m   1041\u001b[0m                                         \u001b[0msteps_per_epoch\u001b[0m\u001b[0;34m=\u001b[0m\u001b[0msteps_per_epoch\u001b[0m\u001b[0;34m,\u001b[0m\u001b[0;34m\u001b[0m\u001b[0m\n\u001b[0;32m-> 1042\u001b[0;31m                                         validation_steps=validation_steps)\n\u001b[0m\u001b[1;32m   1043\u001b[0m \u001b[0;34m\u001b[0m\u001b[0m\n\u001b[1;32m   1044\u001b[0m     def evaluate(self, x=None, y=None,\n",
      "\u001b[0;32m~/MYTF/lib/python3.6/site-packages/keras/engine/training_arrays.py\u001b[0m in \u001b[0;36mfit_loop\u001b[0;34m(model, f, ins, out_labels, batch_size, epochs, verbose, callbacks, val_f, val_ins, shuffle, callback_metrics, initial_epoch, steps_per_epoch, validation_steps)\u001b[0m\n\u001b[1;32m    197\u001b[0m                     \u001b[0mins_batch\u001b[0m\u001b[0;34m[\u001b[0m\u001b[0mi\u001b[0m\u001b[0;34m]\u001b[0m \u001b[0;34m=\u001b[0m \u001b[0mins_batch\u001b[0m\u001b[0;34m[\u001b[0m\u001b[0mi\u001b[0m\u001b[0;34m]\u001b[0m\u001b[0;34m.\u001b[0m\u001b[0mtoarray\u001b[0m\u001b[0;34m(\u001b[0m\u001b[0;34m)\u001b[0m\u001b[0;34m\u001b[0m\u001b[0m\n\u001b[1;32m    198\u001b[0m \u001b[0;34m\u001b[0m\u001b[0m\n\u001b[0;32m--> 199\u001b[0;31m                 \u001b[0mouts\u001b[0m \u001b[0;34m=\u001b[0m \u001b[0mf\u001b[0m\u001b[0;34m(\u001b[0m\u001b[0mins_batch\u001b[0m\u001b[0;34m)\u001b[0m\u001b[0;34m\u001b[0m\u001b[0m\n\u001b[0m\u001b[1;32m    200\u001b[0m                 \u001b[0;32mif\u001b[0m \u001b[0;32mnot\u001b[0m \u001b[0misinstance\u001b[0m\u001b[0;34m(\u001b[0m\u001b[0mouts\u001b[0m\u001b[0;34m,\u001b[0m \u001b[0mlist\u001b[0m\u001b[0;34m)\u001b[0m\u001b[0;34m:\u001b[0m\u001b[0;34m\u001b[0m\u001b[0m\n\u001b[1;32m    201\u001b[0m                     \u001b[0mouts\u001b[0m \u001b[0;34m=\u001b[0m \u001b[0;34m[\u001b[0m\u001b[0mouts\u001b[0m\u001b[0;34m]\u001b[0m\u001b[0;34m\u001b[0m\u001b[0m\n",
      "\u001b[0;32m~/MYTF/lib/python3.6/site-packages/keras/backend/tensorflow_backend.py\u001b[0m in \u001b[0;36m__call__\u001b[0;34m(self, inputs)\u001b[0m\n\u001b[1;32m   2659\u001b[0m                 \u001b[0;32mreturn\u001b[0m \u001b[0mself\u001b[0m\u001b[0;34m.\u001b[0m\u001b[0m_legacy_call\u001b[0m\u001b[0;34m(\u001b[0m\u001b[0minputs\u001b[0m\u001b[0;34m)\u001b[0m\u001b[0;34m\u001b[0m\u001b[0m\n\u001b[1;32m   2660\u001b[0m \u001b[0;34m\u001b[0m\u001b[0m\n\u001b[0;32m-> 2661\u001b[0;31m             \u001b[0;32mreturn\u001b[0m \u001b[0mself\u001b[0m\u001b[0;34m.\u001b[0m\u001b[0m_call\u001b[0m\u001b[0;34m(\u001b[0m\u001b[0minputs\u001b[0m\u001b[0;34m)\u001b[0m\u001b[0;34m\u001b[0m\u001b[0m\n\u001b[0m\u001b[1;32m   2662\u001b[0m         \u001b[0;32melse\u001b[0m\u001b[0;34m:\u001b[0m\u001b[0;34m\u001b[0m\u001b[0m\n\u001b[1;32m   2663\u001b[0m             \u001b[0;32mif\u001b[0m \u001b[0mpy_any\u001b[0m\u001b[0;34m(\u001b[0m\u001b[0mis_tensor\u001b[0m\u001b[0;34m(\u001b[0m\u001b[0mx\u001b[0m\u001b[0;34m)\u001b[0m \u001b[0;32mfor\u001b[0m \u001b[0mx\u001b[0m \u001b[0;32min\u001b[0m \u001b[0minputs\u001b[0m\u001b[0;34m)\u001b[0m\u001b[0;34m:\u001b[0m\u001b[0;34m\u001b[0m\u001b[0m\n",
      "\u001b[0;32m~/MYTF/lib/python3.6/site-packages/keras/backend/tensorflow_backend.py\u001b[0m in \u001b[0;36m_call\u001b[0;34m(self, inputs)\u001b[0m\n\u001b[1;32m   2629\u001b[0m                                 \u001b[0msymbol_vals\u001b[0m\u001b[0;34m,\u001b[0m\u001b[0;34m\u001b[0m\u001b[0m\n\u001b[1;32m   2630\u001b[0m                                 session)\n\u001b[0;32m-> 2631\u001b[0;31m         \u001b[0mfetched\u001b[0m \u001b[0;34m=\u001b[0m \u001b[0mself\u001b[0m\u001b[0;34m.\u001b[0m\u001b[0m_callable_fn\u001b[0m\u001b[0;34m(\u001b[0m\u001b[0;34m*\u001b[0m\u001b[0marray_vals\u001b[0m\u001b[0;34m)\u001b[0m\u001b[0;34m\u001b[0m\u001b[0m\n\u001b[0m\u001b[1;32m   2632\u001b[0m         \u001b[0;32mreturn\u001b[0m \u001b[0mfetched\u001b[0m\u001b[0;34m[\u001b[0m\u001b[0;34m:\u001b[0m\u001b[0mlen\u001b[0m\u001b[0;34m(\u001b[0m\u001b[0mself\u001b[0m\u001b[0;34m.\u001b[0m\u001b[0moutputs\u001b[0m\u001b[0;34m)\u001b[0m\u001b[0;34m]\u001b[0m\u001b[0;34m\u001b[0m\u001b[0m\n\u001b[1;32m   2633\u001b[0m \u001b[0;34m\u001b[0m\u001b[0m\n",
      "\u001b[0;32m~/MYTF/lib/python3.6/site-packages/tensorflow/python/client/session.py\u001b[0m in \u001b[0;36m__call__\u001b[0;34m(self, *args)\u001b[0m\n\u001b[1;32m   1449\u001b[0m         \u001b[0;32mif\u001b[0m \u001b[0mself\u001b[0m\u001b[0;34m.\u001b[0m\u001b[0m_session\u001b[0m\u001b[0;34m.\u001b[0m\u001b[0m_created_with_new_api\u001b[0m\u001b[0;34m:\u001b[0m\u001b[0;34m\u001b[0m\u001b[0m\n\u001b[1;32m   1450\u001b[0m           return tf_session.TF_SessionRunCallable(\n\u001b[0;32m-> 1451\u001b[0;31m               self._session._session, self._handle, args, status, None)\n\u001b[0m\u001b[1;32m   1452\u001b[0m         \u001b[0;32melse\u001b[0m\u001b[0;34m:\u001b[0m\u001b[0;34m\u001b[0m\u001b[0m\n\u001b[1;32m   1453\u001b[0m           return tf_session.TF_DeprecatedSessionRunCallable(\n",
      "\u001b[0;31mKeyboardInterrupt\u001b[0m: "
     ]
    }
   ],
   "source": [
    "mod = create_complex()\n",
    "mod.fit(X_train, y_train, epochs=10, batch_size=256, validation_data=(X_test, y_test))"
   ]
  },
  {
   "cell_type": "code",
   "execution_count": 36,
   "metadata": {},
   "outputs": [
    {
     "data": {
      "text/plain": [
       "75"
      ]
     },
     "execution_count": 36,
     "metadata": {},
     "output_type": "execute_result"
    }
   ],
   "source": [
    "import random\n",
    "seed = random.randint(0,100)\n",
    "X_train, X_test, y_train, y_test = train_test_split(res_flux, Y, random_state=80)\n",
    "seed"
   ]
  },
  {
   "cell_type": "code",
   "execution_count": 24,
   "metadata": {},
   "outputs": [],
   "source": [
    "X_train, X_test, y_train, y_test = train_test_split(res_flux, Y, random_state=61)"
   ]
  },
  {
   "cell_type": "code",
   "execution_count": null,
   "metadata": {},
   "outputs": [],
   "source": [
    "Keras_eboss_NN_Model = KerasClassifier(create_conv_flux_model, epochs=10, batch_size=256, verbose=0)\n",
    "cvm_nn_flux = CrossValidationModeler(res_flux, Y, Keras_eboss_NN_Model)"
   ]
  },
  {
   "cell_type": "code",
   "execution_count": 16,
   "metadata": {},
   "outputs": [
    {
     "data": {
      "text/html": [
       "<div>\n",
       "<style scoped>\n",
       "    .dataframe tbody tr th:only-of-type {\n",
       "        vertical-align: middle;\n",
       "    }\n",
       "\n",
       "    .dataframe tbody tr th {\n",
       "        vertical-align: top;\n",
       "    }\n",
       "\n",
       "    .dataframe thead th {\n",
       "        text-align: right;\n",
       "    }\n",
       "</style>\n",
       "<table border=\"1\" class=\"dataframe\">\n",
       "  <thead>\n",
       "    <tr style=\"text-align: right;\">\n",
       "      <th></th>\n",
       "      <th>mean_test_precision (no)</th>\n",
       "      <th>mean_test_precision (yes)</th>\n",
       "      <th>mean_test_recall (no)</th>\n",
       "      <th>mean_test_recall (yes)</th>\n",
       "      <th>mean_test_accuracy</th>\n",
       "      <th>mean_test_roc_auc</th>\n",
       "      <th>mean_test_f1</th>\n",
       "    </tr>\n",
       "    <tr>\n",
       "      <th>Parameters</th>\n",
       "      <th></th>\n",
       "      <th></th>\n",
       "      <th></th>\n",
       "      <th></th>\n",
       "      <th></th>\n",
       "      <th></th>\n",
       "      <th></th>\n",
       "    </tr>\n",
       "  </thead>\n",
       "  <tbody>\n",
       "    <tr>\n",
       "      <th>{}</th>\n",
       "      <td>0.907801</td>\n",
       "      <td>0.888514</td>\n",
       "      <td>0.795031</td>\n",
       "      <td>0.952899</td>\n",
       "      <td>0.894737</td>\n",
       "      <td>0.873965</td>\n",
       "      <td>0.91958</td>\n",
       "    </tr>\n",
       "  </tbody>\n",
       "</table>\n",
       "</div>"
      ],
      "text/plain": [
       "            mean_test_precision (no)  mean_test_precision (yes)  \\\n",
       "Parameters                                                        \n",
       "{}                          0.907801                   0.888514   \n",
       "\n",
       "            mean_test_recall (no)  mean_test_recall (yes)  mean_test_accuracy  \\\n",
       "Parameters                                                                      \n",
       "{}                       0.795031                0.952899            0.894737   \n",
       "\n",
       "            mean_test_roc_auc  mean_test_f1  \n",
       "Parameters                                   \n",
       "{}                   0.873965       0.91958  "
      ]
     },
     "execution_count": 16,
     "metadata": {},
     "output_type": "execute_result"
    }
   ],
   "source": [
    "cvm_nn_flux.run_cross_val({}, n_splits=1)"
   ]
  },
  {
   "cell_type": "markdown",
   "metadata": {},
   "source": [
    "## Running 50  Folds on Multiline data."
   ]
  },
  {
   "cell_type": "code",
   "execution_count": 28,
   "metadata": {},
   "outputs": [
    {
     "name": "stdout",
     "output_type": "stream",
     "text": [
      "Fitting 50 folds for each of 1 candidates, totalling 50 fits\n",
      "[CV]  ................................................................\n",
      "[CV]  , precision (no)=0.9241379310344827, precision (yes)=0.9178082191780822, recall (no)=0.8481012658227848, recall (yes)=0.9605734767025089, accuracy=0.919908466819222, roc_auc=0.9043373712626468, f1=0.9387040280210158, total=   5.7s\n",
      "[CV]  ................................................................\n"
     ]
    },
    {
     "name": "stderr",
     "output_type": "stream",
     "text": [
      "[Parallel(n_jobs=1)]: Done   1 out of   1 | elapsed:    5.7s remaining:    0.0s\n"
     ]
    },
    {
     "name": "stdout",
     "output_type": "stream",
     "text": [
      "[CV]  , precision (no)=0.8258064516129032, precision (yes)=0.9184397163120568, recall (no)=0.847682119205298, recall (yes)=0.9055944055944056, accuracy=0.88558352402746, roc_auc=0.8766382623998519, f1=0.9119718309859155, total=   6.0s\n",
      "[CV]  ................................................................\n"
     ]
    },
    {
     "name": "stderr",
     "output_type": "stream",
     "text": [
      "[Parallel(n_jobs=1)]: Done   2 out of   2 | elapsed:   11.7s remaining:    0.0s\n"
     ]
    },
    {
     "name": "stdout",
     "output_type": "stream",
     "text": [
      "[CV]  , precision (no)=0.9105691056910569, precision (yes)=0.8853503184713376, recall (no)=0.7567567567567568, recall (yes)=0.9619377162629758, accuracy=0.8924485125858124, roc_auc=0.8593472365098663, f1=0.9220563847429519, total=   5.6s\n",
      "[CV]  ................................................................\n",
      "[CV]  , precision (no)=0.9090909090909091, precision (yes)=0.9183673469387755, recall (no)=0.8441558441558441, recall (yes)=0.9540636042402827, accuracy=0.9153318077803204, roc_auc=0.8991097241980633, f1=0.9358752166377816, total=   5.8s\n",
      "[CV]  ................................................................\n",
      "[CV]  , precision (no)=0.948905109489051, precision (yes)=0.9166666666666666, recall (no)=0.8387096774193549, recall (yes)=0.975177304964539, accuracy=0.9267734553775744, roc_auc=0.906943491191947, f1=0.9450171821305843, total=   5.8s\n",
      "[CV]  ................................................................\n",
      "[CV]  , precision (no)=0.9246575342465754, precision (yes)=0.9140893470790378, recall (no)=0.84375, recall (yes)=0.9602888086642599, accuracy=0.9176201372997712, roc_auc=0.9020194043321299, f1=0.9366197183098591, total=   6.0s\n",
      "[CV]  ................................................................\n",
      "[CV]  , precision (no)=0.9444444444444444, precision (yes)=0.9035369774919614, recall (no)=0.7986577181208053, recall (yes)=0.9756944444444444, accuracy=0.9153318077803204, roc_auc=0.8871760812826249, f1=0.9382303839732888, total=   6.0s\n",
      "[CV]  ................................................................\n",
      "[CV]  , precision (no)=0.8303030303030303, precision (yes)=0.9227941176470589, recall (no)=0.8670886075949367, recall (yes)=0.899641577060932, accuracy=0.8878718535469108, roc_auc=0.8833650923279343, f1=0.9110707803992741, total=   6.2s\n",
      "[CV]  ................................................................\n",
      "[CV]  , precision (no)=0.9205298013245033, precision (yes)=0.9195804195804196, recall (no)=0.8580246913580247, recall (yes)=0.9563636363636364, accuracy=0.919908466819222, roc_auc=0.9071941638608306, f1=0.9376114081996435, total=   6.6s\n",
      "[CV]  ................................................................\n",
      "[CV]  , precision (no)=0.9583333333333334, precision (yes)=0.9283276450511946, recall (no)=0.8679245283018868, recall (yes)=0.9784172661870504, accuracy=0.9382151029748284, roc_auc=0.9231708972444688, f1=0.9527145359019265, total=   6.3s\n",
      "[CV]  ................................................................\n",
      "[CV]  , precision (no)=0.8671328671328671, precision (yes)=0.8843537414965986, recall (no)=0.7848101265822784, recall (yes)=0.931899641577061, accuracy=0.8787185354691075, roc_auc=0.8583548840796695, f1=0.9075043630017452, total=   6.3s\n",
      "[CV]  ................................................................\n",
      "[CV]  , precision (no)=0.8775510204081632, precision (yes)=0.9103448275862069, recall (no)=0.832258064516129, recall (yes)=0.9361702127659575, accuracy=0.8993135011441648, roc_auc=0.8842141386410433, f1=0.9230769230769231, total=   6.5s\n",
      "[CV]  ................................................................\n",
      "[CV]  , precision (no)=0.88, precision (yes)=0.9477351916376306, recall (no)=0.8979591836734694, recall (yes)=0.9379310344827586, accuracy=0.9244851258581236, roc_auc=0.917945109078114, f1=0.9428076256499134, total=   6.5s\n",
      "[CV]  ................................................................\n",
      "[CV]  , precision (no)=0.9029850746268657, precision (yes)=0.8910891089108911, recall (no)=0.7857142857142857, recall (yes)=0.9540636042402827, accuracy=0.8947368421052632, roc_auc=0.8698889449772842, f1=0.9215017064846417, total=   6.7s\n",
      "[CV]  ................................................................\n",
      "[CV]  , precision (no)=0.9126984126984127, precision (yes)=0.8906752411575563, recall (no)=0.7718120805369127, recall (yes)=0.9618055555555556, accuracy=0.897025171624714, roc_auc=0.8668088180462342, f1=0.9248747913188647, total=   6.7s\n",
      "[CV]  ................................................................\n",
      "[CV]  , precision (no)=0.9202898550724637, precision (yes)=0.903010033444816, recall (no)=0.8141025641025641, recall (yes)=0.9608540925266904, accuracy=0.9084668192219679, roc_auc=0.8874783283146273, f1=0.9310344827586206, total=   6.9s\n",
      "[CV]  ................................................................\n",
      "[CV]  , precision (no)=0.9044117647058824, precision (yes)=0.9302325581395349, recall (no)=0.8541666666666666, recall (yes)=0.9556313993174061, accuracy=0.9221967963386728, roc_auc=0.9048990329920363, f1=0.9427609427609428, total=   7.4s\n",
      "[CV]  ................................................................\n",
      "[CV]  , precision (no)=0.8354430379746836, precision (yes)=0.9498207885304659, recall (no)=0.9041095890410958, recall (yes)=0.9106529209621993, accuracy=0.9084668192219679, roc_auc=0.9073812550016476, f1=0.9298245614035087, total=   7.1s\n",
      "[CV]  ................................................................\n",
      "[CV]  , precision (no)=0.900709219858156, precision (yes)=0.9222972972972973, recall (no)=0.8466666666666667, recall (yes)=0.9512195121951219, accuracy=0.9153318077803204, roc_auc=0.8989430894308943, f1=0.9365351629502572, total=   7.1s\n",
      "[CV]  ................................................................\n",
      "[CV]  , precision (no)=0.9027777777777778, precision (yes)=0.8907849829351536, recall (no)=0.8024691358024691, recall (yes)=0.9490909090909091, accuracy=0.8947368421052632, roc_auc=0.8757800224466892, f1=0.9190140845070423, total=   7.2s\n",
      "[CV]  ................................................................\n",
      "[CV]  , precision (no)=0.890625, precision (yes)=0.883495145631068, recall (no)=0.76, recall (yes)=0.9512195121951219, accuracy=0.88558352402746, roc_auc=0.855609756097561, f1=0.9161073825503355, total=   7.2s\n",
      "[CV]  ................................................................\n",
      "[CV]  , precision (no)=0.9370629370629371, precision (yes)=0.8945578231292517, recall (no)=0.8121212121212121, recall (yes)=0.9669117647058824, accuracy=0.9084668192219679, roc_auc=0.8895164884135472, f1=0.9293286219081273, total=   7.3s\n",
      "[CV]  ................................................................\n",
      "[CV]  , precision (no)=0.930379746835443, precision (yes)=0.946236559139785, recall (no)=0.9074074074074074, recall (yes)=0.96, accuracy=0.9405034324942791, roc_auc=0.9337037037037037, f1=0.9530685920577617, total=   7.5s\n",
      "[CV]  ................................................................\n",
      "[CV]  , precision (no)=0.8783783783783784, precision (yes)=0.8927335640138409, recall (no)=0.8074534161490683, recall (yes)=0.9347826086956522, accuracy=0.8878718535469108, roc_auc=0.8711180124223603, f1=0.9132743362831859, total=   7.6s\n",
      "[CV]  ................................................................\n",
      "[CV]  , precision (no)=0.8716216216216216, precision (yes)=0.9238754325259516, recall (no)=0.8543046357615894, recall (yes)=0.9335664335664335, accuracy=0.9061784897025171, roc_auc=0.8939355346640115, f1=0.928695652173913, total=   7.7s\n",
      "[CV]  ................................................................\n",
      "[CV]  , precision (no)=0.8490566037735849, precision (yes)=0.9568345323741008, recall (no)=0.9183673469387755, recall (yes)=0.9172413793103448, accuracy=0.9176201372997712, roc_auc=0.9178043631245602, f1=0.936619718309859, total=   8.3s\n",
      "[CV]  ................................................................\n",
      "[CV]  , precision (no)=0.9523809523809523, precision (yes)=0.896551724137931, recall (no)=0.8235294117647058, recall (yes)=0.9737827715355806, accuracy=0.9153318077803204, roc_auc=0.8986560916501432, f1=0.9335727109515259, total=   7.9s\n",
      "[CV]  ................................................................\n",
      "[CV]  , precision (no)=0.9, precision (yes)=0.9124579124579124, recall (no)=0.8289473684210527, recall (yes)=0.9508771929824561, accuracy=0.9084668192219679, roc_auc=0.8899122807017544, f1=0.9312714776632302, total=   8.0s\n",
      "[CV]  ................................................................\n",
      "[CV]  , precision (no)=0.84375, precision (yes)=0.9386281588447654, recall (no)=0.8881578947368421, recall (yes)=0.9122807017543859, accuracy=0.9038901601830663, roc_auc=0.9002192982456141, f1=0.9252669039145907, total=   8.0s\n",
      "[CV]  ................................................................\n",
      "[CV]  , precision (no)=0.9271523178807947, precision (yes)=0.9440559440559441, recall (no)=0.8974358974358975, recall (yes)=0.9608540925266904, accuracy=0.9382151029748284, roc_auc=0.929144994981294, f1=0.9523809523809524, total=   8.2s\n",
      "[CV]  ................................................................\n",
      "[CV]  , precision (no)=0.9370629370629371, precision (yes)=0.9251700680272109, recall (no)=0.8589743589743589, recall (yes)=0.9679715302491103, accuracy=0.9290617848970252, roc_auc=0.9134729446117348, f1=0.9460869565217391, total=   8.3s\n",
      "[CV]  ................................................................\n",
      "[CV]  , precision (no)=0.9166666666666666, precision (yes)=0.9147540983606557, recall (no)=0.8231292517006803, recall (yes)=0.9620689655172414, accuracy=0.9153318077803204, roc_auc=0.8925991086089609, f1=0.9378151260504202, total=   8.5s\n",
      "[CV]  ................................................................\n",
      "[CV]  , precision (no)=0.8987341772151899, precision (yes)=0.9283154121863799, recall (no)=0.8765432098765432, recall (yes)=0.9418181818181818, accuracy=0.9176201372997712, roc_auc=0.9091806958473625, f1=0.9350180505415163, total=   8.5s\n",
      "[CV]  ................................................................\n",
      "[CV]  , precision (no)=0.9, precision (yes)=0.8815331010452961, recall (no)=0.7988165680473372, recall (yes)=0.9440298507462687, accuracy=0.8878718535469108, roc_auc=0.8714232093968028, f1=0.9117117117117117, total=   8.6s\n",
      "[CV]  ................................................................\n",
      "[CV]  , precision (no)=0.8972602739726028, precision (yes)=0.9106529209621993, recall (no)=0.8343949044585988, recall (yes)=0.9464285714285714, accuracy=0.9061784897025171, roc_auc=0.8904117379435851, f1=0.9281961471103326, total=   8.8s\n",
      "[CV]  ................................................................\n",
      "[CV]  , precision (no)=0.875, precision (yes)=0.9078498293515358, recall (no)=0.8235294117647058, recall (yes)=0.9366197183098591, accuracy=0.897025171624714, roc_auc=0.8800745650372824, f1=0.9220103986135181, total=   8.8s\n",
      "[CV]  ................................................................\n",
      "[CV]  , precision (no)=0.9113924050632911, precision (yes)=0.9139784946236559, recall (no)=0.8571428571428571, recall (yes)=0.9479553903345725, accuracy=0.9130434782608695, roc_auc=0.9025491237387149, f1=0.9306569343065693, total=   9.8s\n",
      "[CV]  ................................................................\n",
      "[CV]  , precision (no)=0.8928571428571429, precision (yes)=0.9057239057239057, recall (no)=0.8169934640522876, recall (yes)=0.9471830985915493, accuracy=0.9016018306636155, roc_auc=0.8820882813219184, f1=0.9259896729776247, total=   9.3s\n",
      "[CV]  ................................................................\n",
      "[CV]  , precision (no)=0.9440559440559441, precision (yes)=0.9013605442176871, recall (no)=0.823170731707317, recall (yes)=0.9706959706959707, accuracy=0.9153318077803204, roc_auc=0.896933351201644, f1=0.9347442680776014, total=   9.4s\n",
      "[CV]  ................................................................\n",
      "[CV]  , precision (no)=0.9215686274509803, precision (yes)=0.9190140845070423, recall (no)=0.8597560975609756, recall (yes)=0.9560439560439561, accuracy=0.919908466819222, roc_auc=0.907900026802466, f1=0.9371633752244166, total=   9.5s\n",
      "[CV]  ................................................................\n",
      "[CV]  , precision (no)=0.9084507042253521, precision (yes)=0.9491525423728814, recall (no)=0.8958333333333334, recall (yes)=0.9556313993174061, accuracy=0.9359267734553776, roc_auc=0.9257323663253698, f1=0.9523809523809523, total=   9.4s\n",
      "[CV]  ................................................................\n",
      "[CV]  , precision (no)=0.8970588235294118, precision (yes)=0.9003322259136213, recall (no)=0.8026315789473685, recall (yes)=0.9508771929824561, accuracy=0.8993135011441648, roc_auc=0.8767543859649122, f1=0.9249146757679182, total=   9.5s\n",
      "[CV]  ................................................................\n",
      "[CV]  , precision (no)=0.8985507246376812, precision (yes)=0.9464882943143813, recall (no)=0.8857142857142857, recall (yes)=0.9528619528619529, accuracy=0.931350114416476, roc_auc=0.9192881192881193, f1=0.9496644295302014, total=   9.5s\n",
      "[CV]  ................................................................\n",
      "[CV]  , precision (no)=0.9012345679012346, precision (yes)=0.9236363636363636, recall (no)=0.874251497005988, recall (yes)=0.9407407407407408, accuracy=0.9153318077803204, roc_auc=0.9074961188733643, f1=0.9321100917431192, total=   9.7s\n",
      "[CV]  ................................................................\n",
      "[CV]  , precision (no)=0.9333333333333333, precision (yes)=0.9372822299651568, recall (no)=0.8860759493670886, recall (yes)=0.96415770609319, accuracy=0.9359267734553776, roc_auc=0.9251168277301393, f1=0.950530035335689, total=   9.8s\n",
      "[CV]  ................................................................\n",
      "[CV]  , precision (no)=0.9178082191780822, precision (yes)=0.8865979381443299, recall (no)=0.8023952095808383, recall (yes)=0.9555555555555556, accuracy=0.897025171624714, roc_auc=0.8789753825681971, f1=0.9197860962566844, total=   9.9s\n",
      "[CV]  ................................................................\n",
      "[CV]  , precision (no)=0.8980891719745223, precision (yes)=0.9321428571428572, recall (no)=0.88125, recall (yes)=0.9422382671480144, accuracy=0.919908466819222, roc_auc=0.9117441335740073, f1=0.9371633752244166, total=  10.0s\n",
      "[CV]  ................................................................\n",
      "[CV]  , precision (no)=0.891156462585034, precision (yes)=0.903448275862069, recall (no)=0.8238993710691824, recall (yes)=0.9424460431654677, accuracy=0.8993135011441648, roc_auc=0.883172707117325, f1=0.9225352112676055, total=  10.1s\n",
      "[CV]  ................................................................\n",
      "[CV]  , precision (no)=0.9246575342465754, precision (yes)=0.9209621993127147, recall (no)=0.8544303797468354, recall (yes)=0.9605734767025089, accuracy=0.9221967963386728, roc_auc=0.9075019282246721, f1=0.9403508771929824, total=  10.1s\n",
      "[CV]  ................................................................\n",
      "[CV]  , precision (no)=0.8554913294797688, precision (yes)=0.9507575757575758, recall (no)=0.9192546583850931, recall (yes)=0.9094202898550725, accuracy=0.9130434782608695, roc_auc=0.9143374741200828, f1=0.9296296296296296, total=  10.3s\n"
     ]
    },
    {
     "name": "stderr",
     "output_type": "stream",
     "text": [
      "[Parallel(n_jobs=1)]: Done  50 out of  50 | elapsed:  6.6min finished\n"
     ]
    },
    {
     "data": {
      "text/html": [
       "<div>\n",
       "<style scoped>\n",
       "    .dataframe tbody tr th:only-of-type {\n",
       "        vertical-align: middle;\n",
       "    }\n",
       "\n",
       "    .dataframe tbody tr th {\n",
       "        vertical-align: top;\n",
       "    }\n",
       "\n",
       "    .dataframe thead th {\n",
       "        text-align: right;\n",
       "    }\n",
       "</style>\n",
       "<table border=\"1\" class=\"dataframe\">\n",
       "  <thead>\n",
       "    <tr style=\"text-align: right;\">\n",
       "      <th></th>\n",
       "      <th>mean_test_precision (no)</th>\n",
       "      <th>mean_test_precision (yes)</th>\n",
       "      <th>mean_test_recall (no)</th>\n",
       "      <th>mean_test_recall (yes)</th>\n",
       "      <th>mean_test_accuracy</th>\n",
       "      <th>mean_test_roc_auc</th>\n",
       "      <th>mean_test_f1</th>\n",
       "    </tr>\n",
       "    <tr>\n",
       "      <th>Parameters</th>\n",
       "      <th></th>\n",
       "      <th></th>\n",
       "      <th></th>\n",
       "      <th></th>\n",
       "      <th></th>\n",
       "      <th></th>\n",
       "      <th></th>\n",
       "    </tr>\n",
       "  </thead>\n",
       "  <tbody>\n",
       "    <tr>\n",
       "      <th>{}</th>\n",
       "      <td>0.902032</td>\n",
       "      <td>0.916278</td>\n",
       "      <td>0.843217</td>\n",
       "      <td>0.948678</td>\n",
       "      <td>0.910938</td>\n",
       "      <td>0.895947</td>\n",
       "      <td>0.931937</td>\n",
       "    </tr>\n",
       "  </tbody>\n",
       "</table>\n",
       "</div>"
      ],
      "text/plain": [
       "            mean_test_precision (no)  mean_test_precision (yes)  \\\n",
       "Parameters                                                        \n",
       "{}                          0.902032                   0.916278   \n",
       "\n",
       "            mean_test_recall (no)  mean_test_recall (yes)  mean_test_accuracy  \\\n",
       "Parameters                                                                      \n",
       "{}                       0.843217                0.948678            0.910938   \n",
       "\n",
       "            mean_test_roc_auc  mean_test_f1  \n",
       "Parameters                                   \n",
       "{}                   0.895947      0.931937  "
      ]
     },
     "execution_count": 28,
     "metadata": {},
     "output_type": "execute_result"
    }
   ],
   "source": [
    "Keras_manga_multiline_NN_Model = KerasClassifier(create_conv_flux_model, epochs=10, batch_size=256, verbose=0)\n",
    "cvm_manga_nn_flux = CrossValidationModeler(res_flux, Y, Keras_manga_multiline_NN_Model)\n",
    "cvm_manga_nn_flux.run_cross_val({}, n_splits=50)"
   ]
  },
  {
   "cell_type": "markdown",
   "metadata": {},
   "source": [
    "## Generating cross val graphs"
   ]
  },
  {
   "cell_type": "code",
   "execution_count": null,
   "metadata": {},
   "outputs": [],
   "source": [
    "pd.DataFrame(cvm_manga_nn_flux.last_results).to_csv(\"simple_model_manga.csv\")\n",
    "manga_simple_results = pd.read_csv('simple_model_manga.csv').to_dict()\n",
    "manga_accuracy_list = list(map(lambda x: x[1][0], filter(lambda x: 'accuracy' in x[0] and 'split' in x[0] , manga_simple_results.items())))"
   ]
  },
  {
   "cell_type": "code",
   "execution_count": 30,
   "metadata": {},
   "outputs": [
    {
     "data": {
      "image/png": "[encoded data removed]",
      "text/plain": [
       "<Figure size 720x720 with 1 Axes>"
      ]
     },
     "metadata": {},
     "output_type": "display_data"
    }
   ],
   "source": [
    "plt.figure(figsize=(10,10))\n",
    "plt.title(f'manga Multiline Dataset Simple Model \\n 50 Fold Cross Validation.\\n 80/20 Train Test Split.\\n Accuracy Scores Mean: {np.mean(manga_accuracy_list):0.4f} +/- {np.std(manga_accuracy_list):0.4f} (std)')\n",
    "hist_values = plt.hist(manga_accuracy_list, bins=6)\n",
    "plt.xlabel('Accuracy')\n",
    "plt.ylabel('Frequency')\n",
    "plt.savefig('mangaMultiline50CrossValSimpleModel.png')\n",
    "plt.show()"
   ]
  },
  {
   "cell_type": "code",
   "execution_count": null,
   "metadata": {},
   "outputs": [],
   "source": []
  },
  {
   "cell_type": "code",
   "execution_count": null,
   "metadata": {},
   "outputs": [],
   "source": []
  },
  {
   "cell_type": "code",
   "execution_count": null,
   "metadata": {},
   "outputs": [],
   "source": []
  },
  {
   "cell_type": "markdown",
   "metadata": {},
   "source": [
    "# Experimenting with ivar"
   ]
  },
  {
   "cell_type": "code",
   "execution_count": null,
   "metadata": {},
   "outputs": [],
   "source": [
    "plt.plot(range(len(mod_X[0][0])), mod_X[0][0][:,0]) \n",
    "plt.plot(range(len(mod_X[0][0])), mod_X[0][0][:,1]) "
   ]
  },
  {
   "cell_type": "code",
   "execution_count": 23,
   "metadata": {},
   "outputs": [],
   "source": [
    "def create_simple_exp():\n",
    "    model = Sequential()\n",
    "    model.add(InputLayer(batch_input_shape=(None, 1, 4563, 2)))\n",
    "    model.add(Conv2D(filters=64, kernel_size=(1,2)))\n",
    "    model.add(BatchNormalization())\n",
    "    model.add(Activation('relu'))\n",
    "    model.add(Conv2D(filters=24, kernel_size=(1,2)))\n",
    "    model.add(BatchNormalization())\n",
    "    model.add(Activation('relu'))\n",
    "    #model.add(MaxPooling2D((2,2)))\n",
    "    model.add(Flatten())\n",
    "    model.add(Dense(1024))\n",
    "    model.add(BatchNormalization())\n",
    "    model.add(Activation('relu'))\n",
    "    model.add(Dropout(.75))\n",
    "    model.add(Dense(512))\n",
    "    model.add(BatchNormalization())\n",
    "    model.add(Activation('relu'))\n",
    "    model.add(Dropout(.75))\n",
    "    model.add(Dense(1, activation='sigmoid'))\n",
    "    model.compile(loss='binary_crossentropy', optimizer=Adam(.0001), metrics=['accuracy'])\n",
    "    return model\n",
    "    \n",
    "\n",
    "def create_conv_flux_model_exp():\n",
    "    model = Sequential()\n",
    "    model.add(InputLayer(batch_input_shape=(None, 1, 4563, 2)))\n",
    "    model.add(Conv2D(filters=64, kernel_size=(1,3), activation='relu', data_format='channels_last'))\n",
    "    model.add(Conv2D(filters=24, kernel_size=(1,3), activation='relu', data_format='channels_last'))\n",
    "    model.add(MaxPooling2D((1,3)))\n",
    "    model.add(Flatten())\n",
    "    model.add(Dense(20,activation='relu'))\n",
    "    model.add(Dense(20, activation='relu'))\n",
    "    model.add(Dense(1, activation='sigmoid'))\n",
    "    model.compile(loss='binary_crossentropy', optimizer='adam', metrics=['accuracy'])\n",
    "    return model"
   ]
  },
  {
   "cell_type": "code",
   "execution_count": 24,
   "metadata": {},
   "outputs": [],
   "source": [
    "mod_X = np.dstack((res_flux, ivar))\n",
    "mod_X = np.expand_dims(mod_X, 1)\n",
    "X_train, X_test, y_train, y_test = train_test_split(mod_X, Y)"
   ]
  },
  {
   "cell_type": "code",
   "execution_count": 25,
   "metadata": {},
   "outputs": [
    {
     "name": "stdout",
     "output_type": "stream",
     "text": [
      "Train on 1638 samples, validate on 546 samples\n",
      "Epoch 1/20\n",
      "1638/1638 [==============================] - 7s 4ms/step - loss: 0.5794 - acc: 0.7705 - val_loss: 0.3556 - val_acc: 0.8901\n",
      "Epoch 2/20\n",
      "1638/1638 [==============================] - 5s 3ms/step - loss: 0.4863 - acc: 0.8272 - val_loss: 0.3209 - val_acc: 0.8938\n",
      "Epoch 3/20\n",
      "1638/1638 [==============================] - 5s 3ms/step - loss: 0.4099 - acc: 0.8394 - val_loss: 0.3026 - val_acc: 0.8938\n",
      "Epoch 4/20\n",
      "1638/1638 [==============================] - 5s 3ms/step - loss: 0.3827 - acc: 0.8651 - val_loss: 0.3102 - val_acc: 0.9029\n",
      "Epoch 5/20\n",
      "1638/1638 [==============================] - 5s 3ms/step - loss: 0.3529 - acc: 0.8773 - val_loss: 0.2900 - val_acc: 0.9029\n",
      "Epoch 6/20\n",
      "1638/1638 [==============================] - 5s 3ms/step - loss: 0.3199 - acc: 0.8791 - val_loss: 0.2836 - val_acc: 0.8993\n",
      "Epoch 7/20\n",
      "1638/1638 [==============================] - 5s 3ms/step - loss: 0.2766 - acc: 0.8864 - val_loss: 0.2762 - val_acc: 0.9066\n",
      "Epoch 8/20\n",
      "1638/1638 [==============================] - 5s 3ms/step - loss: 0.2694 - acc: 0.8968 - val_loss: 0.2782 - val_acc: 0.9066\n",
      "Epoch 9/20\n",
      "1638/1638 [==============================] - 5s 3ms/step - loss: 0.2368 - acc: 0.9133 - val_loss: 0.2842 - val_acc: 0.9066\n",
      "Epoch 10/20\n",
      "1488/1638 [==========================>...] - ETA: 0s - loss: 0.1894 - acc: 0.9315"
     ]
    },
    {
     "ename": "KeyboardInterrupt",
     "evalue": "",
     "output_type": "error",
     "traceback": [
      "\u001b[0;31m---------------------------------------------------------------------------\u001b[0m",
      "\u001b[0;31mKeyboardInterrupt\u001b[0m                         Traceback (most recent call last)",
      "\u001b[0;32m<ipython-input-25-afb4d5130c26>\u001b[0m in \u001b[0;36m<module>\u001b[0;34m()\u001b[0m\n\u001b[1;32m      1\u001b[0m \u001b[0mmod\u001b[0m \u001b[0;34m=\u001b[0m \u001b[0mcreate_simple_exp\u001b[0m\u001b[0;34m(\u001b[0m\u001b[0;34m)\u001b[0m\u001b[0;34m\u001b[0m\u001b[0m\n\u001b[0;32m----> 2\u001b[0;31m \u001b[0mhist\u001b[0m \u001b[0;34m=\u001b[0m \u001b[0mmod\u001b[0m\u001b[0;34m.\u001b[0m\u001b[0mfit\u001b[0m\u001b[0;34m(\u001b[0m\u001b[0mX_train\u001b[0m\u001b[0;34m,\u001b[0m \u001b[0my_train\u001b[0m\u001b[0;34m,\u001b[0m \u001b[0mepochs\u001b[0m\u001b[0;34m=\u001b[0m\u001b[0;36m20\u001b[0m\u001b[0;34m,\u001b[0m \u001b[0mbatch_size\u001b[0m\u001b[0;34m=\u001b[0m\u001b[0;36m16\u001b[0m\u001b[0;34m,\u001b[0m \u001b[0mvalidation_data\u001b[0m\u001b[0;34m=\u001b[0m\u001b[0;34m(\u001b[0m\u001b[0mX_test\u001b[0m\u001b[0;34m,\u001b[0m \u001b[0my_test\u001b[0m\u001b[0;34m)\u001b[0m\u001b[0;34m)\u001b[0m\u001b[0;34m\u001b[0m\u001b[0m\n\u001b[0m",
      "\u001b[0;32m~/MYTF/lib/python3.6/site-packages/keras/engine/training.py\u001b[0m in \u001b[0;36mfit\u001b[0;34m(self, x, y, batch_size, epochs, verbose, callbacks, validation_split, validation_data, shuffle, class_weight, sample_weight, initial_epoch, steps_per_epoch, validation_steps, **kwargs)\u001b[0m\n\u001b[1;32m   1040\u001b[0m                                         \u001b[0minitial_epoch\u001b[0m\u001b[0;34m=\u001b[0m\u001b[0minitial_epoch\u001b[0m\u001b[0;34m,\u001b[0m\u001b[0;34m\u001b[0m\u001b[0m\n\u001b[1;32m   1041\u001b[0m                                         \u001b[0msteps_per_epoch\u001b[0m\u001b[0;34m=\u001b[0m\u001b[0msteps_per_epoch\u001b[0m\u001b[0;34m,\u001b[0m\u001b[0;34m\u001b[0m\u001b[0m\n\u001b[0;32m-> 1042\u001b[0;31m                                         validation_steps=validation_steps)\n\u001b[0m\u001b[1;32m   1043\u001b[0m \u001b[0;34m\u001b[0m\u001b[0m\n\u001b[1;32m   1044\u001b[0m     def evaluate(self, x=None, y=None,\n",
      "\u001b[0;32m~/MYTF/lib/python3.6/site-packages/keras/engine/training_arrays.py\u001b[0m in \u001b[0;36mfit_loop\u001b[0;34m(model, f, ins, out_labels, batch_size, epochs, verbose, callbacks, val_f, val_ins, shuffle, callback_metrics, initial_epoch, steps_per_epoch, validation_steps)\u001b[0m\n\u001b[1;32m    197\u001b[0m                     \u001b[0mins_batch\u001b[0m\u001b[0;34m[\u001b[0m\u001b[0mi\u001b[0m\u001b[0;34m]\u001b[0m \u001b[0;34m=\u001b[0m \u001b[0mins_batch\u001b[0m\u001b[0;34m[\u001b[0m\u001b[0mi\u001b[0m\u001b[0;34m]\u001b[0m\u001b[0;34m.\u001b[0m\u001b[0mtoarray\u001b[0m\u001b[0;34m(\u001b[0m\u001b[0;34m)\u001b[0m\u001b[0;34m\u001b[0m\u001b[0m\n\u001b[1;32m    198\u001b[0m \u001b[0;34m\u001b[0m\u001b[0m\n\u001b[0;32m--> 199\u001b[0;31m                 \u001b[0mouts\u001b[0m \u001b[0;34m=\u001b[0m \u001b[0mf\u001b[0m\u001b[0;34m(\u001b[0m\u001b[0mins_batch\u001b[0m\u001b[0;34m)\u001b[0m\u001b[0;34m\u001b[0m\u001b[0m\n\u001b[0m\u001b[1;32m    200\u001b[0m                 \u001b[0;32mif\u001b[0m \u001b[0;32mnot\u001b[0m \u001b[0misinstance\u001b[0m\u001b[0;34m(\u001b[0m\u001b[0mouts\u001b[0m\u001b[0;34m,\u001b[0m \u001b[0mlist\u001b[0m\u001b[0;34m)\u001b[0m\u001b[0;34m:\u001b[0m\u001b[0;34m\u001b[0m\u001b[0m\n\u001b[1;32m    201\u001b[0m                     \u001b[0mouts\u001b[0m \u001b[0;34m=\u001b[0m \u001b[0;34m[\u001b[0m\u001b[0mouts\u001b[0m\u001b[0;34m]\u001b[0m\u001b[0;34m\u001b[0m\u001b[0m\n",
      "\u001b[0;32m~/MYTF/lib/python3.6/site-packages/keras/backend/tensorflow_backend.py\u001b[0m in \u001b[0;36m__call__\u001b[0;34m(self, inputs)\u001b[0m\n\u001b[1;32m   2659\u001b[0m                 \u001b[0;32mreturn\u001b[0m \u001b[0mself\u001b[0m\u001b[0;34m.\u001b[0m\u001b[0m_legacy_call\u001b[0m\u001b[0;34m(\u001b[0m\u001b[0minputs\u001b[0m\u001b[0;34m)\u001b[0m\u001b[0;34m\u001b[0m\u001b[0m\n\u001b[1;32m   2660\u001b[0m \u001b[0;34m\u001b[0m\u001b[0m\n\u001b[0;32m-> 2661\u001b[0;31m             \u001b[0;32mreturn\u001b[0m \u001b[0mself\u001b[0m\u001b[0;34m.\u001b[0m\u001b[0m_call\u001b[0m\u001b[0;34m(\u001b[0m\u001b[0minputs\u001b[0m\u001b[0;34m)\u001b[0m\u001b[0;34m\u001b[0m\u001b[0m\n\u001b[0m\u001b[1;32m   2662\u001b[0m         \u001b[0;32melse\u001b[0m\u001b[0;34m:\u001b[0m\u001b[0;34m\u001b[0m\u001b[0m\n\u001b[1;32m   2663\u001b[0m             \u001b[0;32mif\u001b[0m \u001b[0mpy_any\u001b[0m\u001b[0;34m(\u001b[0m\u001b[0mis_tensor\u001b[0m\u001b[0;34m(\u001b[0m\u001b[0mx\u001b[0m\u001b[0;34m)\u001b[0m \u001b[0;32mfor\u001b[0m \u001b[0mx\u001b[0m \u001b[0;32min\u001b[0m \u001b[0minputs\u001b[0m\u001b[0;34m)\u001b[0m\u001b[0;34m:\u001b[0m\u001b[0;34m\u001b[0m\u001b[0m\n",
      "\u001b[0;32m~/MYTF/lib/python3.6/site-packages/keras/backend/tensorflow_backend.py\u001b[0m in \u001b[0;36m_call\u001b[0;34m(self, inputs)\u001b[0m\n\u001b[1;32m   2629\u001b[0m                                 \u001b[0msymbol_vals\u001b[0m\u001b[0;34m,\u001b[0m\u001b[0;34m\u001b[0m\u001b[0m\n\u001b[1;32m   2630\u001b[0m                                 session)\n\u001b[0;32m-> 2631\u001b[0;31m         \u001b[0mfetched\u001b[0m \u001b[0;34m=\u001b[0m \u001b[0mself\u001b[0m\u001b[0;34m.\u001b[0m\u001b[0m_callable_fn\u001b[0m\u001b[0;34m(\u001b[0m\u001b[0;34m*\u001b[0m\u001b[0marray_vals\u001b[0m\u001b[0;34m)\u001b[0m\u001b[0;34m\u001b[0m\u001b[0m\n\u001b[0m\u001b[1;32m   2632\u001b[0m         \u001b[0;32mreturn\u001b[0m \u001b[0mfetched\u001b[0m\u001b[0;34m[\u001b[0m\u001b[0;34m:\u001b[0m\u001b[0mlen\u001b[0m\u001b[0;34m(\u001b[0m\u001b[0mself\u001b[0m\u001b[0;34m.\u001b[0m\u001b[0moutputs\u001b[0m\u001b[0;34m)\u001b[0m\u001b[0;34m]\u001b[0m\u001b[0;34m\u001b[0m\u001b[0m\n\u001b[1;32m   2633\u001b[0m \u001b[0;34m\u001b[0m\u001b[0m\n",
      "\u001b[0;32m~/MYTF/lib/python3.6/site-packages/tensorflow/python/client/session.py\u001b[0m in \u001b[0;36m__call__\u001b[0;34m(self, *args)\u001b[0m\n\u001b[1;32m   1449\u001b[0m         \u001b[0;32mif\u001b[0m \u001b[0mself\u001b[0m\u001b[0;34m.\u001b[0m\u001b[0m_session\u001b[0m\u001b[0;34m.\u001b[0m\u001b[0m_created_with_new_api\u001b[0m\u001b[0;34m:\u001b[0m\u001b[0;34m\u001b[0m\u001b[0m\n\u001b[1;32m   1450\u001b[0m           return tf_session.TF_SessionRunCallable(\n\u001b[0;32m-> 1451\u001b[0;31m               self._session._session, self._handle, args, status, None)\n\u001b[0m\u001b[1;32m   1452\u001b[0m         \u001b[0;32melse\u001b[0m\u001b[0;34m:\u001b[0m\u001b[0;34m\u001b[0m\u001b[0m\n\u001b[1;32m   1453\u001b[0m           return tf_session.TF_DeprecatedSessionRunCallable(\n",
      "\u001b[0;31mKeyboardInterrupt\u001b[0m: "
     ]
    }
   ],
   "source": [
    "mod = create_simple_exp()\n",
    "hist = mod.fit(X_train, y_train, epochs=20, batch_size=16, validation_data=(X_test, y_test))"
   ]
  }
 ],
 "metadata": {
  "kernelspec": {
   "display_name": "Python 3",
   "language": "python",
   "name": "python3"
  },
  "language_info": {
   "codemirror_mode": {
    "name": "ipython",
    "version": 3
   },
   "file_extension": ".py",
   "mimetype": "text/x-python",
   "name": "python",
   "nbconvert_exporter": "python",
   "pygments_lexer": "ipython3",
   "version": "3.6.3"
  }
 },
 "nbformat": 4,
 "nbformat_minor": 2
}
