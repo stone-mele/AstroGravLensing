{
 "cells": [
  {
   "cell_type": "code",
   "execution_count": 3,
   "metadata": {},
   "outputs": [],
   "source": [
    "import numpy as np\n",
    "import matplotlib.pyplot as plt\n",
    "import pandas as pd\n",
    "\n",
    "from glob import glob\n",
    "from astropy.io import fits"
   ]
  },
  {
   "cell_type": "code",
   "execution_count": 58,
   "metadata": {},
   "outputs": [],
   "source": [
    "manga = pd.read_csv('../../../Data/Astronomy20000_Original.csv')"
   ]
  },
  {
   "cell_type": "code",
   "execution_count": 68,
   "metadata": {},
   "outputs": [
    {
     "data": {
      "text/plain": [
       "6784     1.47496\n",
       "12186    1.55781\n",
       "Name: z, dtype: float64"
      ]
     },
     "execution_count": 68,
     "metadata": {},
     "output_type": "execute_result"
    }
   ],
   "source": [
    "manga[manga.id == '7960_1901_fiber_102_oneline'].z"
   ]
  },
  {
   "cell_type": "code",
   "execution_count": 4,
   "metadata": {},
   "outputs": [],
   "source": [
    "manga_files = glob('../../../../AstroProj/Data/RawManga/*.fits')"
   ]
  },
  {
   "cell_type": "code",
   "execution_count": 10,
   "metadata": {},
   "outputs": [
    {
     "data": {
      "text/plain": [
       "0.149571"
      ]
     },
     "execution_count": 10,
     "metadata": {},
     "output_type": "execute_result"
    }
   ],
   "source": [
    "zs.max()"
   ]
  },
  {
   "cell_type": "code",
   "execution_count": 40,
   "metadata": {},
   "outputs": [],
   "source": [
    "o2 = 3727.092\n",
    "hid = 4102.892"
   ]
  },
  {
   "cell_type": "code",
   "execution_count": 49,
   "metadata": {},
   "outputs": [
    {
     "data": {
      "text/plain": [
       "432.00878179999927"
      ]
     },
     "execution_count": 49,
     "metadata": {},
     "output_type": "execute_result"
    }
   ],
   "source": [
    "((1+zs[zs >= 0].max())*hid)-((1+zs[zs >= 0].max())*o2)"
   ]
  },
  {
   "cell_type": "code",
   "execution_count": 48,
   "metadata": {},
   "outputs": [
    {
     "data": {
      "text/plain": [
       "376.0043262180002"
      ]
     },
     "execution_count": 48,
     "metadata": {},
     "output_type": "execute_result"
    }
   ],
   "source": [
    "((1+zs[zs >= 0].min())*hid)-((1+zs[zs >= 0].min())*o2)"
   ]
  },
  {
   "cell_type": "code",
   "execution_count": 35,
   "metadata": {},
   "outputs": [
    {
     "data": {
      "text/plain": [
       "555.4384203406794"
      ]
     },
     "execution_count": 35,
     "metadata": {},
     "output_type": "execute_result"
    }
   ],
   "source": [
    "((1+zs[zs >= 0].max())*3727.092) - ((1+zs[zs >= 0].min())*3727.092)"
   ]
  },
  {
   "cell_type": "code",
   "execution_count": 51,
   "metadata": {},
   "outputs": [
    {
     "data": {
      "text/plain": [
       "(array([ 303., 8035., 5216., 2467., 1676.,  928.,  445.,  334.,  391.,\n",
       "         294.]),\n",
       " array([0.00054371, 0.01544644, 0.03034917, 0.0452519 , 0.06015463,\n",
       "        0.07505736, 0.08996008, 0.10486281, 0.11976554, 0.13466827,\n",
       "        0.149571  ]),\n",
       " <a list of 10 Patch objects>)"
      ]
     },
     "execution_count": 51,
     "metadata": {},
     "output_type": "execute_result"
    },
    {
     "data": {
      "image/png": "[encoded data removed]",
      "text/plain": [
       "<matplotlib.figure.Figure at 0x1f973883ac8>"
      ]
     },
     "metadata": {},
     "output_type": "display_data"
    }
   ],
   "source": [
    "plt.hist(zs[zs > 0])"
   ]
  },
  {
   "cell_type": "code",
   "execution_count": 9,
   "metadata": {},
   "outputs": [
    {
     "data": {
      "text/plain": [
       "-9999.0"
      ]
     },
     "execution_count": 9,
     "metadata": {},
     "output_type": "execute_result"
    }
   ],
   "source": [
    "zs.min()"
   ]
  },
  {
   "cell_type": "code",
   "execution_count": 5,
   "metadata": {},
   "outputs": [
    {
     "name": "stdout",
     "output_type": "stream",
     "text": [
      "WHAT ../../../../AstroProj/Data/RawManga\\HIT_RSS_mpl5_7991_12701_fiber_0_oneline.fits\n",
      "WHAT ../../../../AstroProj/Data/RawManga\\HIT_RSS_mpl5_8143_6103_fiber_0_multiline.fits\n",
      "WHAT ../../../../AstroProj/Data/RawManga\\HIT_RSS_mpl5_8149_3704_fiber_0_multiline.fits\n",
      "WHAT ../../../../AstroProj/Data/RawManga\\HIT_RSS_mpl5_8256_6101_fiber_0_oneline.fits\n",
      "WHAT ../../../../AstroProj/Data/RawManga\\HIT_RSS_mpl5_8329_12702_fiber_0_oneline.fits\n",
      "WHAT ../../../../AstroProj/Data/RawManga\\HIT_RSS_mpl5_8456_12702_fiber_0_multiline.fits\n",
      "WHAT ../../../../AstroProj/Data/RawManga\\HIT_RSS_mpl5_8456_12702_fiber_0_oneline.fits\n",
      "WHAT ../../../../AstroProj/Data/RawManga\\HIT_RSS_mpl5_8462_3701_fiber_0_oneline.fits\n",
      "WHAT ../../../../AstroProj/Data/RawManga\\HIT_RSS_mpl5_8464_3702_fiber_0_oneline.fits\n",
      "WHAT ../../../../AstroProj/Data/RawManga\\HIT_RSS_mpl5_8484_3701_fiber_0_oneline.fits\n",
      "WHAT ../../../../AstroProj/Data/RawManga\\HIT_RSS_mpl5_8604_9102_fiber_0_oneline.fits\n",
      "WHAT ../../../../AstroProj/Data/RawManga\\HIT_RSS_mpl5_8952_6102_fiber_0_oneline.fits\n",
      "WHAT ../../../../AstroProj/Data/RawManga\\HIT_RSS_mpl5_9042_3702_fiber_0_oneline.fits\n"
     ]
    }
   ],
   "source": [
    "zs = []\n",
    "for filename in manga_files:\n",
    "    f = fits.open(filename)\n",
    "    try:\n",
    "        zs.append(f[0].header['NSA_Z'])\n",
    "    except KeyError:\n",
    "        print(\"WHAT {}\".format(filename))\n",
    "    f.close()\n",
    "zs = np.array(zs)"
   ]
  },
  {
   "cell_type": "code",
   "execution_count": null,
   "metadata": {},
   "outputs": [],
   "source": [
    "zs = "
   ]
  },
  {
   "cell_type": "code",
   "execution_count": 86,
   "metadata": {},
   "outputs": [],
   "source": [
    "#f = fits.open('../../../../AstroProj/Data/RawEboss/1193/HIT_SPEC_dr8_1193_52652_232_fiber_oneline.fits')\n",
    "f = fits.open('../../../../AstroProj/Data/RawManga/HIT_RSS_mpl5_7957_9102_fiber_673_oneline.fits')"
   ]
  },
  {
   "cell_type": "code",
   "execution_count": 94,
   "metadata": {},
   "outputs": [
    {
     "data": {
      "text/plain": [
       "0.0256541"
      ]
     },
     "execution_count": 94,
     "metadata": {},
     "output_type": "execute_result"
    }
   ],
   "source": [
    "f[0].header['NSA_Z']"
   ]
  },
  {
   "cell_type": "code",
   "execution_count": 89,
   "metadata": {},
   "outputs": [
    {
     "name": "stdout",
     "output_type": "stream",
     "text": [
      "Filename: ../../../../AstroProj/Data/RawManga/HIT_RSS_mpl5_7957_9102_fiber_673_oneline.fits\n",
      "No.    Name      Ver    Type      Cards   Dimensions   Format\n",
      "  0  PRIMARY       1 PrimaryHDU      37   ()      \n",
      "  1  HITS          1 BinTableHDU     51   1R x 5C   [1J, 1E, 1E, 10E, 1E]   \n",
      "  2  WAVE          1 ImageHDU        39   (4563,)   float64   \n",
      "  3  FLUX          1 ImageHDU        39   (4563,)   float32   \n",
      "  4  IVAR          1 ImageHDU        39   (4563,)   float32   \n",
      "  5  IVAR_RESCALED    1 ImageHDU        39   (4563,)   float64   \n",
      "  6  MODEL_GENERATED    1 ImageHDU        39   (4563,)   float64   \n",
      "  7  RESFLUX       1 ImageHDU        39   (4563,)   float64   \n",
      "  8  O2SN          1 ImageHDU        39   (4563,)   float64   \n",
      "  9  EMSN          1 ImageHDU        40   (4563, 10)   float64   \n",
      " 10  MASK          1 ImageHDU        39   (4563,)   int32   \n"
     ]
    }
   ],
   "source": [
    "f.info()"
   ]
  },
  {
   "cell_type": "code",
   "execution_count": 90,
   "metadata": {},
   "outputs": [
    {
     "data": {
      "text/plain": [
       "SIMPLE  =                    T / conforms to FITS standard                      \n",
       "BITPIX  =                    8 / array data type                                \n",
       "NAXIS   =                    0 / number of array dimensions                     \n",
       "EXTEND  =                    T                                                  \n",
       "RELEASE = 'mpl5    '           / SDSS Public Data Release                       \n",
       "FILETYPE= 'RSS     '                                                            \n",
       "PLATE   =                 7957                                                  \n",
       "IFU     =                 9102                                                  \n",
       "SPECMODE= 'fiber   '                                                            \n",
       "FIBERIDX=                  673                                                  \n",
       "LINEMODE= 'oneline '                                                            \n",
       "NSA_Z   =            0.0256541                                                  \n",
       "O2SNMIN =                    6                                                  \n",
       "MAXHITS =                   10                                                  \n",
       "EMNUM   =                    1                                                  \n",
       "OIIB    =             3727.092                                                  \n",
       "OIIA    =             3729.875                                                  \n",
       "HID     =             4102.892                                                  \n",
       "HIC     =             4341.684                                                  \n",
       "HIB     =             4862.683                                                  \n",
       "OIIIB   =             4960.295                                                  \n",
       "OIIIA   =             5008.239                                                  \n",
       "NIIB    =              6549.86                                                  \n",
       "HIA     =             6564.614                                                  \n",
       "NIIA    =              6585.27                                                  \n",
       "SIIB    =              6718.29                                                  \n",
       "SIIA    =              6732.68                                                  \n",
       "EMSNMIN0=                    0                                                  \n",
       "EMSNMIN1=                    0                                                  \n",
       "EMSNMIN2=                    0                                                  \n",
       "EMSNMIN3=                    0                                                  \n",
       "EMSNMIN4=                    0                                                  \n",
       "EMSNMIN5=                    0                                                  \n",
       "EMSNMIN6=                    0                                                  \n",
       "EMSNMIN7=                    0                                                  \n",
       "EMSNMIN8=                    0                                                  \n",
       "EMSNMIN9=                    0                                                  "
      ]
     },
     "execution_count": 90,
     "metadata": {},
     "output_type": "execute_result"
    }
   ],
   "source": [
    "f[0].header"
   ]
  },
  {
   "cell_type": "code",
   "execution_count": 88,
   "metadata": {},
   "outputs": [
    {
     "data": {
      "text/plain": [
       "array([         0,          0,          0, ...,          0,          0,\n",
       "       1241513984])"
      ]
     },
     "execution_count": 88,
     "metadata": {},
     "output_type": "execute_result"
    }
   ],
   "source": [
    "f[10].data"
   ]
  },
  {
   "cell_type": "code",
   "execution_count": 84,
   "metadata": {},
   "outputs": [
    {
     "data": {
      "text/plain": [
       "[<matplotlib.lines.Line2D at 0x1b7ec23d240>]"
      ]
     },
     "execution_count": 84,
     "metadata": {},
     "output_type": "execute_result"
    },
    {
     "data": {
      "image/png": "[encoded data removed]",
      "text/plain": [
       "<matplotlib.figure.Figure at 0x1b7ec87c390>"
      ]
     },
     "metadata": {},
     "output_type": "display_data"
    }
   ],
   "source": [
    "plt.plot(f[2].data, f[3].data)"
   ]
  },
  {
   "cell_type": "code",
   "execution_count": 54,
   "metadata": {},
   "outputs": [
    {
     "data": {
      "text/plain": [
       "4134.422157588"
      ]
     },
     "execution_count": 54,
     "metadata": {},
     "output_type": "execute_result"
    }
   ],
   "source": [
    "(1 + 0.109289) *  3727.092 "
   ]
  },
  {
   "cell_type": "code",
   "execution_count": 33,
   "metadata": {},
   "outputs": [
    {
     "data": {
      "text/plain": [
       "XTENSION= 'IMAGE   '           / Image extension                                \n",
       "BITPIX  =                  -32 / array data type                                \n",
       "NAXIS   =                    1 / number of array dimensions                     \n",
       "NAXIS1  =                 4563                                                  \n",
       "PCOUNT  =                    0 / number of parameters                           \n",
       "GCOUNT  =                    1 / number of groups                               \n",
       "EXTNAME = 'FLUX    '           / extension name                                 \n",
       "FILETYPE= 'RSS     '                                                            \n",
       "PLATE   =                 7960                                                  \n",
       "IFU     =                 1901                                                  \n",
       "SPECMODE= 'fiber   '                                                            \n",
       "FIBERIDX=                  102                                                  \n",
       "LINEMODE= 'oneline '                                                            \n",
       "NSA_Z   =             0.109289                                                  \n",
       "O2SNMIN =                    6                                                  \n",
       "MAXHITS =                   10                                                  \n",
       "EMNUM   =                    1                                                  \n",
       "OIIB    =             3727.092                                                  \n",
       "OIIA    =             3729.875                                                  \n",
       "HID     =             4102.892                                                  \n",
       "HIC     =             4341.684                                                  \n",
       "HIB     =             4862.683                                                  \n",
       "OIIIB   =             4960.295                                                  \n",
       "OIIIA   =             5008.239                                                  \n",
       "NIIB    =              6549.86                                                  \n",
       "HIA     =             6564.614                                                  \n",
       "NIIA    =              6585.27                                                  \n",
       "SIIB    =              6718.29                                                  \n",
       "SIIA    =              6732.68                                                  \n",
       "EMSNMIN0=                    0                                                  \n",
       "EMSNMIN1=                    0                                                  \n",
       "EMSNMIN2=                    0                                                  \n",
       "EMSNMIN3=                    0                                                  \n",
       "EMSNMIN4=                    0                                                  \n",
       "EMSNMIN5=                    0                                                  \n",
       "EMSNMIN6=                    0                                                  \n",
       "EMSNMIN7=                    0                                                  \n",
       "EMSNMIN8=                    0                                                  \n",
       "EMSNMIN9=                    0                                                  "
      ]
     },
     "execution_count": 33,
     "metadata": {},
     "output_type": "execute_result"
    }
   ],
   "source": [
    "f[3].header"
   ]
  },
  {
   "cell_type": "code",
   "execution_count": null,
   "metadata": {},
   "outputs": [],
   "source": [
    "def extract_emission(filename):\n",
    "    fits.open(filename)\n",
    "    "
   ]
  }
 ],
 "metadata": {
  "kernelspec": {
   "display_name": "Python 3",
   "language": "python",
   "name": "python3"
  },
  "language_info": {
   "codemirror_mode": {
    "name": "ipython",
    "version": 3
   },
   "file_extension": ".py",
   "mimetype": "text/x-python",
   "name": "python",
   "nbconvert_exporter": "python",
   "pygments_lexer": "ipython3",
   "version": "3.6.1"
  }
 },
 "nbformat": 4,
 "nbformat_minor": 2
}
