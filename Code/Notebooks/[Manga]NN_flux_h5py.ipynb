{
 "cells": [
  {
   "cell_type": "markdown",
   "metadata": {},
   "source": [
    "This notebook is my first attempt at applying NN's on the flux data for the manga set. "
   ]
  },
  {
   "cell_type": "markdown",
   "metadata": {},
   "source": [
    "# Manga NN Flux"
   ]
  },
  {
   "cell_type": "code",
   "execution_count": 4,
   "metadata": {},
   "outputs": [],
   "source": [
    "import pandas as pd\n",
    "import numpy as np\n",
    "from astropy.io import fits\n",
    "import matplotlib.pyplot as plt\n",
    "import h5py\n",
    "\n",
    "from keras.models import Sequential\n",
    "from keras.layers import Dense, Activation, Flatten, Convolution1D, Dropout, MaxPooling1D, Conv2D, Conv1D, InputLayer, Dropout\n",
    "from keras.optimizers import SGD, Adam\n",
    "from keras.utils import np_utils\n",
    "from keras.wrappers.scikit_learn import KerasClassifier\n",
    "\n",
    "from Modeling import CrossValidationModeler"
   ]
  },
  {
   "cell_type": "markdown",
   "metadata": {},
   "source": [
    "Reading in the multiline set as its smaller and more managable."
   ]
  },
  {
   "cell_type": "code",
   "execution_count": 28,
   "metadata": {},
   "outputs": [],
   "source": [
    "flux_eboss = h5py.File('../../Data/RawManga/multiline_manga_flux.hdf5')\n",
    "X, Y = flux_eboss['flux_values'], flux_eboss['flux_labels']\n",
    "X, Y = np.array(X), np.array(Y)\n",
    "X = np.expand_dims(X, -1)"
   ]
  },
  {
   "cell_type": "code",
   "execution_count": 30,
   "metadata": {},
   "outputs": [
    {
     "name": "stdout",
     "output_type": "stream",
     "text": [
      "Epoch 1/2\n",
      "2184/2184 [==============================] - 18s 8ms/step - loss: 0.4452 - acc: 0.8709\n",
      "Epoch 2/2\n",
      "2184/2184 [==============================] - 18s 8ms/step - loss: 0.2950 - acc: 0.8919\n"
     ]
    },
    {
     "data": {
      "text/plain": [
       "<keras.callbacks.History at 0x18b66ad5208>"
      ]
     },
     "execution_count": 30,
     "metadata": {},
     "output_type": "execute_result"
    }
   ],
   "source": [
    "model = Sequential()\n",
    "model.add(InputLayer(batch_input_shape=(None, 4563, 1)))\n",
    "model.add(Conv1D(filters=64, kernel_size=2,activation= 'relu'))\n",
    "model.add(Conv1D(filters=24, kernel_size=2,activation= 'relu'))\n",
    "model.add(MaxPooling1D())\n",
    "model.add(Flatten())\n",
    "model.add(Dense(10,activation='relu'))\n",
    "model.add(Dense(10, activation='relu'))\n",
    "model.add(Dense(1, activation='sigmoid'))\n",
    "model.compile(loss='binary_crossentropy', optimizer='adam', metrics=['accuracy'])\n",
    "model.fit(X, Y, batch_size=8, epochs=2, shuffle=True)"
   ]
  },
  {
   "cell_type": "markdown",
   "metadata": {},
   "source": [
    "##### Running some more epochs"
   ]
  },
  {
   "cell_type": "code",
   "execution_count": 31,
   "metadata": {},
   "outputs": [
    {
     "name": "stdout",
     "output_type": "stream",
     "text": [
      "Epoch 1/1\n",
      "2184/2184 [==============================] - 17s 8ms/step - loss: 0.2378 - acc: 0.9139\n"
     ]
    },
    {
     "data": {
      "text/plain": [
       "<keras.callbacks.History at 0x18b66934588>"
      ]
     },
     "execution_count": 31,
     "metadata": {},
     "output_type": "execute_result"
    }
   ],
   "source": [
    "model.fit(X, Y, batch_size=8, epochs=1, shuffle=True)"
   ]
  },
  {
   "cell_type": "markdown",
   "metadata": {},
   "source": [
    "##### Some more"
   ]
  },
  {
   "cell_type": "code",
   "execution_count": 29,
   "metadata": {},
   "outputs": [
    {
     "name": "stdout",
     "output_type": "stream",
     "text": [
      "Epoch 1/1\n",
      "2184/2184 [==============================] - 17s 8ms/step - loss: 0.0318 - acc: 0.9780\n"
     ]
    },
    {
     "data": {
      "text/plain": [
       "<keras.callbacks.History at 0x2e200015f60>"
      ]
     },
     "execution_count": 29,
     "metadata": {},
     "output_type": "execute_result"
    }
   ],
   "source": [
    "model.fit(X, Y, batch_size=8, epochs=1, shuffle=True)"
   ]
  },
  {
   "cell_type": "markdown",
   "metadata": {},
   "source": [
    "##### Looks like they are applicable to the manga data."
   ]
  },
  {
   "cell_type": "code",
   "execution_count": 17,
   "metadata": {},
   "outputs": [],
   "source": [
    "def create_conv_flux_model():\n",
    "    model = Sequential()\n",
    "    model.add(InputLayer(batch_input_shape=(None, 4563, 1)))\n",
    "    model.add(Conv1D(filters=64, kernel_size=2,activation= 'relu'))\n",
    "    model.add(Conv1D(filters=24, kernel_size=2,activation= 'relu'))\n",
    "    model.add(MaxPooling1D())\n",
    "    model.add(Flatten())\n",
    "    model.add(Dense(10,activation='relu'))\n",
    "    model.add(Dense(10, activation='relu'))\n",
    "    model.add(Dense(1, activation='sigmoid'))\n",
    "    model.compile(loss='binary_crossentropy', optimizer='adam', metrics=['accuracy'])\n",
    "    return model"
   ]
  },
  {
   "cell_type": "markdown",
   "metadata": {},
   "source": [
    "***"
   ]
  },
  {
   "cell_type": "code",
   "execution_count": 8,
   "metadata": {},
   "outputs": [],
   "source": [
    "def create_conv_flux_model():\n",
    "    model = Sequential()\n",
    "    model.add(InputLayer(batch_input_shape=(None, 4563, 1)))\n",
    "    model.add(Conv1D(filters=64, kernel_size=2,activation= 'relu'))\n",
    "    model.add(MaxPooling1D())\n",
    "    model.add(Conv1D(filters=24, kernel_size=2,activation= 'relu'))\n",
    "    model.add(MaxPooling1D())\n",
    "    model.add(Flatten())\n",
    "    model.add(Dense(10,activation='relu'))\n",
    "    model.add(Dense(10, activation='relu'))\n",
    "    model.add(Dense(1, activation='sigmoid'))\n",
    "    model.compile(loss='binary_crossentropy', optimizer='adam', metrics=['accuracy'])\n",
    "    #model.fit(XX, y, batch_size=256, epochs=5, shuffle=True)\n",
    "    return model"
   ]
  },
  {
   "cell_type": "markdown",
   "metadata": {},
   "source": [
    "Gonna try and run th emodel on the other datasets in this group."
   ]
  },
  {
   "cell_type": "markdown",
   "metadata": {},
   "source": [
    "---\n",
    "## Full Dataset Model"
   ]
  },
  {
   "cell_type": "code",
   "execution_count": 14,
   "metadata": {},
   "outputs": [],
   "source": [
    "flux_manga = h5py.File('../../Data/manga_flux.hdf5')\n",
    "X, Y = flux_manga['flux_values'], flux_manga['flux_labels']\n",
    "X, Y = np.array(X), np.array(Y)\n",
    "X = np.expand_dims(X, -1)"
   ]
  },
  {
   "cell_type": "code",
   "execution_count": 18,
   "metadata": {},
   "outputs": [],
   "source": [
    "Keras_manga_NN_Model = KerasClassifier(create_conv_flux_model, epochs=5, batch_size=256, verbose=0)\n",
    "cvm_manga_nn_flux = CrossValidationModeler(X, Y, Keras_manga_NN_Model)"
   ]
  },
  {
   "cell_type": "code",
   "execution_count": 19,
   "metadata": {},
   "outputs": [
    {
     "data": {
      "text/html": [
       "<div>\n",
       "<style scoped>\n",
       "    .dataframe tbody tr th:only-of-type {\n",
       "        vertical-align: middle;\n",
       "    }\n",
       "\n",
       "    .dataframe tbody tr th {\n",
       "        vertical-align: top;\n",
       "    }\n",
       "\n",
       "    .dataframe thead th {\n",
       "        text-align: right;\n",
       "    }\n",
       "</style>\n",
       "<table border=\"1\" class=\"dataframe\">\n",
       "  <thead>\n",
       "    <tr style=\"text-align: right;\">\n",
       "      <th></th>\n",
       "      <th>mean_test_accuracy</th>\n",
       "      <th>mean_test_f1</th>\n",
       "      <th>mean_test_precision (no)</th>\n",
       "      <th>mean_test_precision (yes)</th>\n",
       "      <th>mean_test_recall (no)</th>\n",
       "      <th>mean_test_recall (yes)</th>\n",
       "      <th>mean_test_roc_auc</th>\n",
       "    </tr>\n",
       "    <tr>\n",
       "      <th>Parameters</th>\n",
       "      <th></th>\n",
       "      <th></th>\n",
       "      <th></th>\n",
       "      <th></th>\n",
       "      <th></th>\n",
       "      <th></th>\n",
       "      <th></th>\n",
       "    </tr>\n",
       "  </thead>\n",
       "  <tbody>\n",
       "    <tr>\n",
       "      <th>{}</th>\n",
       "      <td>0.769829</td>\n",
       "      <td>0.288596</td>\n",
       "      <td>0.78802</td>\n",
       "      <td>0.567073</td>\n",
       "      <td>0.953027</td>\n",
       "      <td>0.193548</td>\n",
       "      <td>0.573288</td>\n",
       "    </tr>\n",
       "  </tbody>\n",
       "</table>\n",
       "</div>"
      ],
      "text/plain": [
       "            mean_test_accuracy  mean_test_f1  mean_test_precision (no)  \\\n",
       "Parameters                                                               \n",
       "{}                    0.769829      0.288596                   0.78802   \n",
       "\n",
       "            mean_test_precision (yes)  mean_test_recall (no)  \\\n",
       "Parameters                                                     \n",
       "{}                           0.567073               0.953027   \n",
       "\n",
       "            mean_test_recall (yes)  mean_test_roc_auc  \n",
       "Parameters                                             \n",
       "{}                        0.193548           0.573288  "
      ]
     },
     "execution_count": 19,
     "metadata": {},
     "output_type": "execute_result"
    }
   ],
   "source": [
    "cvm_manga_nn_flux.run_cross_val({}, n_splits=1)"
   ]
  },
  {
   "cell_type": "markdown",
   "metadata": {},
   "source": [
    "---\n",
    "### Oneline Dataset Model"
   ]
  },
  {
   "cell_type": "code",
   "execution_count": 15,
   "metadata": {},
   "outputs": [],
   "source": [
    "flux_manga_oneline = h5py.File('../../Data/manga_flux_oneline+.hdf5')\n",
    "X_oneline, Y_oneline = flux_manga_oneline['flux_values'], flux_manga_oneline['flux_labels']\n",
    "X_oneline, Y_oneline = np.array(X_oneline), np.array(Y_oneline)\n",
    "X_oneline = np.expand_dims(X_oneline, -1)"
   ]
  },
  {
   "cell_type": "code",
   "execution_count": 16,
   "metadata": {},
   "outputs": [
    {
     "data": {
      "text/plain": [
       "((17732, 4563, 1), (17732, 1))"
      ]
     },
     "execution_count": 16,
     "metadata": {},
     "output_type": "execute_result"
    }
   ],
   "source": [
    "X_oneline.shape, Y_oneline.shape"
   ]
  },
  {
   "cell_type": "code",
   "execution_count": 17,
   "metadata": {},
   "outputs": [],
   "source": [
    "Keras_manga_oneline_NN_Model = KerasClassifier(create_conv_flux_model, epochs=5, batch_size=8, verbose=0)\n",
    "cvm_manga_nn_flux_oneline = CrossValidationModeler(X_oneline, Y_oneline, Keras_manga_oneline_NN_Model)"
   ]
  },
  {
   "cell_type": "code",
   "execution_count": null,
   "metadata": {},
   "outputs": [],
   "source": [
    "cvm_manga_nn_flux_oneline.run_cross_val({})"
   ]
  },
  {
   "cell_type": "markdown",
   "metadata": {},
   "source": [
    "---\n",
    "## Multiline Dataset Model"
   ]
  },
  {
   "cell_type": "code",
   "execution_count": 11,
   "metadata": {},
   "outputs": [],
   "source": [
    "flux_manga_multiline = h5py.File('../../Data/manga_flux_multiline+.hdf5')\n",
    "X_multiline, Y_multiline = flux_manga_multiline['flux_values'], flux_manga_multiline['flux_labels']\n",
    "X_multiline, Y_multiline = np.array(X_multiline), np.array(Y_multiline)\n",
    "X_multiline = np.expand_dims(X_multiline, -1)"
   ]
  },
  {
   "cell_type": "code",
   "execution_count": 12,
   "metadata": {},
   "outputs": [
    {
     "data": {
      "text/plain": [
       "((2184, 4563, 1), (2184, 1))"
      ]
     },
     "execution_count": 12,
     "metadata": {},
     "output_type": "execute_result"
    }
   ],
   "source": [
    "X_multiline.shape, Y_multiline.shape"
   ]
  },
  {
   "cell_type": "code",
   "execution_count": 13,
   "metadata": {},
   "outputs": [],
   "source": [
    "Keras_manga_multiline_NN_Model = KerasClassifier(create_conv_flux_model, epochs=5, batch_size=8, verbose=0)\n",
    "cvm_manga_nn_flux_multiline = CrossValidationModeler(X_multiline, Y_multiline, Keras_manga_multiline_NN_Model)"
   ]
  },
  {
   "cell_type": "code",
   "execution_count": 14,
   "metadata": {},
   "outputs": [
    {
     "data": {
      "text/html": [
       "<div>\n",
       "<style scoped>\n",
       "    .dataframe tbody tr th:only-of-type {\n",
       "        vertical-align: middle;\n",
       "    }\n",
       "\n",
       "    .dataframe tbody tr th {\n",
       "        vertical-align: top;\n",
       "    }\n",
       "\n",
       "    .dataframe thead th {\n",
       "        text-align: right;\n",
       "    }\n",
       "</style>\n",
       "<table border=\"1\" class=\"dataframe\">\n",
       "  <thead>\n",
       "    <tr style=\"text-align: right;\">\n",
       "      <th></th>\n",
       "      <th>mean_test_accuracy</th>\n",
       "      <th>mean_test_f1</th>\n",
       "      <th>mean_test_precision (no)</th>\n",
       "      <th>mean_test_precision (yes)</th>\n",
       "      <th>mean_test_recall (no)</th>\n",
       "      <th>mean_test_recall (yes)</th>\n",
       "      <th>mean_test_roc_auc</th>\n",
       "    </tr>\n",
       "    <tr>\n",
       "      <th>Parameters</th>\n",
       "      <th></th>\n",
       "      <th></th>\n",
       "      <th></th>\n",
       "      <th></th>\n",
       "      <th></th>\n",
       "      <th></th>\n",
       "      <th></th>\n",
       "    </tr>\n",
       "  </thead>\n",
       "  <tbody>\n",
       "    <tr>\n",
       "      <th>{}</th>\n",
       "      <td>0.892677</td>\n",
       "      <td>0.919236</td>\n",
       "      <td>0.879546</td>\n",
       "      <td>0.90121</td>\n",
       "      <td>0.80774</td>\n",
       "      <td>0.939266</td>\n",
       "      <td>0.873503</td>\n",
       "    </tr>\n",
       "  </tbody>\n",
       "</table>\n",
       "</div>"
      ],
      "text/plain": [
       "            mean_test_accuracy  mean_test_f1  mean_test_precision (no)  \\\n",
       "Parameters                                                               \n",
       "{}                    0.892677      0.919236                  0.879546   \n",
       "\n",
       "            mean_test_precision (yes)  mean_test_recall (no)  \\\n",
       "Parameters                                                     \n",
       "{}                            0.90121                0.80774   \n",
       "\n",
       "            mean_test_recall (yes)  mean_test_roc_auc  \n",
       "Parameters                                             \n",
       "{}                        0.939266           0.873503  "
      ]
     },
     "execution_count": 14,
     "metadata": {},
     "output_type": "execute_result"
    }
   ],
   "source": [
    "cvm_manga_nn_flux_multiline.run_cross_val({})"
   ]
  },
  {
   "cell_type": "markdown",
   "metadata": {},
   "source": [
    "---"
   ]
  },
  {
   "cell_type": "code",
   "execution_count": null,
   "metadata": {},
   "outputs": [],
   "source": []
  },
  {
   "cell_type": "code",
   "execution_count": null,
   "metadata": {},
   "outputs": [],
   "source": []
  },
  {
   "cell_type": "markdown",
   "metadata": {},
   "source": [
    "# I think i need a little bit more compute power to run the singline or full datasets as they seem to be needing more epochs currently. Gonna work on that then updatae this notebook"
   ]
  },
  {
   "cell_type": "code",
   "execution_count": null,
   "metadata": {},
   "outputs": [],
   "source": []
  }
 ],
 "metadata": {
  "kernelspec": {
   "display_name": "Python 3",
   "language": "python",
   "name": "python3"
  },
  "language_info": {
   "codemirror_mode": {
    "name": "ipython",
    "version": 3
   },
   "file_extension": ".py",
   "mimetype": "text/x-python",
   "name": "python",
   "nbconvert_exporter": "python",
   "pygments_lexer": "ipython3",
   "version": "3.6.1"
  }
 },
 "nbformat": 4,
 "nbformat_minor": 2
}
