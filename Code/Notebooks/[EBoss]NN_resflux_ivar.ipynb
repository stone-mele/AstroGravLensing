{
 "cells": [
  {
   "cell_type": "markdown",
   "metadata": {},
   "source": [
    "# Eboss Neural Network on Flux Data"
   ]
  },
  {
   "cell_type": "markdown",
   "metadata": {},
   "source": [
    "This notebook contains my attempts at training a model on the residual flux data instead of the base flux data. It seems to be doing better."
   ]
  },
  {
   "cell_type": "code",
   "execution_count": 1,
   "metadata": {},
   "outputs": [
    {
     "name": "stderr",
     "output_type": "stream",
     "text": [
      "Using TensorFlow backend.\n"
     ]
    }
   ],
   "source": [
    "import pandas as pd\n",
    "import numpy as np\n",
    "import matplotlib.pyplot as plt\n",
    "import h5py\n",
    "\n",
    "from astropy.io import fits\n",
    "from glob import glob\n",
    "\n",
    "from sklearn.model_selection import train_test_split\n",
    "from sklearn.model_selection import cross_validate\n",
    "from sklearn.model_selection import ShuffleSplit, GridSearchCV\n",
    "from sklearn.metrics import recall_score, precision_score, f1_score\n",
    "from sklearn.metrics import accuracy_score, roc_auc_score, make_scorer\n",
    "from sklearn import warnings\n",
    "\n",
    "from IPython.display import SVG\n",
    "from keras.utils.vis_utils import plot_model\n",
    "\n",
    "from keras.models import Sequential\n",
    "from keras.layers import Dense, Activation, Flatten, Convolution1D, Dropout, MaxPooling1D, Conv2D, Conv1D, InputLayer, Dropout, MaxPooling2D, BatchNormalization\n",
    "from keras.optimizers import SGD, Adam\n",
    "from keras.callbacks import TensorBoard\n",
    "from keras.utils import np_utils\n",
    "from keras.wrappers.scikit_learn import KerasClassifier\n",
    "\n",
    "from Modeling import CrossValidationModeler"
   ]
  },
  {
   "cell_type": "markdown",
   "metadata": {},
   "source": [
    "# Models"
   ]
  },
  {
   "cell_type": "code",
   "execution_count": 2,
   "metadata": {},
   "outputs": [],
   "source": [
    "def create_conv_flux_model():\n",
    "    model = Sequential()\n",
    "    model.add(InputLayer(batch_input_shape=(None,4639, 1)))\n",
    "    model.add(Conv1D(filters=64, kernel_size=2,activation= 'relu'))\n",
    "    model.add(Conv1D(filters=24, kernel_size=2,activation= 'relu'))\n",
    "    model.add(MaxPooling1D())\n",
    "    model.add(Flatten())\n",
    "    model.add(Dense(30,activation='relu'))\n",
    "    model.add(Dropout(.5))\n",
    "    model.add(Dense(20, activation='relu'))\n",
    "    model.add(Dropout(.5))\n",
    "    model.add(Dense(1, activation='sigmoid'))\n",
    "    model.compile(loss='binary_crossentropy', optimizer='adam', metrics=['accuracy'])\n",
    "    return model\n",
    "\n",
    "def create_conv_flux_model_exp():\n",
    "    model = Sequential()\n",
    "    model.add(InputLayer(batch_input_shape=(None, 1, 4639, 2)))\n",
    "    model.add(Conv2D(filters=64, kernel_size=(1,2), activation='relu', data_format='channels_last'))\n",
    "    #model.add(BatchNormalization())\n",
    "    #model.add(MaxPooling2D((1,2)))\n",
    "    model.add(Conv2D(filters=24, kernel_size=(1,2), activation='relu', data_format='channels_last'))\n",
    "    #model.add(BatchNormalization())\n",
    "    #model.add(MaxPooling2D((1,2)))\n",
    "    model.add(Flatten())\n",
    "    model.add(Dense(30,activation='relu'))\n",
    "    model.add(Dropout(.5))\n",
    "    model.add(Dense(20, activation='relu'))\n",
    "    model.add(Dropout(.5))\n",
    "    model.add(Dense(1, activation='sigmoid'))\n",
    "    model.compile(loss='binary_crossentropy', optimizer='adam', metrics=['accuracy'])\n",
    "    return model\n",
    "\n",
    "\n",
    "def create_complex():\n",
    "    model = Sequential()\n",
    "    model.add(InputLayer(batch_input_shape=(None, 4639, 1)))\n",
    "    \n",
    "    model.add(Conv1D(filters=64, kernel_size=10))\n",
    "    model.add(BatchNormalization())\n",
    "    model.add(Activation('relu'))\n",
    "    \n",
    "    model.add(Conv1D(filters=32, kernel_size=10))\n",
    "    model.add(BatchNormalization())\n",
    "    model.add(Activation('relu'))\n",
    "    \n",
    "    model.add(MaxPooling1D())\n",
    "    \n",
    "    model.add(Conv1D(filters=12, kernel_size=2))\n",
    "    model.add(BatchNormalization())\n",
    "    model.add(Activation('relu'))\n",
    "    \n",
    "    model.add(Conv1D(filters=6, kernel_size=2))\n",
    "    model.add(BatchNormalization())\n",
    "    model.add(Activation('relu'))\n",
    "    \n",
    "    model.add(MaxPooling1D())\n",
    "    \n",
    "    model.add(Flatten())\n",
    "    \n",
    "    model.add(Dense(1024))\n",
    "    model.add(BatchNormalization())\n",
    "    model.add(Activation('relu'))\n",
    "    model.add(Dropout(.50))\n",
    "    \n",
    "    \n",
    "    model.add(Dense(1024))\n",
    "    model.add(BatchNormalization())\n",
    "    model.add(Activation('relu'))\n",
    "    model.add(Dropout(.50))\n",
    "    \n",
    "    model.add(Dense(1, activation='sigmoid'))\n",
    "    model.compile(loss='binary_crossentropy', optimizer=Adam(lr=0.0001), metrics=['accuracy'])\n",
    "    return model"
   ]
  },
  {
   "cell_type": "markdown",
   "metadata": {},
   "source": [
    "---\n",
    "## Full Dataset Model"
   ]
  },
  {
   "cell_type": "code",
   "execution_count": 3,
   "metadata": {},
   "outputs": [],
   "source": [
    "eboss = h5py.File('../../Data/eboss_flux_full+.hdf5')\n",
    "X, Y = np.array(eboss['flux_values']), np.array(eboss['flux_labels'])\n",
    "res_flux = np.array(eboss['res_flux_values'])\n",
    "ivar = np.array(eboss['ivar_flux_values'])\n",
    "\n",
    "res_flux = np.expand_dims(res_flux, -1)\n",
    "ivar = np.expand_dims(ivar, -1)\n",
    "X = np.expand_dims(X, -1)\n",
    "eboss.close()"
   ]
  },
  {
   "cell_type": "code",
   "execution_count": 4,
   "metadata": {},
   "outputs": [],
   "source": [
    "X_train, X_test, y_train, y_test = train_test_split(res_flux, Y)"
   ]
  },
  {
   "cell_type": "code",
   "execution_count": 55,
   "metadata": {},
   "outputs": [
    {
     "data": {
      "text/plain": [
       "((281, 4639, 1), (281, 4639, 1), (281, 4639, 1), (281, 1))"
      ]
     },
     "execution_count": 55,
     "metadata": {},
     "output_type": "execute_result"
    }
   ],
   "source": [
    "res_flux.shape, ivar.shape, X.shape, Y.shape"
   ]
  },
  {
   "cell_type": "markdown",
   "metadata": {},
   "source": [
    "# Initial Testing"
   ]
  },
  {
   "cell_type": "code",
   "execution_count": 117,
   "metadata": {},
   "outputs": [
    {
     "name": "stdout",
     "output_type": "stream",
     "text": [
      "Train on 210 samples, validate on 71 samples\n",
      "Epoch 1/10\n",
      "210/210 [==============================] - 23s 110ms/step - loss: 0.9106 - acc: 0.6810 - val_loss: 0.3382 - val_acc: 0.9014\n",
      "Epoch 2/10\n",
      "210/210 [==============================] - 0s 2ms/step - loss: 0.4109 - acc: 0.7333 - val_loss: 0.2612 - val_acc: 0.9577\n",
      "Epoch 3/10\n",
      "210/210 [==============================] - 0s 2ms/step - loss: 0.2718 - acc: 0.8619 - val_loss: 0.2187 - val_acc: 0.9577\n",
      "Epoch 4/10\n",
      "210/210 [==============================] - 0s 2ms/step - loss: 0.2830 - acc: 0.8095 - val_loss: 0.2160 - val_acc: 0.9577\n",
      "Epoch 5/10\n",
      "210/210 [==============================] - 0s 2ms/step - loss: 0.2424 - acc: 0.8667 - val_loss: 0.1807 - val_acc: 0.9577\n",
      "Epoch 6/10\n",
      "210/210 [==============================] - 0s 2ms/step - loss: 0.2072 - acc: 0.8619 - val_loss: 0.1630 - val_acc: 0.9437\n",
      "Epoch 7/10\n",
      "210/210 [==============================] - 0s 2ms/step - loss: 0.2256 - acc: 0.8619 - val_loss: 0.1404 - val_acc: 0.9859\n",
      "Epoch 8/10\n",
      "210/210 [==============================] - 0s 2ms/step - loss: 0.1903 - acc: 0.8857 - val_loss: 0.1095 - val_acc: 1.0000\n",
      "Epoch 9/10\n",
      "210/210 [==============================] - 0s 2ms/step - loss: 0.1770 - acc: 0.9381 - val_loss: 0.1148 - val_acc: 0.9718\n",
      "Epoch 10/10\n",
      "210/210 [==============================] - 0s 2ms/step - loss: 0.1377 - acc: 0.9524 - val_loss: 0.1013 - val_acc: 0.9859\n"
     ]
    },
    {
     "data": {
      "text/plain": [
       "<keras.callbacks.History at 0x2b7195c445f8>"
      ]
     },
     "execution_count": 117,
     "metadata": {},
     "output_type": "execute_result"
    }
   ],
   "source": [
    "mod = create_conv_flux_model()\n",
    "mod.fit(X_train, y_train, epochs=10, batch_size=8, validation_data=(X_test, y_test))"
   ]
  },
  {
   "cell_type": "markdown",
   "metadata": {},
   "source": [
    "### Running 50 folds on the complex version of the nn model."
   ]
  },
  {
   "cell_type": "code",
   "execution_count": 61,
   "metadata": {},
   "outputs": [
    {
     "name": "stdout",
     "output_type": "stream",
     "text": [
      "Fitting 50 folds for each of 1 candidates, totalling 50 fits\n",
      "[CV]  ................................................................\n",
      "[CV]  , precision (no)=1.0, precision (yes)=0.9767441860465116, recall (no)=0.9333333333333333, recall (yes)=1.0, accuracy=0.9824561403508771, roc_auc=0.9666666666666667, f1=0.988235294117647, total=  15.1s\n",
      "[CV]  ................................................................\n"
     ]
    },
    {
     "name": "stderr",
     "output_type": "stream",
     "text": [
      "[Parallel(n_jobs=1)]: Done   1 out of   1 | elapsed:   15.1s remaining:    0.0s\n"
     ]
    },
    {
     "name": "stdout",
     "output_type": "stream",
     "text": [
      "[CV]  , precision (no)=0.9333333333333333, precision (yes)=1.0, recall (no)=1.0, recall (yes)=0.9767441860465116, accuracy=0.9824561403508771, roc_auc=0.9883720930232558, f1=0.988235294117647, total=  14.3s\n",
      "[CV]  ................................................................\n"
     ]
    },
    {
     "name": "stderr",
     "output_type": "stream",
     "text": [
      "[Parallel(n_jobs=1)]: Done   2 out of   2 | elapsed:   29.4s remaining:    0.0s\n"
     ]
    },
    {
     "name": "stdout",
     "output_type": "stream",
     "text": [
      "[CV]  , precision (no)=1.0, precision (yes)=1.0, recall (no)=1.0, recall (yes)=1.0, accuracy=1.0, roc_auc=1.0, f1=1.0, total=  14.7s\n",
      "[CV]  ................................................................\n",
      "[CV]  , precision (no)=1.0, precision (yes)=0.9761904761904762, recall (no)=0.9375, recall (yes)=1.0, accuracy=0.9824561403508771, roc_auc=0.96875, f1=0.9879518072289156, total=  15.0s\n",
      "[CV]  ................................................................\n",
      "[CV]  , precision (no)=0.9444444444444444, precision (yes)=1.0, recall (no)=1.0, recall (yes)=0.975, accuracy=0.9824561403508771, roc_auc=0.9875, f1=0.9873417721518987, total=  16.1s\n",
      "[CV]  ................................................................\n",
      "[CV]  , precision (no)=0.9523809523809523, precision (yes)=1.0, recall (no)=1.0, recall (yes)=0.972972972972973, accuracy=0.9824561403508771, roc_auc=0.9864864864864865, f1=0.9863013698630138, total=  16.8s\n",
      "[CV]  ................................................................\n",
      "[CV]  , precision (no)=1.0, precision (yes)=1.0, recall (no)=1.0, recall (yes)=1.0, accuracy=1.0, roc_auc=1.0, f1=1.0, total=  16.2s\n",
      "[CV]  ................................................................\n",
      "[CV]  , precision (no)=0.8823529411764706, precision (yes)=1.0, recall (no)=1.0, recall (yes)=0.9523809523809523, accuracy=0.9649122807017544, roc_auc=0.9761904761904762, f1=0.975609756097561, total=  16.7s\n",
      "[CV]  ................................................................\n",
      "[CV]  , precision (no)=1.0, precision (yes)=0.975, recall (no)=0.9444444444444444, recall (yes)=1.0, accuracy=0.9824561403508771, roc_auc=0.9722222222222222, f1=0.9873417721518987, total=  17.0s\n",
      "[CV]  ................................................................\n",
      "[CV]  , precision (no)=0.9230769230769231, precision (yes)=1.0, recall (no)=1.0, recall (yes)=0.9777777777777777, accuracy=0.9824561403508771, roc_auc=0.9888888888888889, f1=0.9887640449438202, total=  17.4s\n",
      "[CV]  ................................................................\n",
      "[CV]  , precision (no)=1.0, precision (yes)=1.0, recall (no)=1.0, recall (yes)=1.0, accuracy=1.0, roc_auc=1.0, f1=1.0, total=  19.0s\n",
      "[CV]  ................................................................\n",
      "[CV]  , precision (no)=1.0, precision (yes)=0.9534883720930233, recall (no)=0.875, recall (yes)=1.0, accuracy=0.9649122807017544, roc_auc=0.9375, f1=0.9761904761904763, total=  18.2s\n",
      "[CV]  ................................................................\n",
      "[CV]  , precision (no)=1.0, precision (yes)=0.9736842105263158, recall (no)=0.95, recall (yes)=1.0, accuracy=0.9824561403508771, roc_auc=0.975, f1=0.9866666666666666, total=  18.7s\n",
      "[CV]  ................................................................\n",
      "[CV]  , precision (no)=1.0, precision (yes)=1.0, recall (no)=1.0, recall (yes)=1.0, accuracy=1.0, roc_auc=1.0, f1=1.0, total=  19.5s\n",
      "[CV]  ................................................................\n",
      "[CV]  , precision (no)=1.0, precision (yes)=1.0, recall (no)=1.0, recall (yes)=1.0, accuracy=1.0, roc_auc=1.0, f1=1.0, total=  19.4s\n",
      "[CV]  ................................................................\n",
      "[CV]  , precision (no)=1.0, precision (yes)=0.9787234042553191, recall (no)=0.9090909090909091, recall (yes)=1.0, accuracy=0.9824561403508771, roc_auc=0.9545454545454545, f1=0.989247311827957, total=  19.8s\n",
      "[CV]  ................................................................\n",
      "[CV]  , precision (no)=1.0, precision (yes)=1.0, recall (no)=1.0, recall (yes)=1.0, accuracy=1.0, roc_auc=1.0, f1=1.0, total=  21.9s\n",
      "[CV]  ................................................................\n",
      "[CV]  , precision (no)=1.0, precision (yes)=1.0, recall (no)=1.0, recall (yes)=1.0, accuracy=1.0, roc_auc=1.0, f1=1.0, total=  20.8s\n",
      "[CV]  ................................................................\n",
      "[CV]  , precision (no)=0.9375, precision (yes)=0.975609756097561, recall (no)=0.9375, recall (yes)=0.975609756097561, accuracy=0.9649122807017544, roc_auc=0.9565548780487805, f1=0.975609756097561, total=  21.2s\n",
      "[CV]  ................................................................\n",
      "[CV]  , precision (no)=1.0, precision (yes)=1.0, recall (no)=1.0, recall (yes)=1.0, accuracy=1.0, roc_auc=1.0, f1=1.0, total=  21.6s\n",
      "[CV]  ................................................................\n",
      "[CV]  , precision (no)=0.9090909090909091, precision (yes)=1.0, recall (no)=1.0, recall (yes)=0.9787234042553191, accuracy=0.9824561403508771, roc_auc=0.9893617021276595, f1=0.989247311827957, total=  22.0s\n",
      "[CV]  ................................................................\n",
      "[CV]  , precision (no)=1.0, precision (yes)=0.9574468085106383, recall (no)=0.8333333333333334, recall (yes)=1.0, accuracy=0.9649122807017544, roc_auc=0.9166666666666667, f1=0.9782608695652174, total=  22.4s\n",
      "[CV]  ................................................................\n",
      "[CV]  , precision (no)=0.8666666666666667, precision (yes)=1.0, recall (no)=1.0, recall (yes)=0.9545454545454546, accuracy=0.9649122807017544, roc_auc=0.9772727272727273, f1=0.9767441860465117, total=  22.9s\n",
      "[CV]  ................................................................\n",
      "[CV]  , precision (no)=0.9230769230769231, precision (yes)=0.9772727272727273, recall (no)=0.9230769230769231, recall (yes)=0.9772727272727273, accuracy=0.9649122807017544, roc_auc=0.9501748251748252, f1=0.9772727272727273, total=  25.2s\n",
      "[CV]  ................................................................\n",
      "[CV]  , precision (no)=1.0, precision (yes)=0.9722222222222222, recall (no)=0.9545454545454546, recall (yes)=1.0, accuracy=0.9824561403508771, roc_auc=0.9772727272727273, f1=0.9859154929577464, total=  24.4s\n",
      "[CV]  ................................................................\n",
      "[CV]  , precision (no)=1.0, precision (yes)=0.975609756097561, recall (no)=0.9411764705882353, recall (yes)=1.0, accuracy=0.9824561403508771, roc_auc=0.9705882352941176, f1=0.9876543209876543, total=  24.8s\n",
      "[CV]  ................................................................\n",
      "[CV]  , precision (no)=1.0, precision (yes)=1.0, recall (no)=1.0, recall (yes)=1.0, accuracy=1.0, roc_auc=1.0, f1=1.0, total=  24.7s\n",
      "[CV]  ................................................................\n",
      "[CV]  , precision (no)=0.95, precision (yes)=1.0, recall (no)=1.0, recall (yes)=0.9736842105263158, accuracy=0.9824561403508771, roc_auc=0.986842105263158, f1=0.9866666666666666, total=  25.1s\n",
      "[CV]  ................................................................\n",
      "[CV]  , precision (no)=1.0, precision (yes)=1.0, recall (no)=1.0, recall (yes)=1.0, accuracy=1.0, roc_auc=1.0, f1=1.0, total=  25.8s\n",
      "[CV]  ................................................................\n",
      "[CV]  , precision (no)=0.8461538461538461, precision (yes)=0.9772727272727273, recall (no)=0.9166666666666666, recall (yes)=0.9555555555555556, accuracy=0.9473684210526315, roc_auc=0.9361111111111112, f1=0.9662921348314608, total=  26.0s\n",
      "[CV]  ................................................................\n",
      "[CV]  , precision (no)=1.0, precision (yes)=0.975609756097561, recall (no)=0.9411764705882353, recall (yes)=1.0, accuracy=0.9824561403508771, roc_auc=0.9705882352941176, f1=0.9876543209876543, total=  26.9s\n",
      "[CV]  ................................................................\n",
      "[CV]  , precision (no)=0.9090909090909091, precision (yes)=1.0, recall (no)=1.0, recall (yes)=0.9787234042553191, accuracy=0.9824561403508771, roc_auc=0.9893617021276595, f1=0.989247311827957, total=  26.8s\n",
      "[CV]  ................................................................\n",
      "[CV]  , precision (no)=0.8333333333333334, precision (yes)=0.9333333333333333, recall (no)=0.7692307692307693, recall (yes)=0.9545454545454546, accuracy=0.9122807017543859, roc_auc=0.8618881118881119, f1=0.9438202247191012, total=  29.5s\n",
      "[CV]  ................................................................\n",
      "[CV]  , precision (no)=0.9411764705882353, precision (yes)=1.0, recall (no)=1.0, recall (yes)=0.975609756097561, accuracy=0.9824561403508771, roc_auc=0.9878048780487805, f1=0.9876543209876543, total=  28.2s\n",
      "[CV]  ................................................................\n",
      "[CV]  , precision (no)=1.0, precision (yes)=0.9375, recall (no)=0.75, recall (yes)=1.0, accuracy=0.9473684210526315, roc_auc=0.875, f1=0.967741935483871, total=  28.4s\n",
      "[CV]  ................................................................\n",
      "[CV]  , precision (no)=1.0, precision (yes)=0.9555555555555556, recall (no)=0.8571428571428571, recall (yes)=1.0, accuracy=0.9649122807017544, roc_auc=0.9285714285714286, f1=0.9772727272727273, total=  28.9s\n",
      "[CV]  ................................................................\n",
      "[CV]  , precision (no)=1.0, precision (yes)=1.0, recall (no)=1.0, recall (yes)=1.0, accuracy=1.0, roc_auc=1.0, f1=1.0, total=  29.2s\n",
      "[CV]  ................................................................\n",
      "[CV]  , precision (no)=0.9375, precision (yes)=0.975609756097561, recall (no)=0.9375, recall (yes)=0.975609756097561, accuracy=0.9649122807017544, roc_auc=0.9565548780487805, f1=0.975609756097561, total=  29.8s\n",
      "[CV]  ................................................................\n",
      "[CV]  , precision (no)=1.0, precision (yes)=0.9772727272727273, recall (no)=0.9285714285714286, recall (yes)=1.0, accuracy=0.9824561403508771, roc_auc=0.9642857142857143, f1=0.9885057471264368, total=  30.3s\n",
      "[CV]  ................................................................\n",
      "[CV]  , precision (no)=1.0, precision (yes)=0.9565217391304348, recall (no)=0.8461538461538461, recall (yes)=1.0, accuracy=0.9649122807017544, roc_auc=0.9230769230769231, f1=0.9777777777777777, total=  30.9s\n",
      "[CV]  ................................................................\n",
      "[CV]  , precision (no)=1.0, precision (yes)=0.9555555555555556, recall (no)=0.8571428571428571, recall (yes)=1.0, accuracy=0.9649122807017544, roc_auc=0.9285714285714286, f1=0.9772727272727273, total=  31.2s\n",
      "[CV]  ................................................................\n",
      "[CV]  , precision (no)=1.0, precision (yes)=1.0, recall (no)=1.0, recall (yes)=1.0, accuracy=1.0, roc_auc=1.0, f1=1.0, total=  31.6s\n",
      "[CV]  ................................................................\n",
      "[CV]  , precision (no)=1.0, precision (yes)=0.9130434782608695, recall (no)=0.7333333333333333, recall (yes)=1.0, accuracy=0.9298245614035088, roc_auc=0.8666666666666667, f1=0.9545454545454545, total=  32.4s\n",
      "[CV]  ................................................................\n",
      "[CV]  , precision (no)=1.0, precision (yes)=0.9534883720930233, recall (no)=0.875, recall (yes)=1.0, accuracy=0.9649122807017544, roc_auc=0.9375, f1=0.9761904761904763, total=  35.3s\n",
      "[CV]  ................................................................\n",
      "[CV]  , precision (no)=0.9411764705882353, precision (yes)=1.0, recall (no)=1.0, recall (yes)=0.975609756097561, accuracy=0.9824561403508771, roc_auc=0.9878048780487805, f1=0.9876543209876543, total=  33.4s\n",
      "[CV]  ................................................................\n",
      "[CV]  , precision (no)=0.8823529411764706, precision (yes)=1.0, recall (no)=1.0, recall (yes)=0.9523809523809523, accuracy=0.9649122807017544, roc_auc=0.9761904761904762, f1=0.975609756097561, total=  34.0s\n",
      "[CV]  ................................................................\n",
      "[CV]  , precision (no)=0.9411764705882353, precision (yes)=0.95, recall (no)=0.8888888888888888, recall (yes)=0.9743589743589743, accuracy=0.9473684210526315, roc_auc=0.9316239316239316, f1=0.9620253164556962, total=  34.2s\n",
      "[CV]  ................................................................\n",
      "[CV]  , precision (no)=0.9230769230769231, precision (yes)=1.0, recall (no)=1.0, recall (yes)=0.9777777777777777, accuracy=0.9824561403508771, roc_auc=0.9888888888888889, f1=0.9887640449438202, total=  34.9s\n",
      "[CV]  ................................................................\n",
      "[CV]  , precision (no)=1.0, precision (yes)=0.9565217391304348, recall (no)=0.8461538461538461, recall (yes)=1.0, accuracy=0.9649122807017544, roc_auc=0.9230769230769231, f1=0.9777777777777777, total=  35.1s\n",
      "[CV]  ................................................................\n",
      "[CV]  , precision (no)=1.0, precision (yes)=0.9791666666666666, recall (no)=0.9, recall (yes)=1.0, accuracy=0.9824561403508771, roc_auc=0.9500000000000001, f1=0.9894736842105264, total=  36.1s\n"
     ]
    },
    {
     "name": "stderr",
     "output_type": "stream",
     "text": [
      "[Parallel(n_jobs=1)]: Done  50 out of  50 | elapsed: 20.5min finished\n"
     ]
    },
    {
     "data": {
      "text/html": [
       "<div>\n",
       "<style scoped>\n",
       "    .dataframe tbody tr th:only-of-type {\n",
       "        vertical-align: middle;\n",
       "    }\n",
       "\n",
       "    .dataframe tbody tr th {\n",
       "        vertical-align: top;\n",
       "    }\n",
       "\n",
       "    .dataframe thead th {\n",
       "        text-align: right;\n",
       "    }\n",
       "</style>\n",
       "<table border=\"1\" class=\"dataframe\">\n",
       "  <thead>\n",
       "    <tr style=\"text-align: right;\">\n",
       "      <th></th>\n",
       "      <th>mean_test_precision (no)</th>\n",
       "      <th>mean_test_precision (yes)</th>\n",
       "      <th>mean_test_recall (no)</th>\n",
       "      <th>mean_test_recall (yes)</th>\n",
       "      <th>mean_test_accuracy</th>\n",
       "      <th>mean_test_roc_auc</th>\n",
       "      <th>mean_test_f1</th>\n",
       "    </tr>\n",
       "    <tr>\n",
       "      <th>Parameters</th>\n",
       "      <th></th>\n",
       "      <th></th>\n",
       "      <th></th>\n",
       "      <th></th>\n",
       "      <th></th>\n",
       "      <th></th>\n",
       "      <th></th>\n",
       "    </tr>\n",
       "  </thead>\n",
       "  <tbody>\n",
       "    <tr>\n",
       "      <th>{}</th>\n",
       "      <td>0.967539</td>\n",
       "      <td>0.981769</td>\n",
       "      <td>0.943719</td>\n",
       "      <td>0.988698</td>\n",
       "      <td>0.977544</td>\n",
       "      <td>0.966208</td>\n",
       "      <td>0.985003</td>\n",
       "    </tr>\n",
       "  </tbody>\n",
       "</table>\n",
       "</div>"
      ],
      "text/plain": [
       "            mean_test_precision (no)  mean_test_precision (yes)  \\\n",
       "Parameters                                                        \n",
       "{}                          0.967539                   0.981769   \n",
       "\n",
       "            mean_test_recall (no)  mean_test_recall (yes)  mean_test_accuracy  \\\n",
       "Parameters                                                                      \n",
       "{}                       0.943719                0.988698            0.977544   \n",
       "\n",
       "            mean_test_roc_auc  mean_test_f1  \n",
       "Parameters                                   \n",
       "{}                   0.966208      0.985003  "
      ]
     },
     "execution_count": 61,
     "metadata": {},
     "output_type": "execute_result"
    }
   ],
   "source": [
    "Keras_eboss_NN_Model = KerasClassifier(create_complex, epochs=10, batch_size=8, verbose=0)\n",
    "cvm_nn_flux_v2 = CrossValidationModeler(res_flux, Y, Keras_eboss_NN_Model)\n",
    "cvm_nn_flux_v2.run_cross_val({}, n_splits=50)"
   ]
  },
  {
   "cell_type": "markdown",
   "metadata": {},
   "source": [
    "# Generating cross val figure"
   ]
  },
  {
   "cell_type": "code",
   "execution_count": 62,
   "metadata": {},
   "outputs": [],
   "source": [
    "pd.DataFrame(cvm_nn_flux_v2.last_results).to_csv(\"complex_model_results.csv\")"
   ]
  },
  {
   "cell_type": "code",
   "execution_count": 65,
   "metadata": {},
   "outputs": [],
   "source": [
    "v2_results = pd.read_csv('complex_model_results.csv').to_dict()"
   ]
  },
  {
   "cell_type": "code",
   "execution_count": 66,
   "metadata": {},
   "outputs": [],
   "source": [
    "v2_accuracy_list = list(map(lambda x: x[1][0], filter(lambda x: 'accuracy' in x[0] and 'split' in x[0] , v2_results.items())))"
   ]
  },
  {
   "cell_type": "code",
   "execution_count": 74,
   "metadata": {},
   "outputs": [
    {
     "data": {
      "image/png": "[encoded data removed]",
      "text/plain": [
       "<Figure size 720x720 with 1 Axes>"
      ]
     },
     "metadata": {},
     "output_type": "display_data"
    }
   ],
   "source": [
    "plt.figure(figsize=(10,10))\n",
    "plt.title(f'eBoss Full Dataset Complex Model \\n 50 Fold Cross Validation.\\n 80/20 Train Test Split.\\n Accuracy Scores Mean: {np.mean(v2_accuracy_list):0.4f} +/- {np.std(v2_accuracy_list):0.4f} (std)')\n",
    "hist_values = plt.hist(v2_accuracy_list, bins=6)\n",
    "plt.xlabel('Accuracy')\n",
    "plt.ylabel('Frequency')\n",
    "plt.yticks(range(0,20))\n",
    "plt.savefig('eBossFull50CrossValComplexModel.png')\n",
    "plt.show()"
   ]
  },
  {
   "cell_type": "markdown",
   "metadata": {},
   "source": [
    "### Running 50 folds on the simplier version of the nn model."
   ]
  },
  {
   "cell_type": "code",
   "execution_count": 4,
   "metadata": {},
   "outputs": [],
   "source": [
    "Keras_eboss_NN_Model = KerasClassifier(create_conv_flux_model, epochs=25, batch_size=8, verbose=0)\n",
    "cvm_nn_flux = CrossValidationModeler(res_flux, Y, Keras_eboss_NN_Model)"
   ]
  },
  {
   "cell_type": "code",
   "execution_count": null,
   "metadata": {},
   "outputs": [
    {
     "name": "stdout",
     "output_type": "stream",
     "text": [
      "Fitting 50 folds for each of 1 candidates, totalling 50 fits\n",
      "[CV]  ................................................................\n",
      "[CV]  , precision (no)=0.8095238095238095, precision (yes)=1.0, recall (no)=1.0, recall (yes)=0.9, accuracy=0.9298245614035088, roc_auc=0.95, f1=0.9473684210526316, total=   6.7s\n",
      "[CV]  ................................................................\n"
     ]
    },
    {
     "name": "stderr",
     "output_type": "stream",
     "text": [
      "[Parallel(n_jobs=1)]: Done   1 out of   1 | elapsed:    6.7s remaining:    0.0s\n"
     ]
    },
    {
     "name": "stdout",
     "output_type": "stream",
     "text": [
      "[CV]  , precision (no)=0.8, precision (yes)=1.0, recall (no)=1.0, recall (yes)=0.9333333333333333, accuracy=0.9473684210526315, roc_auc=0.9666666666666667, f1=0.9655172413793104, total=   4.7s\n",
      "[CV]  ................................................................\n"
     ]
    },
    {
     "name": "stderr",
     "output_type": "stream",
     "text": [
      "[Parallel(n_jobs=1)]: Done   2 out of   2 | elapsed:   11.4s remaining:    0.0s\n"
     ]
    },
    {
     "name": "stdout",
     "output_type": "stream",
     "text": [
      "[CV]  , precision (no)=1.0, precision (yes)=0.9523809523809523, recall (no)=0.8823529411764706, recall (yes)=1.0, accuracy=0.9649122807017544, roc_auc=0.9411764705882353, f1=0.975609756097561, total=   4.9s\n",
      "[CV]  ................................................................\n",
      "[CV]  , precision (no)=1.0, precision (yes)=0.9777777777777777, recall (no)=0.9230769230769231, recall (yes)=1.0, accuracy=0.9824561403508771, roc_auc=0.9615384615384616, f1=0.9887640449438202, total=   4.8s\n",
      "[CV]  ................................................................\n",
      "[CV]  , precision (no)=1.0, precision (yes)=0.95, recall (no)=0.8947368421052632, recall (yes)=1.0, accuracy=0.9649122807017544, roc_auc=0.9473684210526316, f1=0.9743589743589743, total=   5.0s\n",
      "[CV]  ................................................................\n",
      "[CV]  , precision (no)=1.0, precision (yes)=1.0, recall (no)=1.0, recall (yes)=1.0, accuracy=1.0, roc_auc=1.0, f1=1.0, total=   5.1s\n",
      "[CV]  ................................................................\n",
      "[CV]  , precision (no)=1.0, precision (yes)=1.0, recall (no)=1.0, recall (yes)=1.0, accuracy=1.0, roc_auc=1.0, f1=1.0, total=   5.0s\n",
      "[CV]  ................................................................\n",
      "[CV]  , precision (no)=1.0, precision (yes)=0.9743589743589743, recall (no)=0.9473684210526315, recall (yes)=1.0, accuracy=0.9824561403508771, roc_auc=0.9736842105263158, f1=0.9870129870129869, total=   5.2s\n",
      "[CV]  ................................................................\n",
      "[CV]  , precision (no)=0.8571428571428571, precision (yes)=0.9534883720930233, recall (no)=0.8571428571428571, recall (yes)=0.9534883720930233, accuracy=0.9298245614035088, roc_auc=0.9053156146179402, f1=0.9534883720930233, total=   5.2s\n",
      "[CV]  ................................................................\n",
      "[CV]  , precision (no)=1.0, precision (yes)=1.0, recall (no)=1.0, recall (yes)=1.0, accuracy=1.0, roc_auc=1.0, f1=1.0, total=   5.5s\n",
      "[CV]  ................................................................\n",
      "[CV]  , precision (no)=0.9333333333333333, precision (yes)=1.0, recall (no)=1.0, recall (yes)=0.9767441860465116, accuracy=0.9824561403508771, roc_auc=0.9883720930232558, f1=0.988235294117647, total=   5.8s\n",
      "[CV]  ................................................................\n",
      "[CV]  , precision (no)=0.8823529411764706, precision (yes)=0.975, recall (no)=0.9375, recall (yes)=0.9512195121951219, accuracy=0.9473684210526315, roc_auc=0.944359756097561, f1=0.9629629629629629, total=   5.9s\n",
      "[CV]  ................................................................\n",
      "[CV]  , precision (no)=0.9230769230769231, precision (yes)=0.9772727272727273, recall (no)=0.9230769230769231, recall (yes)=0.9772727272727273, accuracy=0.9649122807017544, roc_auc=0.9501748251748252, f1=0.9772727272727273, total=   5.4s\n",
      "[CV]  ................................................................\n",
      "[CV]  , precision (no)=0.9230769230769231, precision (yes)=0.9772727272727273, recall (no)=0.9230769230769231, recall (yes)=0.9772727272727273, accuracy=0.9649122807017544, roc_auc=0.9501748251748252, f1=0.9772727272727273, total=   5.7s\n",
      "[CV]  ................................................................\n",
      "[CV]  , precision (no)=0.9230769230769231, precision (yes)=0.9772727272727273, recall (no)=0.9230769230769231, recall (yes)=0.9772727272727273, accuracy=0.9649122807017544, roc_auc=0.9501748251748252, f1=0.9772727272727273, total=   5.5s\n",
      "[CV]  ................................................................\n",
      "[CV]  , precision (no)=1.0, precision (yes)=1.0, recall (no)=1.0, recall (yes)=1.0, accuracy=1.0, roc_auc=1.0, f1=1.0, total=   5.6s\n",
      "[CV]  ................................................................\n",
      "[CV]  , precision (no)=1.0, precision (yes)=0.9565217391304348, recall (no)=0.8461538461538461, recall (yes)=1.0, accuracy=0.9649122807017544, roc_auc=0.9230769230769231, f1=0.9777777777777777, total=   5.7s\n",
      "[CV]  ................................................................\n",
      "[CV]  , precision (no)=0.9473684210526315, precision (yes)=1.0, recall (no)=1.0, recall (yes)=0.9743589743589743, accuracy=0.9824561403508771, roc_auc=0.9871794871794872, f1=0.9870129870129869, total=   6.1s\n",
      "[CV]  ................................................................\n",
      "[CV]  , precision (no)=1.0, precision (yes)=1.0, recall (no)=1.0, recall (yes)=1.0, accuracy=1.0, roc_auc=1.0, f1=1.0, total=   5.9s\n",
      "[CV]  ................................................................\n",
      "[CV]  , precision (no)=1.0, precision (yes)=1.0, recall (no)=1.0, recall (yes)=1.0, accuracy=1.0, roc_auc=1.0, f1=1.0, total=   6.0s\n",
      "[CV]  ................................................................\n",
      "[CV]  , precision (no)=0.9, precision (yes)=1.0, recall (no)=1.0, recall (yes)=0.9487179487179487, accuracy=0.9649122807017544, roc_auc=0.9743589743589743, f1=0.9736842105263158, total=   6.1s\n",
      "[CV]  ................................................................\n",
      "[CV]  , precision (no)=0.9166666666666666, precision (yes)=0.9777777777777777, recall (no)=0.9166666666666666, recall (yes)=0.9777777777777777, accuracy=0.9649122807017544, roc_auc=0.9472222222222222, f1=0.9777777777777777, total=   6.5s\n",
      "[CV]  ................................................................\n",
      "[CV]  , precision (no)=0.8095238095238095, precision (yes)=1.0, recall (no)=1.0, recall (yes)=0.9, accuracy=0.9298245614035088, roc_auc=0.95, f1=0.9473684210526316, total=   6.3s\n",
      "[CV]  ................................................................\n",
      "[CV]  , precision (no)=1.0, precision (yes)=1.0, recall (no)=1.0, recall (yes)=1.0, accuracy=1.0, roc_auc=1.0, f1=1.0, total=   6.4s\n",
      "[CV]  ................................................................\n",
      "[CV]  , precision (no)=0.9090909090909091, precision (yes)=1.0, recall (no)=1.0, recall (yes)=0.9787234042553191, accuracy=0.9824561403508771, roc_auc=0.9893617021276595, f1=0.989247311827957, total=   6.5s\n",
      "[CV]  ................................................................\n",
      "[CV]  , precision (no)=1.0, precision (yes)=1.0, recall (no)=1.0, recall (yes)=1.0, accuracy=1.0, roc_auc=1.0, f1=1.0, total=   6.6s\n",
      "[CV]  ................................................................\n",
      "[CV]  , precision (no)=1.0, precision (yes)=0.975, recall (no)=0.9444444444444444, recall (yes)=1.0, accuracy=0.9824561403508771, roc_auc=0.9722222222222222, f1=0.9873417721518987, total=   6.8s\n",
      "[CV]  ................................................................\n",
      "[CV]  , precision (no)=0.8181818181818182, precision (yes)=1.0, recall (no)=1.0, recall (yes)=0.9583333333333334, accuracy=0.9649122807017544, roc_auc=0.9791666666666667, f1=0.9787234042553191, total=   7.2s\n",
      "[CV]  ................................................................\n",
      "[CV]  , precision (no)=0.8181818181818182, precision (yes)=0.8913043478260869, recall (no)=0.6428571428571429, recall (yes)=0.9534883720930233, accuracy=0.8771929824561403, roc_auc=0.798172757475083, f1=0.9213483146067417, total=   7.0s\n",
      "[CV]  ................................................................\n",
      "[CV]  , precision (no)=1.0, precision (yes)=0.975609756097561, recall (no)=0.9411764705882353, recall (yes)=1.0, accuracy=0.9824561403508771, roc_auc=0.9705882352941176, f1=0.9876543209876543, total=   7.0s\n",
      "[CV]  ................................................................\n",
      "[CV]  , precision (no)=0.6666666666666666, precision (yes)=1.0, recall (no)=1.0, recall (yes)=0.8666666666666667, accuracy=0.8947368421052632, roc_auc=0.9333333333333333, f1=0.9285714285714286, total=   7.2s\n",
      "[CV]  ................................................................\n",
      "[CV]  , precision (no)=0.6666666666666666, precision (yes)=1.0, recall (no)=1.0, recall (yes)=0.8666666666666667, accuracy=0.8947368421052632, roc_auc=0.9333333333333333, f1=0.9285714285714286, total=   7.2s\n",
      "[CV]  ................................................................\n",
      "[CV]  , precision (no)=0.9375, precision (yes)=1.0, recall (no)=1.0, recall (yes)=0.9761904761904762, accuracy=0.9824561403508771, roc_auc=0.9880952380952381, f1=0.9879518072289156, total=   7.4s\n",
      "[CV]  ................................................................\n",
      "[CV]  , precision (no)=1.0, precision (yes)=0.9705882352941176, recall (no)=0.9583333333333334, recall (yes)=1.0, accuracy=0.9824561403508771, roc_auc=0.9791666666666667, f1=0.9850746268656716, total=   7.9s\n",
      "[CV]  ................................................................\n",
      "[CV]  , precision (no)=1.0, precision (yes)=1.0, recall (no)=1.0, recall (yes)=1.0, accuracy=1.0, roc_auc=1.0, f1=1.0, total=   7.6s\n",
      "[CV]  ................................................................\n",
      "[CV]  , precision (no)=1.0, precision (yes)=0.9534883720930233, recall (no)=0.875, recall (yes)=1.0, accuracy=0.9649122807017544, roc_auc=0.9375, f1=0.9761904761904763, total=   7.6s\n",
      "[CV]  ................................................................\n",
      "[CV]  , precision (no)=0.9285714285714286, precision (yes)=1.0, recall (no)=1.0, recall (yes)=0.9772727272727273, accuracy=0.9824561403508771, roc_auc=0.9886363636363636, f1=0.9885057471264368, total=   7.8s\n",
      "[CV]  ................................................................\n",
      "[CV]  , precision (no)=0.85, precision (yes)=1.0, recall (no)=1.0, recall (yes)=0.925, accuracy=0.9473684210526315, roc_auc=0.9625, f1=0.961038961038961, total=   7.9s\n",
      "[CV]  ................................................................\n",
      "[CV]  , precision (no)=0.9375, precision (yes)=1.0, recall (no)=1.0, recall (yes)=0.9761904761904762, accuracy=0.9824561403508771, roc_auc=0.9880952380952381, f1=0.9879518072289156, total=   7.9s\n",
      "[CV]  ................................................................\n",
      "[CV]  , precision (no)=0.6, precision (yes)=1.0, recall (no)=1.0, recall (yes)=0.875, accuracy=0.8947368421052632, roc_auc=0.9375, f1=0.9333333333333333, total=   8.0s\n",
      "[CV]  ................................................................\n",
      "[CV]  , precision (no)=1.0, precision (yes)=0.9743589743589743, recall (no)=0.9473684210526315, recall (yes)=1.0, accuracy=0.9824561403508771, roc_auc=0.9736842105263158, f1=0.9870129870129869, total=   8.2s\n",
      "[CV]  ................................................................\n",
      "[CV]  , precision (no)=0.76, precision (yes)=1.0, recall (no)=1.0, recall (yes)=0.8421052631578947, accuracy=0.8947368421052632, roc_auc=0.9210526315789473, f1=0.9142857142857143, total=   8.8s\n",
      "[CV]  ................................................................\n",
      "[CV]  , precision (no)=1.0, precision (yes)=1.0, recall (no)=1.0, recall (yes)=1.0, accuracy=1.0, roc_auc=1.0, f1=1.0, total=   8.4s\n",
      "[CV]  ................................................................\n",
      "[CV]  , precision (no)=0.8, precision (yes)=1.0, recall (no)=1.0, recall (yes)=0.9333333333333333, accuracy=0.9473684210526315, roc_auc=0.9666666666666667, f1=0.9655172413793104, total=   8.5s\n",
      "[CV]  ................................................................\n",
      "[CV]  , precision (no)=0.9375, precision (yes)=1.0, recall (no)=1.0, recall (yes)=0.9761904761904762, accuracy=0.9824561403508771, roc_auc=0.9880952380952381, f1=0.9879518072289156, total=   8.6s\n",
      "[CV]  ................................................................\n",
      "[CV]  , precision (no)=0.9333333333333333, precision (yes)=1.0, recall (no)=1.0, recall (yes)=0.9767441860465116, accuracy=0.9824561403508771, roc_auc=0.9883720930232558, f1=0.988235294117647, total=   8.7s\n",
      "[CV]  ................................................................\n",
      "[CV]  , precision (no)=1.0, precision (yes)=0.9285714285714286, recall (no)=0.8333333333333334, recall (yes)=1.0, accuracy=0.9473684210526315, roc_auc=0.9166666666666667, f1=0.962962962962963, total=   8.8s\n",
      "[CV]  ................................................................\n",
      "[CV]  , precision (no)=1.0, precision (yes)=1.0, recall (no)=1.0, recall (yes)=1.0, accuracy=1.0, roc_auc=1.0, f1=1.0, total=   8.9s\n",
      "[CV]  ................................................................\n",
      "[CV]  , precision (no)=1.0, precision (yes)=0.9523809523809523, recall (no)=0.8823529411764706, recall (yes)=1.0, accuracy=0.9649122807017544, roc_auc=0.9411764705882353, f1=0.975609756097561, total=   9.0s\n",
      "[CV]  ................................................................\n",
      "[CV]  , precision (no)=1.0, precision (yes)=1.0, recall (no)=1.0, recall (yes)=1.0, accuracy=1.0, roc_auc=1.0, f1=1.0, total=   9.1s\n"
     ]
    },
    {
     "name": "stderr",
     "output_type": "stream",
     "text": [
      "[Parallel(n_jobs=1)]: Done  50 out of  50 | elapsed:  5.7min finished\n"
     ]
    }
   ],
   "source": [
    "cvm_nn_flux.run_cross_val({}, n_splits=50)"
   ]
  },
  {
   "cell_type": "markdown",
   "metadata": {},
   "source": [
    "# Generating Cross Val Figure"
   ]
  },
  {
   "cell_type": "code",
   "execution_count": 7,
   "metadata": {},
   "outputs": [],
   "source": [
    "pd.DataFrame(cvm_nn_flux.last_results).to_csv(\"simple_model_results_with_dropout.csv\")"
   ]
  },
  {
   "cell_type": "code",
   "execution_count": 5,
   "metadata": {},
   "outputs": [],
   "source": [
    "results = pd.read_csv('simple_model_results_with_dropout.csv').to_dict()"
   ]
  },
  {
   "cell_type": "code",
   "execution_count": 11,
   "metadata": {},
   "outputs": [
    {
     "data": {
      "text/plain": [
       "[('mean_fit_time', {0: 6.105077514648437}),\n",
       " ('mean_score_time', {0: 0.6888788795471191}),\n",
       " ('mean_test_precision (no)', {0: 0.9237667049668598}),\n",
       " ('mean_test_precision (yes)', {0: 0.9854085168391852}),\n",
       " ('mean_test_recall (no)', {0: 0.9599819070678204}),\n",
       " ('mean_test_recall (yes)', {0: 0.9705872733547556}),\n",
       " ('mean_test_accuracy', {0: 0.9670175438596492}),\n",
       " ('mean_test_roc_auc', {0: 0.965284590211288}),\n",
       " ('mean_test_f1', {0: 0.9772367582610966})]"
      ]
     },
     "execution_count": 11,
     "metadata": {},
     "output_type": "execute_result"
    }
   ],
   "source": [
    "list(filter(lambda x: 'mean' in x[0], results.items()))"
   ]
  },
  {
   "cell_type": "code",
   "execution_count": 6,
   "metadata": {},
   "outputs": [],
   "source": [
    "accuracy_list = list(map(lambda x: x[1][0], filter(lambda x: 'accuracy' in x[0] and 'split' in x[0] , results.items())))"
   ]
  },
  {
   "cell_type": "code",
   "execution_count": 8,
   "metadata": {},
   "outputs": [
    {
     "data": {
      "image/png": "[encoded data removed]",
      "text/plain": [
       "<Figure size 720x720 with 1 Axes>"
      ]
     },
     "metadata": {},
     "output_type": "display_data"
    }
   ],
   "source": [
    "plt.figure(figsize=(10,10))\n",
    "plt.title(f'eBoss Full Dataset Simple Model \\n 50 Fold Cross Validation.\\n 80/20 Train Test Split.\\n Accuracy Scores Mean: {np.mean(accuracy_list):0.4f} +/- {np.std(accuracy_list):0.4f} (std)')\n",
    "hist_values = plt.hist(accuracy_list, bins=6)\n",
    "plt.xlabel('Accuracy')\n",
    "plt.ylabel('Frequency')\n",
    "plt.savefig('eBossFull50CrossValSimpleModelwDropout.png')"
   ]
  },
  {
   "cell_type": "code",
   "execution_count": 72,
   "metadata": {},
   "outputs": [
    {
     "data": {
      "image/png": "[encoded data removed]",
      "text/plain": [
       "<Figure size 720x720 with 1 Axes>"
      ]
     },
     "metadata": {},
     "output_type": "display_data"
    }
   ],
   "source": [
    "plt.figure(figsize=(10,10))\n",
    "plt.title(f'eBoss Full Dataset Simple Model \\n 50 Fold Cross Validation.\\n 80/20 Train Test Split.\\n Accuracy Scores Mean: {np.mean(accuracy_list):0.4f} +/- {np.std(accuracy_list):0.4f} (std)')\n",
    "hist_values = plt.hist(accuracy_list, bins=6)\n",
    "plt.xlabel('Accuracy')\n",
    "plt.ylabel('Frequency')\n",
    "plt.savefig('eBossFull50CrossValSimpleModel.png')"
   ]
  },
  {
   "cell_type": "markdown",
   "metadata": {},
   "source": [
    "---"
   ]
  }
 ],
 "metadata": {
  "kernelspec": {
   "display_name": "Python 3",
   "language": "python",
   "name": "python3"
  },
  "language_info": {
   "codemirror_mode": {
    "name": "ipython",
    "version": 3
   },
   "file_extension": ".py",
   "mimetype": "text/x-python",
   "name": "python",
   "nbconvert_exporter": "python",
   "pygments_lexer": "ipython3",
   "version": "3.6.1"
  }
 },
 "nbformat": 4,
 "nbformat_minor": 2
}
