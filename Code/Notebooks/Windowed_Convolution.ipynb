{
 "cells": [
  {
   "cell_type": "markdown",
   "metadata": {},
   "source": [
    "### This notebook is for experimenting with the Keras Conv1D layer to see if a moving window convolution could be used."
   ]
  },
  {
   "cell_type": "code",
   "execution_count": 1,
   "metadata": {},
   "outputs": [
    {
     "name": "stderr",
     "output_type": "stream",
     "text": [
      "C:\\Users\\stone\\Miniconda3\\lib\\site-packages\\h5py\\__init__.py:36: FutureWarning: Conversion of the second argument of issubdtype from `float` to `np.floating` is deprecated. In future, it will be treated as `np.float64 == np.dtype(float).type`.\n",
      "  from ._conv import register_converters as _register_converters\n",
      "Using TensorFlow backend.\n"
     ]
    }
   ],
   "source": [
    "import pandas as pd\n",
    "import numpy as np\n",
    "import matplotlib.pyplot as plt\n",
    "\n",
    "from keras import backend as K\n",
    "from keras.models import Sequential\n",
    "from keras.layers import Dense, Activation, Flatten, Dropout, MaxPooling1D, Conv2D, Conv1D, InputLayer, Dropout, MaxPooling2D, BatchNormalization\n",
    "from keras.optimizers import SGD, Adam\n",
    "from keras.utils import np_utils\n",
    "from keras.initializers import Initializer, glorot_uniform\n",
    "from keras.constraints import Constraint\n",
    "from keras.wrappers.scikit_learn import KerasClassifier\n",
    "\n",
    "import tensorflow as tf"
   ]
  },
  {
   "cell_type": "code",
   "execution_count": 3,
   "metadata": {},
   "outputs": [],
   "source": [
    "def create_conv_flux_model():\n",
    "    model = Sequential()\n",
    "    model.add(InputLayer(batch_input_shape=(None,4639, 1)))\n",
    "    model.add(Conv1D(filters=64, kernel_size=2,activation= 'relu'))\n",
    "    model.add(Conv1D(filters=24, kernel_size=2,activation= 'relu'))\n",
    "    model.add(MaxPooling1D())\n",
    "    model.add(Flatten())\n",
    "    model.add(Dense(30,activation='relu'))\n",
    "    model.add(Dropout(.5))\n",
    "    model.add(Dense(20, activation='relu'))\n",
    "    model.add(Dropout(.5))\n",
    "    model.add(Dense(1, activation='sigmoid'))\n",
    "    model.compile(loss='binary_crossentropy', optimizer='adam', metrics=['accuracy'])\n",
    "    return model"
   ]
  },
  {
   "cell_type": "code",
   "execution_count": 4,
   "metadata": {},
   "outputs": [],
   "source": [
    "fake_data = np.ones((1,100,1))"
   ]
  },
  {
   "cell_type": "code",
   "execution_count": 2,
   "metadata": {},
   "outputs": [],
   "source": [
    "class WindowedInitalizer(Initializer):\n",
    "    \"\"\"\n",
    "    Initalizer used for the Windowed Convolution.\n",
    "    \"\"\"    \n",
    "\n",
    "    def __init__(self, window_vect):\n",
    "        \"\"\"\n",
    "        Saves window vect given.\n",
    "        \"\"\"\n",
    "        self.window_vect = window_vect\n",
    "    \n",
    "    def __call__(self, shape, dtype=None):\n",
    "        \"\"\"\n",
    "        Method to call when generating initil kernel.\n",
    "        \"\"\"\n",
    "        \n",
    "        # Calculates the shape for one row of the kernel.\n",
    "        window_shape = (1, shape[1], shape[2])\n",
    "\n",
    "        # Generate the kernel based on the window vector..\n",
    "        weight_list = []\n",
    "        for val in self.window_vect:\n",
    "            weight_list.append(glorot_uniform()(window_shape, dtype) if val == 1 else K.constant(0, shape=window_shape))\n",
    "\n",
    "        # Join all the rows together and make sure the shape checks out.\n",
    "        weights = K.concatenate(weight_list, 0)\n",
    "        if weights.shape != shape:\n",
    "            raise KeyError('WRONG')\n",
    "            \n",
    "        return weights\n",
    "\n",
    "class WindowedConstraint(Constraint):\n",
    "    \"\"\"\n",
    "    Constraint to apply along side with the windowed convolution.\n",
    "    \"\"\"\n",
    "    \n",
    "    \n",
    "    def __init__(self, window_vect):\n",
    "        \"\"\"\n",
    "        Make the matrix used to constraint the kernel.\n",
    "        \"\"\"\n",
    "        self.window_vect = window_vect\n",
    "        self.constraint_matrix = tf.cast(tf.diag(self.window_vect), 'float32')\n",
    "    \n",
    "    def __call__(self, w):\n",
    "        \"\"\"\n",
    "        Apply the constraint to the kernel.\n",
    "        \"\"\"\n",
    "        w = K.dot(K.transpose(w), self.constraint_matrix)\n",
    "        w = K.transpose(w)\n",
    "        return w\n",
    "\n",
    "# Example Usage.    \n",
    "window_vector = [1,1,1,0,0,0,0,1,1,1]\n",
    "second_window_vector = [1,0,0,0,1]\n",
    "def create_model():\n",
    "    model = Sequential()\n",
    "    model.add(InputLayer(batch_input_shape=(None, 100, 2)))\n",
    "    model.add(Conv1D(filters=5, kernel_size=10,\n",
    "                     kernel_initializer=WindowedInitalizer(window_vector), kernel_constraint=WindowedConstraint(window_vector), use_bias=False))\n",
    "    model.add(Conv1D(filters=2, kernel_size=5, \n",
    "                    kernel_initializer=WindowedInitalizer(second_window_vector), kernel_constraint=WindowedConstraint(second_window_vector), use_bias=False))\n",
    "    model.compile('adam', 'binary_crossentropy')\n",
    "    return  model\n",
    "mod = create_model()"
   ]
  },
  {
   "cell_type": "code",
   "execution_count": 31,
   "metadata": {},
   "outputs": [
    {
     "data": {
      "text/plain": [
       "array([[[ 0.98666847]],\n",
       "\n",
       "       [[ 0.        ]],\n",
       "\n",
       "       [[ 0.        ]],\n",
       "\n",
       "       [[ 0.        ]],\n",
       "\n",
       "       [[-0.24127936]]], dtype=float32)"
      ]
     },
     "execution_count": 31,
     "metadata": {},
     "output_type": "execute_result"
    }
   ],
   "source": [
    "x = tf.convert_to_tensor(mod.get_weights()[1])\n",
    "tf.Session().run(x)"
   ]
  },
  {
   "cell_type": "code",
   "execution_count": 110,
   "metadata": {},
   "outputs": [
    {
     "data": {
      "text/plain": [
       "(1, 87, 1)"
      ]
     },
     "execution_count": 110,
     "metadata": {},
     "output_type": "execute_result"
    }
   ],
   "source": [
    "mod.predict(fake_data[:1]).shape"
   ]
  },
  {
   "cell_type": "code",
   "execution_count": 4,
   "metadata": {},
   "outputs": [
    {
     "data": {
      "text/plain": [
       "(array([[[ 0.33609426,  0.54662156, -0.697273  , -0.5697129 ,\n",
       "          -0.15130985],\n",
       "         [-0.08651352, -0.5406983 ,  0.45375144, -0.62430406,\n",
       "          -0.47682396]],\n",
       " \n",
       "        [[ 0.03792542, -0.6094558 , -0.90444213,  0.1141597 ,\n",
       "           0.477414  ],\n",
       "         [-0.03760666,  0.10133624,  0.25666845, -0.7138198 ,\n",
       "          -0.28372544]],\n",
       " \n",
       "        [[ 0.05919898,  0.67914176,  0.8845098 ,  0.42968512,\n",
       "          -0.790707  ],\n",
       "         [-0.20054871,  0.77023244,  0.14707506, -0.51781666,\n",
       "          -0.7059072 ]],\n",
       " \n",
       "        [[ 0.        ,  0.        ,  0.        ,  0.        ,\n",
       "           0.        ],\n",
       "         [ 0.        ,  0.        ,  0.        ,  0.        ,\n",
       "           0.        ]],\n",
       " \n",
       "        [[ 0.        ,  0.        ,  0.        ,  0.        ,\n",
       "           0.        ],\n",
       "         [ 0.        ,  0.        ,  0.        ,  0.        ,\n",
       "           0.        ]],\n",
       " \n",
       "        [[ 0.        ,  0.        ,  0.        ,  0.        ,\n",
       "           0.        ],\n",
       "         [ 0.        ,  0.        ,  0.        ,  0.        ,\n",
       "           0.        ]],\n",
       " \n",
       "        [[ 0.        ,  0.        ,  0.        ,  0.        ,\n",
       "           0.        ],\n",
       "         [ 0.        ,  0.        ,  0.        ,  0.        ,\n",
       "           0.        ]],\n",
       " \n",
       "        [[ 0.00437427, -0.7712942 ,  0.61955416,  0.6574323 ,\n",
       "           0.8928435 ],\n",
       "         [ 0.28142715,  0.9192085 ,  0.42080247,  0.2037921 ,\n",
       "           0.32109773]],\n",
       " \n",
       "        [[-0.7373912 ,  0.15286398,  0.01086843,  0.5823724 ,\n",
       "           0.19672537],\n",
       "         [ 0.19647706, -0.05914819, -0.62635183,  0.34840918,\n",
       "          -0.5736927 ]],\n",
       " \n",
       "        [[ 0.21187007,  0.3610896 , -0.6479523 , -0.49785402,\n",
       "          -0.3734641 ],\n",
       "         [ 0.5886153 ,  0.4133737 , -0.6452344 , -0.35959238,\n",
       "           0.5280558 ]]], dtype=float32), (10, 2, 5))"
      ]
     },
     "execution_count": 4,
     "metadata": {},
     "output_type": "execute_result"
    }
   ],
   "source": [
    "weights = mod.get_weights()[0]\n",
    "weights, weights.shape"
   ]
  },
  {
   "cell_type": "code",
   "execution_count": 3,
   "metadata": {},
   "outputs": [
    {
     "data": {
      "text/plain": [
       "(array([[[ 0.14928663, -0.46126118],\n",
       "         [-0.7388681 ,  0.81229126],\n",
       "         [-0.14351666, -0.01900131],\n",
       "         [-0.8659764 , -0.23624492],\n",
       "         [ 0.31248045,  0.7684511 ]],\n",
       " \n",
       "        [[ 0.        ,  0.        ],\n",
       "         [ 0.        ,  0.        ],\n",
       "         [ 0.        ,  0.        ],\n",
       "         [ 0.        ,  0.        ],\n",
       "         [ 0.        ,  0.        ]],\n",
       " \n",
       "        [[ 0.        ,  0.        ],\n",
       "         [ 0.        ,  0.        ],\n",
       "         [ 0.        ,  0.        ],\n",
       "         [ 0.        ,  0.        ],\n",
       "         [ 0.        ,  0.        ]],\n",
       " \n",
       "        [[ 0.        ,  0.        ],\n",
       "         [ 0.        ,  0.        ],\n",
       "         [ 0.        ,  0.        ],\n",
       "         [ 0.        ,  0.        ],\n",
       "         [ 0.        ,  0.        ]],\n",
       " \n",
       "        [[ 0.7080611 , -0.56604826],\n",
       "         [ 0.8290849 , -0.53153384],\n",
       "         [-0.34839898, -0.16457921],\n",
       "         [ 0.04644638,  0.14801502],\n",
       "         [ 0.6786972 , -0.61518496]]], dtype=float32), (5, 5, 2))"
      ]
     },
     "execution_count": 3,
     "metadata": {},
     "output_type": "execute_result"
    }
   ],
   "source": [
    "weights = mod.get_weights()[1]\n",
    "weights, weights.shape"
   ]
  },
  {
   "cell_type": "code",
   "execution_count": 8,
   "metadata": {},
   "outputs": [],
   "source": [
    "fake_labels = np.random.randint(0,100, (10,87,2))\n",
    "fake_data = np.random.randint(0,100, (10,100,2))"
   ]
  },
  {
   "cell_type": "code",
   "execution_count": 12,
   "metadata": {},
   "outputs": [
    {
     "name": "stdout",
     "output_type": "stream",
     "text": [
      "Epoch 1/10\n",
      "10/10 [==============================] - 0s 757us/step - loss: -217.9510\n",
      "Epoch 2/10\n",
      "10/10 [==============================] - 0s 652us/step - loss: -222.4864\n",
      "Epoch 3/10\n",
      "10/10 [==============================] - 0s 602us/step - loss: -226.9231\n",
      "Epoch 4/10\n",
      "10/10 [==============================] - 0s 652us/step - loss: -232.7534\n",
      "Epoch 5/10\n",
      "10/10 [==============================] - 0s 599us/step - loss: -236.7568\n",
      "Epoch 6/10\n",
      "10/10 [==============================] - 0s 501us/step - loss: -239.3979\n",
      "Epoch 7/10\n",
      "10/10 [==============================] - 0s 599us/step - loss: -244.0278\n",
      "Epoch 8/10\n",
      "10/10 [==============================] - 0s 599us/step - loss: -247.8200\n",
      "Epoch 9/10\n",
      "10/10 [==============================] - 0s 604us/step - loss: -250.9548\n",
      "Epoch 10/10\n",
      "10/10 [==============================] - 0s 605us/step - loss: -254.2245\n"
     ]
    },
    {
     "data": {
      "text/plain": [
       "<keras.callbacks.History at 0x1d490fce550>"
      ]
     },
     "execution_count": 12,
     "metadata": {},
     "output_type": "execute_result"
    }
   ],
   "source": [
    "mod.fit(fake_data, fake_labels, epochs=10)"
   ]
  },
  {
   "cell_type": "code",
   "execution_count": 13,
   "metadata": {},
   "outputs": [
    {
     "data": {
      "text/plain": [
       "array([[[ 0.1588422 , -0.4526687 ],\n",
       "        [-0.7247966 ,  0.82106525],\n",
       "        [-0.14960739, -0.02355396],\n",
       "        [-0.87910753, -0.24500136],\n",
       "        [ 0.3020743 ,  0.75946367]],\n",
       "\n",
       "       [[ 0.        ,  0.        ],\n",
       "        [ 0.        ,  0.        ],\n",
       "        [ 0.        ,  0.        ],\n",
       "        [ 0.        ,  0.        ],\n",
       "        [ 0.        ,  0.        ]],\n",
       "\n",
       "       [[ 0.        ,  0.        ],\n",
       "        [ 0.        ,  0.        ],\n",
       "        [ 0.        ,  0.        ],\n",
       "        [ 0.        ,  0.        ],\n",
       "        [ 0.        ,  0.        ]],\n",
       "\n",
       "       [[ 0.        ,  0.        ],\n",
       "        [ 0.        ,  0.        ],\n",
       "        [ 0.        ,  0.        ],\n",
       "        [ 0.        ,  0.        ],\n",
       "        [ 0.        ,  0.        ]],\n",
       "\n",
       "       [[ 0.7181156 , -0.55724394],\n",
       "        [ 0.8424545 , -0.52256763],\n",
       "        [-0.35970205, -0.17073224],\n",
       "        [ 0.033482  ,  0.13889179],\n",
       "        [ 0.66780937, -0.6241443 ]]], dtype=float32)"
      ]
     },
     "execution_count": 13,
     "metadata": {},
     "output_type": "execute_result"
    }
   ],
   "source": [
    "mod.get_weights()[1]"
   ]
  },
  {
   "cell_type": "code",
   "execution_count": 11,
   "metadata": {},
   "outputs": [
    {
     "data": {
      "text/plain": [
       "array([[[ 0.3299878 ,  0.5493097 , -0.70447546, -0.5776629 ,\n",
       "         -0.14647587],\n",
       "        [-0.09282469, -0.532383  ,  0.44565874, -0.6329118 ,\n",
       "         -0.46787515]],\n",
       "\n",
       "       [[ 0.03192651, -0.6066033 , -0.91174626,  0.11035498,\n",
       "          0.48055667],\n",
       "        [-0.0442126 ,  0.10730062,  0.24959145, -0.7208096 ,\n",
       "         -0.2765992 ]],\n",
       "\n",
       "       [[ 0.05271503,  0.6802243 ,  0.87725013,  0.4220895 ,\n",
       "         -0.78313047],\n",
       "        [-0.20686646,  0.7703582 ,  0.13970111, -0.52505445,\n",
       "         -0.6988258 ]],\n",
       "\n",
       "       [[ 0.        ,  0.        ,  0.        ,  0.        ,\n",
       "          0.        ],\n",
       "        [ 0.        ,  0.        ,  0.        ,  0.        ,\n",
       "          0.        ]],\n",
       "\n",
       "       [[ 0.        ,  0.        ,  0.        ,  0.        ,\n",
       "          0.        ],\n",
       "        [ 0.        ,  0.        ,  0.        ,  0.        ,\n",
       "          0.        ]],\n",
       "\n",
       "       [[ 0.        ,  0.        ,  0.        ,  0.        ,\n",
       "          0.        ],\n",
       "        [ 0.        ,  0.        ,  0.        ,  0.        ,\n",
       "          0.        ]],\n",
       "\n",
       "       [[ 0.        ,  0.        ,  0.        ,  0.        ,\n",
       "          0.        ],\n",
       "        [ 0.        ,  0.        ,  0.        ,  0.        ,\n",
       "          0.        ]],\n",
       "\n",
       "       [[-0.0020104 , -0.7645979 ,  0.6121039 ,  0.6504505 ,\n",
       "          0.8995204 ],\n",
       "        [ 0.27498406,  0.9259635 ,  0.41356283,  0.19571392,\n",
       "          0.3292487 ]],\n",
       "\n",
       "       [[-0.7436159 ,  0.15833454,  0.00357065,  0.57556164,\n",
       "          0.2028975 ],\n",
       "        [ 0.19040304, -0.05474599, -0.6335446 ,  0.34164461,\n",
       "         -0.56714743]],\n",
       "\n",
       "       [[ 0.20616838,  0.36421213, -0.6558882 , -0.50512224,\n",
       "         -0.36653695],\n",
       "        [ 0.58447593,  0.41576394, -0.6522774 , -0.36676177,\n",
       "          0.5351461 ]]], dtype=float32)"
      ]
     },
     "execution_count": 11,
     "metadata": {},
     "output_type": "execute_result"
    }
   ],
   "source": [
    "mod.get_weights()[0]"
   ]
  },
  {
   "cell_type": "code",
   "execution_count": null,
   "metadata": {},
   "outputs": [],
   "source": []
  }
 ],
 "metadata": {
  "kernelspec": {
   "display_name": "Python 3",
   "language": "python",
   "name": "python3"
  },
  "language_info": {
   "codemirror_mode": {
    "name": "ipython",
    "version": 3
   },
   "file_extension": ".py",
   "mimetype": "text/x-python",
   "name": "python",
   "nbconvert_exporter": "python",
   "pygments_lexer": "ipython3",
   "version": "3.6.1"
  }
 },
 "nbformat": 4,
 "nbformat_minor": 2
}
