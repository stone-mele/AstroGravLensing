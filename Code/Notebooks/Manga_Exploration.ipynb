{
 "cells": [
  {
   "cell_type": "markdown",
   "metadata": {},
   "source": [
    "# ManGa Exploration"
   ]
  },
  {
   "cell_type": "markdown",
   "metadata": {},
   "source": [
    "## To use this notebook you need access to all the manga data which is > 60gbs"
   ]
  },
  {
   "cell_type": "code",
   "execution_count": null,
   "metadata": {},
   "outputs": [],
   "source": [
    "import pandas as pd\n",
    "import numpy as np\n",
    "import matplotlib.pyplot as plt\n",
    "from astropy.io import fits\n",
    "from glob import glob"
   ]
  },
  {
   "cell_type": "code",
   "execution_count": null,
   "metadata": {},
   "outputs": [],
   "source": [
    "manga_spectras = glob(\"../../Data/RawManga/*\")"
   ]
  },
  {
   "cell_type": "code",
   "execution_count": null,
   "metadata": {},
   "outputs": [],
   "source": [
    "spectra = fits.open(manga_spectras[0])"
   ]
  },
  {
   "cell_type": "code",
   "execution_count": null,
   "metadata": {},
   "outputs": [],
   "source": [
    "spectra.info()"
   ]
  },
  {
   "cell_type": "markdown",
   "metadata": {},
   "source": [
    "Gonna try and ensure I can create the same data that zahara has extracted."
   ]
  },
  {
   "cell_type": "code",
   "execution_count": null,
   "metadata": {},
   "outputs": [],
   "source": [
    "real_data = pd.read_csv('../../Data/Astronomy20000_Original.csv')"
   ]
  },
  {
   "cell_type": "code",
   "execution_count": null,
   "metadata": {},
   "outputs": [],
   "source": [
    "real_data.head()"
   ]
  },
  {
   "cell_type": "code",
   "execution_count": null,
   "metadata": {},
   "outputs": [],
   "source": [
    "for ix, manga_file in enumerate(manga_spectras[:100]):\n",
    "\n",
    "    spectra = fits.open(manga_file)\n",
    "    \n",
    "    # Parsing needed information from the filename.\n",
    "    identifications = spectra.filename().split('\\\\')[-1].split('_')\n",
    "    plate_id = identifications[3]\n",
    "    mjd = identifications[4]\n",
    "    fiber_id = identifications[6]\n",
    "    file_type = identifications[7].split('.')[0]\n",
    "\n",
    "    # Making masks to get out the data from zaharas datafile.\n",
    "    plate_mask = real_data.id.str.split('_').str.get(0) == plate_id\n",
    "    mjd_mask = real_data.id.str.split('_').str.get(1) == mjd\n",
    "    fiber_mask = real_data.id.str.split('_').str.get(3) == fiber_id\n",
    "    type_mask = real_data.id.str.split('_').str.get(4) == file_type\n",
    "\n",
    "    # Displaying it for ehking purposes.\n",
    "    #print(plate_id, mjd, fiber_id, file_type)\n",
    "\n",
    "    if len(real_data[plate_mask & mjd_mask & type_mask & fiber_mask]):\n",
    "        print(plate_id, mjd, fiber_id, file_type)\n",
    "        print(ix)\n",
    "        \n",
    "        if ix == 5:\n",
    "            break"
   ]
  },
  {
   "cell_type": "code",
   "execution_count": null,
   "metadata": {},
   "outputs": [],
   "source": [
    "# Getting all the base filenames.\n",
    "file_list = list(map(lambda x: x.split('\\\\')[-1], manga_spectras))\n",
    "\n",
    "# Getting file specified.\n",
    "spectra = fits.open(manga_spectras[0])\n",
    "\n",
    "# Generating gauss spectra file name and retreiving it.\n",
    "gauss_spectra_file = spectra.filename().split('\\\\')[-1].replace(file_type, file_type+'GAUSS')\n",
    "gauss_spectra = fits.open(manga_spectras[file_list.index(gauss_spectra_file)])\n",
    "\n",
    "# Parsing needed information from the filename.\n",
    "identifications = spectra.filename().split('\\\\')[-1].split('_')\n",
    "plate_id = identifications[3]\n",
    "mjd = identifications[4]\n",
    "fiber_id = identifications[6]\n",
    "file_type = identifications[7].split('.')[0]\n",
    "\n",
    "# Making masks to get out the data from zaharas datafile.\n",
    "plate_mask = real_data.id.str.split('_').str.get(0) == plate_id\n",
    "mjd_mask = real_data.id.str.split('_').str.get(1) == mjd\n",
    "fiber_mask = real_data.id.str.split('_').str.get(3) == fiber_id\n",
    "type_mask = real_data.id.str.split('_').str.get(4) == file_type\n",
    "\n",
    "print(plate_id, mjd, fiber_id, file_type)\n",
    "\n",
    "real_data[plate_mask & mjd_mask & type_mask & fiber_mask]"
   ]
  },
  {
   "cell_type": "code",
   "execution_count": null,
   "metadata": {},
   "outputs": [],
   "source": [
    "spectra.info()"
   ]
  },
  {
   "cell_type": "code",
   "execution_count": null,
   "metadata": {},
   "outputs": [],
   "source": [
    "spectra[1].data"
   ]
  },
  {
   "cell_type": "code",
   "execution_count": null,
   "metadata": {},
   "outputs": [],
   "source": [
    "gauss_spectra[0].header"
   ]
  },
  {
   "cell_type": "code",
   "execution_count": null,
   "metadata": {},
   "outputs": [],
   "source": [
    "gauss_spectra[0].data"
   ]
  }
 ],
 "metadata": {
  "kernelspec": {
   "display_name": "Python 3",
   "language": "python",
   "name": "python3"
  },
  "language_info": {
   "codemirror_mode": {
    "name": "ipython",
    "version": 3
   },
   "file_extension": ".py",
   "mimetype": "text/x-python",
   "name": "python",
   "nbconvert_exporter": "python",
   "pygments_lexer": "ipython3",
   "version": "3.6.1"
  }
 },
 "nbformat": 4,
 "nbformat_minor": 2
}
