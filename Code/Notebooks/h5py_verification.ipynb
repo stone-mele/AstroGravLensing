{
 "cells": [
  {
   "cell_type": "markdown",
   "metadata": {},
   "source": [
    "## h5py Verification"
   ]
  },
  {
   "cell_type": "markdown",
   "metadata": {},
   "source": [
    "This notebook is just to verify that I inserted the correct information into the h5py file so I can sleep better at night."
   ]
  },
  {
   "cell_type": "code",
   "execution_count": 2,
   "metadata": {},
   "outputs": [],
   "source": [
    "import pandas as pd\n",
    "import numpy as np\n",
    "import h5py\n",
    "\n",
    "from astropy.io import fits\n",
    "from Modeling import EbossWaveSpectraDataset, MangaWaveSpectraDataset"
   ]
  },
  {
   "cell_type": "markdown",
   "metadata": {},
   "source": [
    "Full set"
   ]
  },
  {
   "cell_type": "code",
   "execution_count": 22,
   "metadata": {},
   "outputs": [],
   "source": [
    "flux_eboss = h5py.File('../../Data/eboss_flux_full.hdf5', 'r')\n",
    "list(flux_eboss.keys())\n",
    "ids, X, Y = np.array(flux_eboss['flux_ids']).flatten(), np.array(flux_eboss['flux_values']), np.array(flux_eboss['flux_labels']).flatten()\n",
    "verification_details = EbossWaveSpectraDataset('eboss_locations.csv')"
   ]
  },
  {
   "cell_type": "markdown",
   "metadata": {},
   "source": [
    "Oneline set"
   ]
  },
  {
   "cell_type": "code",
   "execution_count": 7,
   "metadata": {},
   "outputs": [],
   "source": [
    "oneline_flux_eboss = h5py.File('../../Data/eboss_flux_oneline.hdf5', 'r')\n",
    "list(oneline_flux_eboss.keys())\n",
    "ids, X, Y = np.array(oneline_flux_eboss['flux_ids']).flatten(), np.array(oneline_flux_eboss['flux_values']), np.array(oneline_flux_eboss['flux_labels']).flatten()\n",
    "verification_details = EbossWaveSpectraDataset('eboss_locations_oneline.csv')"
   ]
  },
  {
   "cell_type": "markdown",
   "metadata": {},
   "source": [
    "Multiline set"
   ]
  },
  {
   "cell_type": "code",
   "execution_count": 10,
   "metadata": {},
   "outputs": [],
   "source": [
    "multiline_flux_eboss = h5py.File('../../Data/eboss_flux_multiline.hdf5', 'r')\n",
    "list(multiline_flux_eboss.keys())\n",
    "ids, X, Y = np.array(multiline_flux_eboss['flux_ids']).flatten(), np.array(multiline_flux_eboss['flux_values']), np.array(multiline_flux_eboss['flux_labels']).flatten()\n",
    "verification_details = EbossWaveSpectraDataset('eboss_locations_multiline.csv')"
   ]
  },
  {
   "cell_type": "markdown",
   "metadata": {},
   "source": [
    "full manga"
   ]
  },
  {
   "cell_type": "code",
   "execution_count": 12,
   "metadata": {},
   "outputs": [],
   "source": [
    "flux_manga = h5py.File('../../Data/manga_flux.hdf5', 'r')\n",
    "list(flux_manga.keys())\n",
    "ids, X, Y = np.array(flux_manga['flux_ids']).flatten(), np.array(flux_manga['flux_values']), np.array(flux_manga['flux_labels']).flatten()\n",
    "verification_details = MangaWaveSpectraDataset('manga_locations.csv')"
   ]
  },
  {
   "cell_type": "markdown",
   "metadata": {},
   "source": [
    "oneline manga"
   ]
  },
  {
   "cell_type": "code",
   "execution_count": 18,
   "metadata": {},
   "outputs": [],
   "source": [
    "flux_manga_oneline = h5py.File('../../Data/manga_flux_oneline.hdf5', 'r')\n",
    "list(flux_manga_oneline.keys())\n",
    "ids, X, Y = np.array(flux_manga_oneline['flux_ids']).flatten(), np.array(flux_manga_oneline['flux_values']), np.array(flux_manga_oneline['flux_labels']).flatten()\n",
    "verification_details = MangaWaveSpectraDataset('manga_locations_oneline.csv')"
   ]
  },
  {
   "cell_type": "markdown",
   "metadata": {},
   "source": [
    "multiline manga"
   ]
  },
  {
   "cell_type": "code",
   "execution_count": 20,
   "metadata": {},
   "outputs": [],
   "source": [
    "flux_manga_multiline = h5py.File('../../Data/manga_flux_multiline.hdf5', 'r')\n",
    "list(flux_manga_multiline.keys())\n",
    "ids, X, Y = np.array(flux_manga_multiline['flux_ids']).flatten(), np.array(flux_manga_multiline['flux_values']), np.array(flux_manga_multiline['flux_labels']).flatten()\n",
    "verification_details = MangaWaveSpectraDataset('manga_locations_multiline.csv')"
   ]
  },
  {
   "cell_type": "code",
   "execution_count": 23,
   "metadata": {},
   "outputs": [
    {
     "name": "stdout",
     "output_type": "stream",
     "text": [
      "281\n",
      "281\n",
      "281\n",
      "All Clear\n"
     ]
    }
   ],
   "source": [
    "print(len(ids))\n",
    "print(len(X))\n",
    "print(len(Y))\n",
    "for id, x, y in zip(ids, X, Y):\n",
    "    id = id.decode('utf-8')\n",
    "    \n",
    "    \n",
    "    ix = verification_details.spectra_infos[verification_details.spectra_infos.id == id].index\n",
    "    \n",
    "    if len(ix) != 1:\n",
    "        print(\"Data inconsistant\")\n",
    "        break\n",
    "    ix = ix[0]\n",
    "    \n",
    "    \n",
    "    flux, deets = verification_details[ix]\n",
    "    \n",
    "    if not all(np.equal(x, flux)):\n",
    "        print('flux not the same')\n",
    "        break\n",
    "        \n",
    "    if deets.id != id:\n",
    "        print('not the same id')\n",
    "        break\n",
    "        \n",
    "    if id.replace('fiber_', '') not in deets.location.replace('fiber_', ''):\n",
    "        print('location and id do not match.')\n",
    "        break\n",
    "        \n",
    "        \n",
    "    hit = 1 if deets.hit == 'good' else 0\n",
    "    if y != hit:\n",
    "        print('hit not the same')\n",
    "        break\n",
    "else:\n",
    "    print('All Clear')\n",
    "flux_eboss.close()"
   ]
  }
 ],
 "metadata": {
  "kernelspec": {
   "display_name": "Python 3",
   "language": "python",
   "name": "python3"
  },
  "language_info": {
   "codemirror_mode": {
    "name": "ipython",
    "version": 3
   },
   "file_extension": ".py",
   "mimetype": "text/x-python",
   "name": "python",
   "nbconvert_exporter": "python",
   "pygments_lexer": "ipython3",
   "version": "3.6.1"
  }
 },
 "nbformat": 4,
 "nbformat_minor": 2
}
